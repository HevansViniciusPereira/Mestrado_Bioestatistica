{
  "cells": [
    {
      "cell_type": "markdown",
      "metadata": {
        "id": "Mz_s0kFUPyPI"
      },
      "source": [
        "# Importando dados"
      ]
    },
    {
      "cell_type": "code",
      "execution_count": 1,
      "metadata": {
        "id": "106N56fUPyPX"
      },
      "outputs": [],
      "source": [
        "import pandas as pd\n",
        "import numpy as np\n",
        "import seaborn as sns\n",
        "import matplotlib.pyplot as plt\n",
        "from sklearn.model_selection import RandomizedSearchCV, train_test_split\n",
        "from imblearn.under_sampling import RandomUnderSampler\n",
        "from sklearn.preprocessing import MinMaxScaler\n",
        "from sklearn.linear_model import LogisticRegression\n",
        "from sklearn.ensemble import RandomForestClassifier\n",
        "from sklearn.svm import SVC\n",
        "from sklearn.metrics import classification_report, roc_curve, roc_auc_score, accuracy_score\n",
        "from sklearn.metrics import confusion_matrix, recall_score, precision_score, f1_score\n",
        "import pickle\n",
        "\n",
        "import warnings\n",
        "warnings.filterwarnings('ignore')"
      ]
    },
    {
      "cell_type": "code",
      "source": [
        "def matriz_confusao(y_test, y_pred):\n",
        "    matriz = confusion_matrix(y_test, y_pred)\n",
        "\n",
        "    fig, (ax1, ax2) = plt.subplots(1,2, figsize=(8,3))\n",
        "    fig.suptitle('Matriz de Confusão', y=1.1)\n",
        "    # criando mapa de calor com valores absolutos\n",
        "    sns.heatmap(matriz, annot=True, fmt='d', cmap='Blues', ax=ax1)\n",
        "    ax1.set_xlabel('Valores Preditos')\n",
        "    ax1.set_ylabel('Valores Observados')\n",
        "\n",
        "    # criando mapa de calor com valores relativos\n",
        "    sns.heatmap(matriz / np.sum(matriz), annot=True, fmt='.2%', cmap='Blues', ax=ax2)\n",
        "    ax2.set_xlabel('Valores Preditos')\n",
        "    ax2.set_ylabel('Valores Observados')\n",
        "\n",
        "    fig.tight_layout()"
      ],
      "metadata": {
        "id": "lJ42ZUs0RtEn"
      },
      "execution_count": 2,
      "outputs": []
    },
    {
      "cell_type": "code",
      "source": [
        "def curva_ROC(y_test, y_pred, model):\n",
        "    logit_roc_auc = roc_auc_score(y_test, y_pred)\n",
        "    fpr, tpr, thresholds = roc_curve(y_test, model.predict_proba(X_test)[:,1])\n",
        "    plt.figure(figsize=(4,2))\n",
        "    plt.plot(fpr, tpr, label=f'Regressão Logística (área = {round(logit_roc_auc, 2)})')\n",
        "    plt.plot([0, 1], [0, 1],'r--')\n",
        "    plt.xlabel('Taxa de Falso Positivo')\n",
        "    plt.ylabel('Taxa de Verdadeiro Positivo')\n",
        "    plt.title('Curva ROC')\n",
        "    plt.legend(loc=\"lower right\");"
      ],
      "metadata": {
        "id": "eA-2MLwTX6LP"
      },
      "execution_count": 3,
      "outputs": []
    },
    {
      "cell_type": "code",
      "execution_count": 4,
      "metadata": {
        "colab": {
          "base_uri": "https://localhost:8080/",
          "height": 255
        },
        "id": "FkUAS4wAPyPa",
        "outputId": "27816940-ea7c-4f49-c684-29160f24ab79",
        "scrolled": true
      },
      "outputs": [
        {
          "output_type": "execute_result",
          "data": {
            "text/plain": [
              "   NU_IDADE_N  EVOLUCAO  CS_SEXO_1  CS_RACA_1  CS_RACA_2  CS_RACA_3  \\\n",
              "0          75         1          0          0          0          0   \n",
              "1         101         1          1          0          0          0   \n",
              "2          82         0          1          1          0          0   \n",
              "3          94         1          1          0          0          0   \n",
              "4          38         0          0          0          0          0   \n",
              "\n",
              "   CS_ESCOL_N_1  CS_ESCOL_N_3  CS_ESCOL_N_4  NOSOCOMIAL_1  ...  UTI_1  \\\n",
              "0             1             0             0             0  ...      1   \n",
              "1             0             0             0             0  ...      1   \n",
              "2             1             0             0             0  ...      0   \n",
              "3             1             0             0             0  ...      0   \n",
              "4             0             1             0             0  ...      0   \n",
              "\n",
              "   SUPORT_VEN_1  DOR_ABD_1  PERD_OLFT_1  PERD_PALA_1  VACINA_COV_1  REGIAO_0  \\\n",
              "0             0          0            0            0             1         1   \n",
              "1             0          0            0            0             1         0   \n",
              "2             0          0            0            0             1         0   \n",
              "3             0          0            0            0             0         0   \n",
              "4             0          0            1            1             1         0   \n",
              "\n",
              "   REGIAO_1  REGIAO_2  REGIAO_4  \n",
              "0         0         0         0  \n",
              "1         1         0         0  \n",
              "2         0         0         1  \n",
              "3         1         0         0  \n",
              "4         1         0         0  \n",
              "\n",
              "[5 rows x 41 columns]"
            ],
            "text/html": [
              "\n",
              "  <div id=\"df-b807367f-93b3-4641-bd59-41099675f4e8\" class=\"colab-df-container\">\n",
              "    <div>\n",
              "<style scoped>\n",
              "    .dataframe tbody tr th:only-of-type {\n",
              "        vertical-align: middle;\n",
              "    }\n",
              "\n",
              "    .dataframe tbody tr th {\n",
              "        vertical-align: top;\n",
              "    }\n",
              "\n",
              "    .dataframe thead th {\n",
              "        text-align: right;\n",
              "    }\n",
              "</style>\n",
              "<table border=\"1\" class=\"dataframe\">\n",
              "  <thead>\n",
              "    <tr style=\"text-align: right;\">\n",
              "      <th></th>\n",
              "      <th>NU_IDADE_N</th>\n",
              "      <th>EVOLUCAO</th>\n",
              "      <th>CS_SEXO_1</th>\n",
              "      <th>CS_RACA_1</th>\n",
              "      <th>CS_RACA_2</th>\n",
              "      <th>CS_RACA_3</th>\n",
              "      <th>CS_ESCOL_N_1</th>\n",
              "      <th>CS_ESCOL_N_3</th>\n",
              "      <th>CS_ESCOL_N_4</th>\n",
              "      <th>NOSOCOMIAL_1</th>\n",
              "      <th>...</th>\n",
              "      <th>UTI_1</th>\n",
              "      <th>SUPORT_VEN_1</th>\n",
              "      <th>DOR_ABD_1</th>\n",
              "      <th>PERD_OLFT_1</th>\n",
              "      <th>PERD_PALA_1</th>\n",
              "      <th>VACINA_COV_1</th>\n",
              "      <th>REGIAO_0</th>\n",
              "      <th>REGIAO_1</th>\n",
              "      <th>REGIAO_2</th>\n",
              "      <th>REGIAO_4</th>\n",
              "    </tr>\n",
              "  </thead>\n",
              "  <tbody>\n",
              "    <tr>\n",
              "      <th>0</th>\n",
              "      <td>75</td>\n",
              "      <td>1</td>\n",
              "      <td>0</td>\n",
              "      <td>0</td>\n",
              "      <td>0</td>\n",
              "      <td>0</td>\n",
              "      <td>1</td>\n",
              "      <td>0</td>\n",
              "      <td>0</td>\n",
              "      <td>0</td>\n",
              "      <td>...</td>\n",
              "      <td>1</td>\n",
              "      <td>0</td>\n",
              "      <td>0</td>\n",
              "      <td>0</td>\n",
              "      <td>0</td>\n",
              "      <td>1</td>\n",
              "      <td>1</td>\n",
              "      <td>0</td>\n",
              "      <td>0</td>\n",
              "      <td>0</td>\n",
              "    </tr>\n",
              "    <tr>\n",
              "      <th>1</th>\n",
              "      <td>101</td>\n",
              "      <td>1</td>\n",
              "      <td>1</td>\n",
              "      <td>0</td>\n",
              "      <td>0</td>\n",
              "      <td>0</td>\n",
              "      <td>0</td>\n",
              "      <td>0</td>\n",
              "      <td>0</td>\n",
              "      <td>0</td>\n",
              "      <td>...</td>\n",
              "      <td>1</td>\n",
              "      <td>0</td>\n",
              "      <td>0</td>\n",
              "      <td>0</td>\n",
              "      <td>0</td>\n",
              "      <td>1</td>\n",
              "      <td>0</td>\n",
              "      <td>1</td>\n",
              "      <td>0</td>\n",
              "      <td>0</td>\n",
              "    </tr>\n",
              "    <tr>\n",
              "      <th>2</th>\n",
              "      <td>82</td>\n",
              "      <td>0</td>\n",
              "      <td>1</td>\n",
              "      <td>1</td>\n",
              "      <td>0</td>\n",
              "      <td>0</td>\n",
              "      <td>1</td>\n",
              "      <td>0</td>\n",
              "      <td>0</td>\n",
              "      <td>0</td>\n",
              "      <td>...</td>\n",
              "      <td>0</td>\n",
              "      <td>0</td>\n",
              "      <td>0</td>\n",
              "      <td>0</td>\n",
              "      <td>0</td>\n",
              "      <td>1</td>\n",
              "      <td>0</td>\n",
              "      <td>0</td>\n",
              "      <td>0</td>\n",
              "      <td>1</td>\n",
              "    </tr>\n",
              "    <tr>\n",
              "      <th>3</th>\n",
              "      <td>94</td>\n",
              "      <td>1</td>\n",
              "      <td>1</td>\n",
              "      <td>0</td>\n",
              "      <td>0</td>\n",
              "      <td>0</td>\n",
              "      <td>1</td>\n",
              "      <td>0</td>\n",
              "      <td>0</td>\n",
              "      <td>0</td>\n",
              "      <td>...</td>\n",
              "      <td>0</td>\n",
              "      <td>0</td>\n",
              "      <td>0</td>\n",
              "      <td>0</td>\n",
              "      <td>0</td>\n",
              "      <td>0</td>\n",
              "      <td>0</td>\n",
              "      <td>1</td>\n",
              "      <td>0</td>\n",
              "      <td>0</td>\n",
              "    </tr>\n",
              "    <tr>\n",
              "      <th>4</th>\n",
              "      <td>38</td>\n",
              "      <td>0</td>\n",
              "      <td>0</td>\n",
              "      <td>0</td>\n",
              "      <td>0</td>\n",
              "      <td>0</td>\n",
              "      <td>0</td>\n",
              "      <td>1</td>\n",
              "      <td>0</td>\n",
              "      <td>0</td>\n",
              "      <td>...</td>\n",
              "      <td>0</td>\n",
              "      <td>0</td>\n",
              "      <td>0</td>\n",
              "      <td>1</td>\n",
              "      <td>1</td>\n",
              "      <td>1</td>\n",
              "      <td>0</td>\n",
              "      <td>1</td>\n",
              "      <td>0</td>\n",
              "      <td>0</td>\n",
              "    </tr>\n",
              "  </tbody>\n",
              "</table>\n",
              "<p>5 rows × 41 columns</p>\n",
              "</div>\n",
              "    <div class=\"colab-df-buttons\">\n",
              "\n",
              "  <div class=\"colab-df-container\">\n",
              "    <button class=\"colab-df-convert\" onclick=\"convertToInteractive('df-b807367f-93b3-4641-bd59-41099675f4e8')\"\n",
              "            title=\"Convert this dataframe to an interactive table.\"\n",
              "            style=\"display:none;\">\n",
              "\n",
              "  <svg xmlns=\"http://www.w3.org/2000/svg\" height=\"24px\" viewBox=\"0 -960 960 960\">\n",
              "    <path d=\"M120-120v-720h720v720H120Zm60-500h600v-160H180v160Zm220 220h160v-160H400v160Zm0 220h160v-160H400v160ZM180-400h160v-160H180v160Zm440 0h160v-160H620v160ZM180-180h160v-160H180v160Zm440 0h160v-160H620v160Z\"/>\n",
              "  </svg>\n",
              "    </button>\n",
              "\n",
              "  <style>\n",
              "    .colab-df-container {\n",
              "      display:flex;\n",
              "      gap: 12px;\n",
              "    }\n",
              "\n",
              "    .colab-df-convert {\n",
              "      background-color: #E8F0FE;\n",
              "      border: none;\n",
              "      border-radius: 50%;\n",
              "      cursor: pointer;\n",
              "      display: none;\n",
              "      fill: #1967D2;\n",
              "      height: 32px;\n",
              "      padding: 0 0 0 0;\n",
              "      width: 32px;\n",
              "    }\n",
              "\n",
              "    .colab-df-convert:hover {\n",
              "      background-color: #E2EBFA;\n",
              "      box-shadow: 0px 1px 2px rgba(60, 64, 67, 0.3), 0px 1px 3px 1px rgba(60, 64, 67, 0.15);\n",
              "      fill: #174EA6;\n",
              "    }\n",
              "\n",
              "    .colab-df-buttons div {\n",
              "      margin-bottom: 4px;\n",
              "    }\n",
              "\n",
              "    [theme=dark] .colab-df-convert {\n",
              "      background-color: #3B4455;\n",
              "      fill: #D2E3FC;\n",
              "    }\n",
              "\n",
              "    [theme=dark] .colab-df-convert:hover {\n",
              "      background-color: #434B5C;\n",
              "      box-shadow: 0px 1px 3px 1px rgba(0, 0, 0, 0.15);\n",
              "      filter: drop-shadow(0px 1px 2px rgba(0, 0, 0, 0.3));\n",
              "      fill: #FFFFFF;\n",
              "    }\n",
              "  </style>\n",
              "\n",
              "    <script>\n",
              "      const buttonEl =\n",
              "        document.querySelector('#df-b807367f-93b3-4641-bd59-41099675f4e8 button.colab-df-convert');\n",
              "      buttonEl.style.display =\n",
              "        google.colab.kernel.accessAllowed ? 'block' : 'none';\n",
              "\n",
              "      async function convertToInteractive(key) {\n",
              "        const element = document.querySelector('#df-b807367f-93b3-4641-bd59-41099675f4e8');\n",
              "        const dataTable =\n",
              "          await google.colab.kernel.invokeFunction('convertToInteractive',\n",
              "                                                    [key], {});\n",
              "        if (!dataTable) return;\n",
              "\n",
              "        const docLinkHtml = 'Like what you see? Visit the ' +\n",
              "          '<a target=\"_blank\" href=https://colab.research.google.com/notebooks/data_table.ipynb>data table notebook</a>'\n",
              "          + ' to learn more about interactive tables.';\n",
              "        element.innerHTML = '';\n",
              "        dataTable['output_type'] = 'display_data';\n",
              "        await google.colab.output.renderOutput(dataTable, element);\n",
              "        const docLink = document.createElement('div');\n",
              "        docLink.innerHTML = docLinkHtml;\n",
              "        element.appendChild(docLink);\n",
              "      }\n",
              "    </script>\n",
              "  </div>\n",
              "\n",
              "\n",
              "<div id=\"df-5c269b7f-6dc0-41c3-8f69-f6d2ab3f9338\">\n",
              "  <button class=\"colab-df-quickchart\" onclick=\"quickchart('df-5c269b7f-6dc0-41c3-8f69-f6d2ab3f9338')\"\n",
              "            title=\"Suggest charts.\"\n",
              "            style=\"display:none;\">\n",
              "\n",
              "<svg xmlns=\"http://www.w3.org/2000/svg\" height=\"24px\"viewBox=\"0 0 24 24\"\n",
              "     width=\"24px\">\n",
              "    <g>\n",
              "        <path d=\"M19 3H5c-1.1 0-2 .9-2 2v14c0 1.1.9 2 2 2h14c1.1 0 2-.9 2-2V5c0-1.1-.9-2-2-2zM9 17H7v-7h2v7zm4 0h-2V7h2v10zm4 0h-2v-4h2v4z\"/>\n",
              "    </g>\n",
              "</svg>\n",
              "  </button>\n",
              "\n",
              "<style>\n",
              "  .colab-df-quickchart {\n",
              "    background-color: #E8F0FE;\n",
              "    border: none;\n",
              "    border-radius: 50%;\n",
              "    cursor: pointer;\n",
              "    display: none;\n",
              "    fill: #1967D2;\n",
              "    height: 32px;\n",
              "    padding: 0 0 0 0;\n",
              "    width: 32px;\n",
              "  }\n",
              "\n",
              "  .colab-df-quickchart:hover {\n",
              "    background-color: #E2EBFA;\n",
              "    box-shadow: 0px 1px 2px rgba(60, 64, 67, 0.3), 0px 1px 3px 1px rgba(60, 64, 67, 0.15);\n",
              "    fill: #174EA6;\n",
              "  }\n",
              "\n",
              "  [theme=dark] .colab-df-quickchart {\n",
              "    background-color: #3B4455;\n",
              "    fill: #D2E3FC;\n",
              "  }\n",
              "\n",
              "  [theme=dark] .colab-df-quickchart:hover {\n",
              "    background-color: #434B5C;\n",
              "    box-shadow: 0px 1px 3px 1px rgba(0, 0, 0, 0.15);\n",
              "    filter: drop-shadow(0px 1px 2px rgba(0, 0, 0, 0.3));\n",
              "    fill: #FFFFFF;\n",
              "  }\n",
              "</style>\n",
              "\n",
              "  <script>\n",
              "    async function quickchart(key) {\n",
              "      const charts = await google.colab.kernel.invokeFunction(\n",
              "          'suggestCharts', [key], {});\n",
              "    }\n",
              "    (() => {\n",
              "      let quickchartButtonEl =\n",
              "        document.querySelector('#df-5c269b7f-6dc0-41c3-8f69-f6d2ab3f9338 button');\n",
              "      quickchartButtonEl.style.display =\n",
              "        google.colab.kernel.accessAllowed ? 'block' : 'none';\n",
              "    })();\n",
              "  </script>\n",
              "</div>\n",
              "    </div>\n",
              "  </div>\n"
            ]
          },
          "metadata": {},
          "execution_count": 4
        }
      ],
      "source": [
        "dados = pd.read_csv('dados.csv')\n",
        "dados.head()"
      ]
    },
    {
      "cell_type": "markdown",
      "metadata": {
        "id": "YpDWxYBTpyHg"
      },
      "source": [
        "# Classificação\n"
      ]
    },
    {
      "cell_type": "code",
      "execution_count": 5,
      "metadata": {
        "id": "fQC4Nf6NPyPe"
      },
      "outputs": [],
      "source": [
        "X = dados.drop('EVOLUCAO', axis=1)\n",
        "y = dados['EVOLUCAO']"
      ]
    },
    {
      "cell_type": "code",
      "execution_count": 6,
      "metadata": {
        "colab": {
          "base_uri": "https://localhost:8080/"
        },
        "id": "8VJ_-FBYPyPe",
        "outputId": "2da91d0b-4a99-47c9-c262-25ef145e4faa"
      },
      "outputs": [
        {
          "output_type": "execute_result",
          "data": {
            "text/plain": [
              "0    37113\n",
              "1    19903\n",
              "Name: EVOLUCAO, dtype: int64"
            ]
          },
          "metadata": {},
          "execution_count": 6
        }
      ],
      "source": [
        "y.value_counts()"
      ]
    },
    {
      "cell_type": "markdown",
      "metadata": {
        "id": "a0-xO-auPyPg"
      },
      "source": [
        "A variável `EVOLUCAO` está desbalanceda, portanto vamos usar Undersampling."
      ]
    },
    {
      "cell_type": "code",
      "execution_count": 7,
      "metadata": {
        "id": "zQyaQ43GPyPh"
      },
      "outputs": [],
      "source": [
        "undersample = RandomUnderSampler(sampling_strategy='majority')\n",
        "X, y = undersample.fit_resample(X, y)"
      ]
    },
    {
      "cell_type": "code",
      "execution_count": 8,
      "metadata": {
        "colab": {
          "base_uri": "https://localhost:8080/"
        },
        "id": "I2X7Rg70PyPi",
        "outputId": "2ebc41f1-fd4c-4592-a204-50e65548d69e"
      },
      "outputs": [
        {
          "output_type": "stream",
          "name": "stdout",
          "text": [
            "(57016, 41)\n",
            "(39806, 40)\n"
          ]
        }
      ],
      "source": [
        "colunas = X.columns\n",
        "print(dados.shape)\n",
        "print(X.shape)"
      ]
    },
    {
      "cell_type": "code",
      "execution_count": 9,
      "metadata": {
        "id": "D0tPVoxvPyPj"
      },
      "outputs": [],
      "source": [
        "X_train, X_test, y_train, y_test = train_test_split(X, y, random_state=42, test_size=0.3, stratify=y)"
      ]
    },
    {
      "cell_type": "markdown",
      "metadata": {
        "id": "tmV_VepWPyPk"
      },
      "source": [
        "A variável `NU_IDADE_N` é a única que não é binária, portanto vamos aplicar uma transformação MinMax nesta variável."
      ]
    },
    {
      "cell_type": "code",
      "execution_count": 10,
      "metadata": {
        "id": "WGwVLxasPyPk"
      },
      "outputs": [],
      "source": [
        "scaler = MinMaxScaler()\n",
        "X_train['NU_IDADE_N'] = scaler.fit_transform(X_train['NU_IDADE_N'].values.reshape(-1,1))\n",
        "X_test['NU_IDADE_N'] = scaler.transform(X_test['NU_IDADE_N'].values.reshape(-1,1))"
      ]
    },
    {
      "cell_type": "markdown",
      "metadata": {
        "id": "y_TmAszuPyPl"
      },
      "source": [
        "## Regressão Logística - sklearn"
      ]
    },
    {
      "cell_type": "code",
      "execution_count": 11,
      "metadata": {
        "id": "aDMKoKR_PyPm"
      },
      "outputs": [],
      "source": [
        "clf1 = LogisticRegression(class_weight='balanced', random_state=42)"
      ]
    },
    {
      "cell_type": "code",
      "execution_count": 12,
      "metadata": {
        "colab": {
          "base_uri": "https://localhost:8080/"
        },
        "id": "IoxB1OJpPyPn",
        "outputId": "bdd1da7d-186b-484c-a7eb-2b0044ae34cd"
      },
      "outputs": [
        {
          "output_type": "stream",
          "name": "stdout",
          "text": [
            "Fitting 5 folds for each of 10 candidates, totalling 50 fits\n"
          ]
        }
      ],
      "source": [
        "parameters_logReg = {'penalty': ['l1', 'l2','elasticnet',None],\n",
        "                    'C': [0.001, 0.01, 0.1, 1, 10],\n",
        "                    'solver': ['lbfgs','liblinear','newton-cg'],\n",
        "                  }\n",
        "\n",
        "grid_clf1 = RandomizedSearchCV(clf1, parameters_logReg, random_state=42,\n",
        "                                  cv=5, verbose=2, n_jobs=-1).fit(X_train, y_train)"
      ]
    },
    {
      "cell_type": "code",
      "execution_count": 13,
      "metadata": {
        "colab": {
          "base_uri": "https://localhost:8080/"
        },
        "id": "JSCUs15FPyPn",
        "outputId": "bc41cfdd-265a-421d-8b09-2014afe4a13c"
      },
      "outputs": [
        {
          "output_type": "stream",
          "name": "stdout",
          "text": [
            "RandomizedSearchCV Best Params: {'solver': 'lbfgs', 'penalty': None, 'C': 1}\n"
          ]
        }
      ],
      "source": [
        "print(f'RandomizedSearchCV Best Params: {grid_clf1.best_params_}')"
      ]
    },
    {
      "cell_type": "code",
      "execution_count": 14,
      "metadata": {
        "colab": {
          "base_uri": "https://localhost:8080/"
        },
        "id": "InThu8pHPyPo",
        "outputId": "5f585669-7df2-4a11-dbcf-adabad3e448c"
      },
      "outputs": [
        {
          "output_type": "execute_result",
          "data": {
            "text/plain": [
              "{'C': 1,\n",
              " 'class_weight': 'balanced',\n",
              " 'dual': False,\n",
              " 'fit_intercept': True,\n",
              " 'intercept_scaling': 1,\n",
              " 'l1_ratio': None,\n",
              " 'max_iter': 100,\n",
              " 'multi_class': 'auto',\n",
              " 'n_jobs': None,\n",
              " 'penalty': None,\n",
              " 'random_state': 42,\n",
              " 'solver': 'lbfgs',\n",
              " 'tol': 0.0001,\n",
              " 'verbose': 0,\n",
              " 'warm_start': False}"
            ]
          },
          "metadata": {},
          "execution_count": 14
        }
      ],
      "source": [
        "grid_clf1 = grid_clf1.best_estimator_\n",
        "grid_clf1.get_params()"
      ]
    },
    {
      "cell_type": "code",
      "execution_count": 15,
      "metadata": {
        "colab": {
          "base_uri": "https://localhost:8080/"
        },
        "id": "TaOkziJ6PyPp",
        "outputId": "2949c05a-2caf-45c3-861f-cf2b60818cd3"
      },
      "outputs": [
        {
          "output_type": "stream",
          "name": "stdout",
          "text": [
            "[-2.15290028]\n"
          ]
        }
      ],
      "source": [
        "print(grid_clf1.intercept_)"
      ]
    },
    {
      "cell_type": "code",
      "execution_count": 16,
      "metadata": {
        "colab": {
          "base_uri": "https://localhost:8080/"
        },
        "id": "XUrvqGZrPyP_",
        "outputId": "cc5e264f-edbe-44bd-ade6-349224638bb5"
      },
      "outputs": [
        {
          "output_type": "stream",
          "name": "stdout",
          "text": [
            "Variável: NU_IDADE_N, Importância: 3.3606368064737415\n",
            "Variável: CS_SEXO_1, Importância: -0.19072224972749818\n",
            "Variável: CS_RACA_1, Importância: 0.18512751353736914\n",
            "Variável: CS_RACA_2, Importância: 0.16094692057931737\n",
            "Variável: CS_RACA_3, Importância: 0.751713593368169\n",
            "Variável: CS_ESCOL_N_1, Importância: -0.03487649628705168\n",
            "Variável: CS_ESCOL_N_3, Importância: -0.11804135399308885\n",
            "Variável: CS_ESCOL_N_4, Importância: -0.3422226623913058\n",
            "Variável: NOSOCOMIAL_1, Importância: 0.29041414671217314\n",
            "Variável: FEBRE_1, Importância: -0.0883404781462091\n",
            "Variável: TOSSE_1, Importância: -0.49127787411815604\n",
            "Variável: GARGANTA_1, Importância: -0.401731718367818\n",
            "Variável: DISPNEIA_1, Importância: 0.35150195639691995\n",
            "Variável: DESC_RESP_1, Importância: 0.2400307198473946\n",
            "Variável: SATURACAO_1, Importância: 0.3012926972588988\n",
            "Variável: DIARREIA_1, Importância: -0.038504445155613964\n",
            "Variável: VOMITO_1, Importância: -0.020495687940562904\n",
            "Variável: OUTRO_SIN_1, Importância: -0.2419219352283662\n",
            "Variável: PUERPERA_1, Importância: -0.6362276326442371\n",
            "Variável: CARDIOPATI_1, Importância: -0.07437057640018713\n",
            "Variável: HEMATOLOGI_1, Importância: 0.22397737164739517\n",
            "Variável: HEPATICA_1, Importância: 0.8589667990669012\n",
            "Variável: ASMA_1, Importância: -0.477068443863146\n",
            "Variável: DIABETES_1, Importância: 0.04793532434108959\n",
            "Variável: NEUROLOGIC_1, Importância: 0.4799096234855434\n",
            "Variável: PNEUMOPATI_1, Importância: 0.13775017672644754\n",
            "Variável: IMUNODEPRE_1, Importância: 0.7850088176965502\n",
            "Variável: RENAL_1, Importância: 0.47516946024068263\n",
            "Variável: OBESIDADE_1, Importância: -0.07630934626821285\n",
            "Variável: OUT_MORBI_1, Importância: 0.22678093151868875\n",
            "Variável: UTI_1, Importância: 0.7640102149517636\n",
            "Variável: SUPORT_VEN_1, Importância: 2.0682615043733907\n",
            "Variável: DOR_ABD_1, Importância: 0.04591599559388021\n",
            "Variável: PERD_OLFT_1, Importância: 0.04415151551873026\n",
            "Variável: PERD_PALA_1, Importância: -0.21743726605766137\n",
            "Variável: VACINA_COV_1, Importância: -0.3112612493298092\n",
            "Variável: REGIAO_0, Importância: -0.4240270021929709\n",
            "Variável: REGIAO_1, Importância: 0.06310302196878705\n",
            "Variável: REGIAO_2, Importância: -0.3544166841114226\n",
            "Variável: REGIAO_4, Importância: -0.21762720213761316\n"
          ]
        }
      ],
      "source": [
        "# get importance\n",
        "importance = grid_clf1.coef_[0]\n",
        "\n",
        "# summarize feature importance\n",
        "for coluna,imp in zip(colunas, importance):\n",
        "    print(f'Variável: {coluna}, Importância: {imp}')"
      ]
    },
    {
      "cell_type": "code",
      "execution_count": 17,
      "metadata": {
        "colab": {
          "base_uri": "https://localhost:8080/"
        },
        "id": "PPWjAhWdPyQS",
        "outputId": "f7262772-82ae-4ffc-fcab-89f54a6b2fe7"
      },
      "outputs": [
        {
          "output_type": "stream",
          "name": "stdout",
          "text": [
            "              precision    recall  f1-score   support\n",
            "\n",
            "           0       0.72      0.77      0.74      5971\n",
            "           1       0.75      0.70      0.72      5971\n",
            "\n",
            "    accuracy                           0.73     11942\n",
            "   macro avg       0.73      0.73      0.73     11942\n",
            "weighted avg       0.73      0.73      0.73     11942\n",
            "\n"
          ]
        }
      ],
      "source": [
        "y_pred1 = grid_clf1.predict(X_test)\n",
        "print(classification_report(y_test, y_pred1, zero_division=0))"
      ]
    },
    {
      "cell_type": "code",
      "source": [
        "matriz_confusao(y_test, y_pred1)"
      ],
      "metadata": {
        "colab": {
          "base_uri": "https://localhost:8080/",
          "height": 352
        },
        "id": "lSO2O5k9SZXS",
        "outputId": "92b1b625-2d91-4e96-fb7d-16f0262b2551"
      },
      "execution_count": 18,
      "outputs": [
        {
          "output_type": "display_data",
          "data": {
            "text/plain": [
              "<Figure size 800x300 with 4 Axes>"
            ],
            "image/png": "[encoded data removed]"
          },
          "metadata": {}
        }
      ]
    },
    {
      "cell_type": "code",
      "source": [
        "curva_ROC(y_test, y_pred1, grid_clf1)"
      ],
      "metadata": {
        "colab": {
          "base_uri": "https://localhost:8080/",
          "height": 256
        },
        "id": "-cdlkA9nYWKT",
        "outputId": "cd0db007-889b-4c2b-e22d-f78dfd5867df"
      },
      "execution_count": 19,
      "outputs": [
        {
          "output_type": "display_data",
          "data": {
            "text/plain": [
              "<Figure size 400x200 with 1 Axes>"
            ],
            "image/png": "[encoded data removed]"
          },
          "metadata": {}
        }
      ]
    },
    {
      "cell_type": "code",
      "source": [
        "print(f'Acurácia = {round(accuracy_score(y_test, y_pred1), 2)}')\n",
        "print(f'Recall = {round(recall_score(y_test, y_pred1), 2)}')\n",
        "print(f'Precision = {round(precision_score(y_test, y_pred1), 2)}')\n",
        "print(f'f1_score = {round(f1_score(y_test, y_pred1), 2)}')"
      ],
      "metadata": {
        "colab": {
          "base_uri": "https://localhost:8080/"
        },
        "id": "1_f0CWCdieKv",
        "outputId": "37e201a9-4398-46a7-db2c-34d2b6210630"
      },
      "execution_count": 20,
      "outputs": [
        {
          "output_type": "stream",
          "name": "stdout",
          "text": [
            "Acurácia = 0.73\n",
            "Recall = 0.7\n",
            "Precision = 0.75\n",
            "f1_score = 0.72\n"
          ]
        }
      ]
    },
    {
      "cell_type": "markdown",
      "metadata": {
        "id": "DAbckooJPyQp"
      },
      "source": [
        "## Random Forest"
      ]
    },
    {
      "cell_type": "code",
      "execution_count": 21,
      "metadata": {
        "id": "xCYIa7pHPyQq"
      },
      "outputs": [],
      "source": [
        "clf2 = RandomForestClassifier(class_weight='balanced', random_state=42)"
      ]
    },
    {
      "cell_type": "code",
      "execution_count": 22,
      "metadata": {
        "id": "T4M4Au_GPyQq",
        "outputId": "bd449151-a645-48b0-e3ac-9df6bb609232",
        "colab": {
          "base_uri": "https://localhost:8080/"
        }
      },
      "outputs": [
        {
          "output_type": "stream",
          "name": "stdout",
          "text": [
            "Fitting 5 folds for each of 10 candidates, totalling 50 fits\n"
          ]
        }
      ],
      "source": [
        "parameters_clf2 = {'n_estimators':[10,100,150,300,500],\n",
        "                   'criterion':['gini','entropy','log_loss'],\n",
        "                   'max_depth':[None,5,10,25,50,100],\n",
        "                   'max_features':['sqrt','log2',None]}\n",
        "\n",
        "grid_clf2 = RandomizedSearchCV(clf2, parameters_clf2, cv=5, verbose=1,\n",
        "                           n_jobs=-1, random_state=42).fit(X_train, y_train)"
      ]
    },
    {
      "cell_type": "code",
      "execution_count": 23,
      "metadata": {
        "id": "08HIJz-EPyQr",
        "outputId": "9ecc519b-f267-4cc9-eb29-ee519e7f887f",
        "colab": {
          "base_uri": "https://localhost:8080/"
        }
      },
      "outputs": [
        {
          "output_type": "stream",
          "name": "stdout",
          "text": [
            "RandomizedSearchCV Best Params: {'n_estimators': 150, 'max_features': 'log2', 'max_depth': 10, 'criterion': 'entropy'}\n"
          ]
        }
      ],
      "source": [
        "print(f'RandomizedSearchCV Best Params: {grid_clf2.best_params_}')"
      ]
    },
    {
      "cell_type": "code",
      "execution_count": 24,
      "metadata": {
        "id": "8xe73UPpPyQs",
        "outputId": "76a7c25e-2d5a-4eed-e728-ee72b13b5dd6",
        "colab": {
          "base_uri": "https://localhost:8080/"
        }
      },
      "outputs": [
        {
          "output_type": "execute_result",
          "data": {
            "text/plain": [
              "{'bootstrap': True,\n",
              " 'ccp_alpha': 0.0,\n",
              " 'class_weight': 'balanced',\n",
              " 'criterion': 'entropy',\n",
              " 'max_depth': 10,\n",
              " 'max_features': 'log2',\n",
              " 'max_leaf_nodes': None,\n",
              " 'max_samples': None,\n",
              " 'min_impurity_decrease': 0.0,\n",
              " 'min_samples_leaf': 1,\n",
              " 'min_samples_split': 2,\n",
              " 'min_weight_fraction_leaf': 0.0,\n",
              " 'n_estimators': 150,\n",
              " 'n_jobs': None,\n",
              " 'oob_score': False,\n",
              " 'random_state': 42,\n",
              " 'verbose': 0,\n",
              " 'warm_start': False}"
            ]
          },
          "metadata": {},
          "execution_count": 24
        }
      ],
      "source": [
        "grid_clf2 = grid_clf2.best_estimator_\n",
        "grid_clf2.get_params()"
      ]
    },
    {
      "cell_type": "code",
      "execution_count": 25,
      "metadata": {
        "id": "fHAWr46WPyQt",
        "outputId": "b869f587-482d-46eb-d193-b3768276c5f2",
        "colab": {
          "base_uri": "https://localhost:8080/"
        }
      },
      "outputs": [
        {
          "output_type": "stream",
          "name": "stdout",
          "text": [
            "              precision    recall  f1-score   support\n",
            "\n",
            "           0       0.72      0.78      0.75      5971\n",
            "           1       0.76      0.70      0.73      5971\n",
            "\n",
            "    accuracy                           0.74     11942\n",
            "   macro avg       0.74      0.74      0.74     11942\n",
            "weighted avg       0.74      0.74      0.74     11942\n",
            "\n"
          ]
        }
      ],
      "source": [
        "y_pred2 = grid_clf2.predict(X_test)\n",
        "print(classification_report(y_test, y_pred2, zero_division=0))"
      ]
    },
    {
      "cell_type": "code",
      "execution_count": 26,
      "metadata": {
        "id": "et7QmziOPyQw",
        "outputId": "1ab53446-1503-4c1b-845d-2c4a1c319ef4",
        "colab": {
          "base_uri": "https://localhost:8080/",
          "height": 352
        }
      },
      "outputs": [
        {
          "output_type": "display_data",
          "data": {
            "text/plain": [
              "<Figure size 800x300 with 4 Axes>"
            ],
            "image/png": "[encoded data removed]"
          },
          "metadata": {}
        }
      ],
      "source": [
        "matriz_confusao(y_test, y_pred2)"
      ]
    },
    {
      "cell_type": "code",
      "execution_count": 27,
      "metadata": {
        "id": "6PFQ8ov8PyQx",
        "outputId": "a728280e-2f11-459e-cd48-be7691de09e4",
        "colab": {
          "base_uri": "https://localhost:8080/",
          "height": 256
        }
      },
      "outputs": [
        {
          "output_type": "display_data",
          "data": {
            "text/plain": [
              "<Figure size 400x200 with 1 Axes>"
            ],
            "image/png": "[encoded data removed]"
          },
          "metadata": {}
        }
      ],
      "source": [
        "curva_ROC(y_test, y_pred2, grid_clf2)"
      ]
    },
    {
      "cell_type": "code",
      "source": [
        "print(f'Acurácia = {round(accuracy_score(y_test, y_pred2), 2)}')\n",
        "print(f'Recall = {round(recall_score(y_test, y_pred2), 2)}')\n",
        "print(f'Precision = {round(precision_score(y_test, y_pred2), 2)}')\n",
        "print(f'f1_score = {round(f1_score(y_test, y_pred2), 2)}')"
      ],
      "metadata": {
        "colab": {
          "base_uri": "https://localhost:8080/"
        },
        "id": "UI51frt9jbUr",
        "outputId": "f0777655-4c51-448a-95a7-104fabbddc29"
      },
      "execution_count": 28,
      "outputs": [
        {
          "output_type": "stream",
          "name": "stdout",
          "text": [
            "Acurácia = 0.74\n",
            "Recall = 0.7\n",
            "Precision = 0.76\n",
            "f1_score = 0.73\n"
          ]
        }
      ]
    },
    {
      "cell_type": "markdown",
      "source": [
        "# Catboost"
      ],
      "metadata": {
        "id": "Dk1b7lXQhcwk"
      }
    },
    {
      "cell_type": "code",
      "source": [
        "!pip install catboost -q"
      ],
      "metadata": {
        "colab": {
          "base_uri": "https://localhost:8080/"
        },
        "id": "bqt4Zc5Uig4R",
        "outputId": "ee1025f6-1ec3-421b-e19e-1a4a95eb1078"
      },
      "execution_count": 29,
      "outputs": [
        {
          "output_type": "stream",
          "name": "stdout",
          "text": [
            "\u001b[2K     \u001b[90m━━━━━━━━━━━━━━━━━━━━━━━━━━━━━━━━━━━━━━━━\u001b[0m \u001b[32m98.7/98.7 MB\u001b[0m \u001b[31m8.7 MB/s\u001b[0m eta \u001b[36m0:00:00\u001b[0m\n",
            "\u001b[?25h"
          ]
        }
      ]
    },
    {
      "cell_type": "code",
      "source": [
        "from catboost import CatBoostClassifier"
      ],
      "metadata": {
        "id": "aVNWXPN-igzW"
      },
      "execution_count": 30,
      "outputs": []
    },
    {
      "cell_type": "code",
      "source": [
        "# features categóricas\n",
        "cat_features = list(range(1, X_train.shape[1]))\n",
        "\n",
        "\n",
        "embedding_features=[0, 1]\n",
        "\n",
        "# Initialize CatBoostClassifier\n",
        "clf3 = CatBoostClassifier(iterations=5,\n",
        "                           learning_rate=0.1,\n",
        "                           depth=10,\n",
        "                           custom_loss=['Accuracy'],\n",
        "                           random_state=42,\n",
        "                           loss_function='Logloss',\n",
        "                           eval_metric='Accuracy')"
      ],
      "metadata": {
        "id": "ZDCEDyM1igxv"
      },
      "execution_count": 31,
      "outputs": []
    },
    {
      "cell_type": "code",
      "source": [
        "grid = {'learning_rate': [1, 0.1, 0.01],\n",
        "'depth': [4, 6, 10, 15, 20],\n",
        "'l2_leaf_reg': [3, 5],\n",
        "'iterations': [5, 20, 40]}"
      ],
      "metadata": {
        "id": "S0LbPLxfo0Xf"
      },
      "execution_count": 32,
      "outputs": []
    },
    {
      "cell_type": "code",
      "source": [
        "clf3.grid_search(grid, X_train, y_train)"
      ],
      "metadata": {
        "colab": {
          "base_uri": "https://localhost:8080/"
        },
        "id": "dd1d9iqGo7-S",
        "outputId": "40b50453-942f-4c65-bb68-ebad5672a3da"
      },
      "execution_count": 33,
      "outputs": [
        {
          "output_type": "stream",
          "name": "stdout",
          "text": [
            "0:\tlearn: 0.6962003\ttest: 0.6877804\tbest: 0.6877804 (0)\ttotal: 54.1ms\tremaining: 216ms\n",
            "1:\tlearn: 0.7162532\ttest: 0.7071595\tbest: 0.7071595 (1)\ttotal: 60.5ms\tremaining: 90.7ms\n",
            "2:\tlearn: 0.7239693\ttest: 0.7089539\tbest: 0.7089539 (2)\ttotal: 67.2ms\tremaining: 44.8ms\n",
            "3:\tlearn: 0.7301602\ttest: 0.7179257\tbest: 0.7179257 (3)\ttotal: 74ms\tremaining: 18.5ms\n",
            "4:\tlearn: 0.7311920\ttest: 0.7209761\tbest: 0.7209761 (4)\ttotal: 79.9ms\tremaining: 0us\n",
            "\n",
            "bestTest = 0.7209761349\n",
            "bestIteration = 4\n",
            "\n",
            "0:\tloss: 0.7209761\tbest: 0.7209761 (0)\ttotal: 139ms\tremaining: 12.4s\n",
            "0:\tlearn: 0.6962003\ttest: 0.6877804\tbest: 0.6877804 (0)\ttotal: 7ms\tremaining: 28ms\n",
            "1:\tlearn: 0.7086717\ttest: 0.7012381\tbest: 0.7012381 (1)\ttotal: 13.1ms\tremaining: 19.6ms\n",
            "2:\tlearn: 0.7075501\ttest: 0.7012381\tbest: 0.7012381 (1)\ttotal: 19.1ms\tremaining: 12.7ms\n",
            "3:\tlearn: 0.7079987\ttest: 0.7021353\tbest: 0.7021353 (3)\ttotal: 25.4ms\tremaining: 6.36ms\n",
            "4:\tlearn: 0.7074604\ttest: 0.6998026\tbest: 0.7021353 (3)\ttotal: 31.4ms\tremaining: 0us\n",
            "\n",
            "bestTest = 0.7021352952\n",
            "bestIteration = 3\n",
            "\n",
            "1:\tloss: 0.7021353\tbest: 0.7209761 (0)\ttotal: 175ms\tremaining: 7.7s\n",
            "0:\tlearn: 0.6962003\ttest: 0.6877804\tbest: 0.6877804 (0)\ttotal: 7.19ms\tremaining: 28.8ms\n",
            "1:\tlearn: 0.7086717\ttest: 0.7012381\tbest: 0.7012381 (1)\ttotal: 13.1ms\tremaining: 19.7ms\n",
            "2:\tlearn: 0.7081782\ttest: 0.6994437\tbest: 0.7012381 (1)\ttotal: 19.1ms\tremaining: 12.7ms\n",
            "3:\tlearn: 0.7090754\ttest: 0.6998026\tbest: 0.7012381 (1)\ttotal: 25.5ms\tremaining: 6.38ms\n",
            "4:\tlearn: 0.7090754\ttest: 0.6998026\tbest: 0.7012381 (1)\ttotal: 32.7ms\tremaining: 0us\n",
            "\n",
            "bestTest = 0.7012381123\n",
            "bestIteration = 1\n",
            "\n",
            "2:\tloss: 0.7012381\tbest: 0.7209761 (0)\ttotal: 213ms\tremaining: 6.18s\n",
            "0:\tlearn: 0.6962003\ttest: 0.6877804\tbest: 0.6877804 (0)\ttotal: 6.65ms\tremaining: 26.6ms\n",
            "1:\tlearn: 0.7166569\ttest: 0.7057240\tbest: 0.7057240 (1)\ttotal: 13.1ms\tremaining: 19.6ms\n",
            "2:\tlearn: 0.7240590\ttest: 0.7137987\tbest: 0.7137987 (2)\ttotal: 21.4ms\tremaining: 14.3ms\n",
            "3:\tlearn: 0.7305639\ttest: 0.7188229\tbest: 0.7188229 (3)\ttotal: 38.4ms\tremaining: 9.61ms\n",
            "4:\tlearn: 0.7332107\ttest: 0.7216939\tbest: 0.7216939 (4)\ttotal: 45.4ms\tremaining: 0us\n",
            "\n",
            "bestTest = 0.7216938812\n",
            "bestIteration = 4\n",
            "\n",
            "3:\tloss: 0.7216939\tbest: 0.7216939 (3)\ttotal: 263ms\tremaining: 5.65s\n",
            "0:\tlearn: 0.6962003\ttest: 0.6877804\tbest: 0.6877804 (0)\ttotal: 6.75ms\tremaining: 27ms\n",
            "1:\tlearn: 0.6956619\ttest: 0.6876009\tbest: 0.6877804 (0)\ttotal: 13.4ms\tremaining: 20ms\n",
            "2:\tlearn: 0.6972321\ttest: 0.6888570\tbest: 0.6888570 (2)\ttotal: 19.4ms\tremaining: 13ms\n",
            "3:\tlearn: 0.6978601\ttest: 0.6881392\tbest: 0.6888570 (2)\ttotal: 25.6ms\tremaining: 6.4ms\n",
            "4:\tlearn: 0.7098381\ttest: 0.7001615\tbest: 0.7001615 (4)\ttotal: 32.3ms\tremaining: 0us\n",
            "\n",
            "bestTest = 0.7001614929\n",
            "bestIteration = 4\n",
            "\n",
            "4:\tloss: 0.7001615\tbest: 0.7216939 (3)\ttotal: 300ms\tremaining: 5.09s\n",
            "0:\tlearn: 0.6962003\ttest: 0.6877804\tbest: 0.6877804 (0)\ttotal: 6.35ms\tremaining: 25.4ms\n",
            "1:\tlearn: 0.6956619\ttest: 0.6876009\tbest: 0.6877804 (0)\ttotal: 16.7ms\tremaining: 25ms\n",
            "2:\tlearn: 0.6977255\ttest: 0.6908308\tbest: 0.6908308 (2)\ttotal: 23.6ms\tremaining: 15.7ms\n",
            "3:\tlearn: 0.6982639\ttest: 0.6913691\tbest: 0.6913691 (3)\ttotal: 29.8ms\tremaining: 7.44ms\n",
            "4:\tlearn: 0.6978153\ttest: 0.6901130\tbest: 0.6913691 (3)\ttotal: 36.1ms\tremaining: 0us\n",
            "\n",
            "bestTest = 0.691369101\n",
            "bestIteration = 3\n",
            "\n",
            "5:\tloss: 0.6913691\tbest: 0.7216939 (3)\ttotal: 339ms\tremaining: 4.74s\n",
            "0:\tlearn: 0.6962003\ttest: 0.6877804\tbest: 0.6877804 (0)\ttotal: 6.36ms\tremaining: 121ms\n",
            "1:\tlearn: 0.7162532\ttest: 0.7071595\tbest: 0.7071595 (1)\ttotal: 12.3ms\tremaining: 111ms\n",
            "2:\tlearn: 0.7239693\ttest: 0.7089539\tbest: 0.7089539 (2)\ttotal: 18.8ms\tremaining: 107ms\n",
            "3:\tlearn: 0.7301602\ttest: 0.7179257\tbest: 0.7179257 (3)\ttotal: 25.3ms\tremaining: 101ms\n",
            "4:\tlearn: 0.7311920\ttest: 0.7209761\tbest: 0.7209761 (4)\ttotal: 36.7ms\tremaining: 110ms\n",
            "5:\tlearn: 0.7302050\ttest: 0.7155930\tbest: 0.7209761 (4)\ttotal: 51.6ms\tremaining: 120ms\n",
            "6:\tlearn: 0.7352295\ttest: 0.7211556\tbest: 0.7211556 (6)\ttotal: 65.1ms\tremaining: 121ms\n",
            "7:\tlearn: 0.7371585\ttest: 0.7216939\tbest: 0.7216939 (7)\ttotal: 76.7ms\tremaining: 115ms\n",
            "8:\tlearn: 0.7394913\ttest: 0.7268975\tbest: 0.7268975 (8)\ttotal: 83.8ms\tremaining: 102ms\n",
            "9:\tlearn: 0.7386838\ttest: 0.7270770\tbest: 0.7270770 (9)\ttotal: 90.9ms\tremaining: 90.9ms\n",
            "10:\tlearn: 0.7411063\ttest: 0.7288713\tbest: 0.7288713 (10)\ttotal: 97.9ms\tremaining: 80.1ms\n",
            "11:\tlearn: 0.7401642\ttest: 0.7261798\tbest: 0.7288713 (10)\ttotal: 105ms\tremaining: 69.8ms\n",
            "12:\tlearn: 0.7416446\ttest: 0.7295891\tbest: 0.7295891 (12)\ttotal: 111ms\tremaining: 59.6ms\n",
            "13:\tlearn: 0.7429904\ttest: 0.7310246\tbest: 0.7310246 (13)\ttotal: 117ms\tremaining: 50.3ms\n",
            "14:\tlearn: 0.7429904\ttest: 0.7303068\tbest: 0.7310246 (13)\ttotal: 124ms\tremaining: 41.3ms\n",
            "15:\tlearn: 0.7440223\ttest: 0.7295891\tbest: 0.7310246 (13)\ttotal: 131ms\tremaining: 32.7ms\n",
            "16:\tlearn: 0.7445157\ttest: 0.7324601\tbest: 0.7324601 (16)\ttotal: 137ms\tremaining: 24.2ms\n",
            "17:\tlearn: 0.7436185\ttest: 0.7333573\tbest: 0.7333573 (17)\ttotal: 148ms\tremaining: 16.4ms\n",
            "18:\tlearn: 0.7464896\ttest: 0.7304863\tbest: 0.7333573 (17)\ttotal: 159ms\tremaining: 8.35ms\n",
            "19:\tlearn: 0.7471177\ttest: 0.7313835\tbest: 0.7333573 (17)\ttotal: 165ms\tremaining: 0us\n",
            "\n",
            "bestTest = 0.7333572582\n",
            "bestIteration = 17\n",
            "\n",
            "6:\tloss: 0.7333573\tbest: 0.7333573 (6)\ttotal: 509ms\tremaining: 6.04s\n",
            "0:\tlearn: 0.6962003\ttest: 0.6877804\tbest: 0.6877804 (0)\ttotal: 6.68ms\tremaining: 127ms\n",
            "1:\tlearn: 0.7086717\ttest: 0.7012381\tbest: 0.7012381 (1)\ttotal: 16.4ms\tremaining: 148ms\n",
            "2:\tlearn: 0.7075501\ttest: 0.7012381\tbest: 0.7012381 (1)\ttotal: 22.8ms\tremaining: 129ms\n",
            "3:\tlearn: 0.7079987\ttest: 0.7021353\tbest: 0.7021353 (3)\ttotal: 29.3ms\tremaining: 117ms\n",
            "4:\tlearn: 0.7074604\ttest: 0.6998026\tbest: 0.7021353 (3)\ttotal: 35.2ms\tremaining: 106ms\n",
            "5:\tlearn: 0.7075501\ttest: 0.7003409\tbest: 0.7021353 (3)\ttotal: 41.3ms\tremaining: 96.4ms\n",
            "6:\tlearn: 0.7124400\ttest: 0.7041091\tbest: 0.7041091 (6)\ttotal: 47.9ms\tremaining: 88.9ms\n",
            "7:\tlearn: 0.7135615\ttest: 0.7044680\tbest: 0.7044680 (7)\ttotal: 54.2ms\tremaining: 81.2ms\n",
            "8:\tlearn: 0.7139204\ttest: 0.7076978\tbest: 0.7076978 (8)\ttotal: 60.3ms\tremaining: 73.6ms\n",
            "9:\tlearn: 0.7144139\ttest: 0.7087744\tbest: 0.7087744 (9)\ttotal: 67.1ms\tremaining: 67.1ms\n",
            "10:\tlearn: 0.7137858\ttest: 0.7080567\tbest: 0.7087744 (9)\ttotal: 73.8ms\tremaining: 60.3ms\n",
            "11:\tlearn: 0.7192140\ttest: 0.7111071\tbest: 0.7111071 (11)\ttotal: 80.1ms\tremaining: 53.4ms\n",
            "12:\tlearn: 0.7203356\ttest: 0.7096716\tbest: 0.7111071 (11)\ttotal: 87.1ms\tremaining: 46.9ms\n",
            "13:\tlearn: 0.7212328\ttest: 0.7123632\tbest: 0.7123632 (13)\ttotal: 94.1ms\tremaining: 40.3ms\n",
            "14:\tlearn: 0.7226235\ttest: 0.7114660\tbest: 0.7123632 (13)\ttotal: 101ms\tremaining: 33.6ms\n",
            "15:\tlearn: 0.7219506\ttest: 0.7125426\tbest: 0.7125426 (15)\ttotal: 125ms\tremaining: 31.2ms\n",
            "16:\tlearn: 0.7222197\ttest: 0.7116454\tbest: 0.7125426 (15)\ttotal: 147ms\tremaining: 25.9ms\n",
            "17:\tlearn: 0.7238347\ttest: 0.7120043\tbest: 0.7125426 (15)\ttotal: 167ms\tremaining: 18.6ms\n",
            "18:\tlearn: 0.7241936\ttest: 0.7154136\tbest: 0.7154136 (18)\ttotal: 189ms\tremaining: 9.97ms\n",
            "19:\tlearn: 0.7245525\ttest: 0.7154136\tbest: 0.7154136 (18)\ttotal: 204ms\tremaining: 0us\n",
            "\n",
            "bestTest = 0.7154136013\n",
            "bestIteration = 18\n",
            "\n",
            "7:\tloss: 0.7154136\tbest: 0.7333573 (6)\ttotal: 722ms\tremaining: 7.4s\n",
            "0:\tlearn: 0.6962003\ttest: 0.6877804\tbest: 0.6877804 (0)\ttotal: 21.2ms\tremaining: 402ms\n",
            "1:\tlearn: 0.7086717\ttest: 0.7012381\tbest: 0.7012381 (1)\ttotal: 43.7ms\tremaining: 393ms\n",
            "2:\tlearn: 0.7081782\ttest: 0.6994437\tbest: 0.7012381 (1)\ttotal: 63.5ms\tremaining: 360ms\n",
            "3:\tlearn: 0.7090754\ttest: 0.6998026\tbest: 0.7012381 (1)\ttotal: 76.1ms\tremaining: 305ms\n",
            "4:\tlearn: 0.7090754\ttest: 0.6998026\tbest: 0.7012381 (1)\ttotal: 88.8ms\tremaining: 266ms\n",
            "5:\tlearn: 0.7095240\ttest: 0.7001615\tbest: 0.7012381 (1)\ttotal: 101ms\tremaining: 236ms\n",
            "6:\tlearn: 0.7083576\ttest: 0.6996232\tbest: 0.7012381 (1)\ttotal: 113ms\tremaining: 210ms\n",
            "7:\tlearn: 0.7067875\ttest: 0.6971111\tbest: 0.7012381 (1)\ttotal: 125ms\tremaining: 187ms\n",
            "8:\tlearn: 0.7057557\ttest: 0.6954961\tbest: 0.7012381 (1)\ttotal: 137ms\tremaining: 167ms\n",
            "9:\tlearn: 0.7049930\ttest: 0.6962139\tbest: 0.7012381 (1)\ttotal: 158ms\tremaining: 158ms\n",
            "10:\tlearn: 0.6996097\ttest: 0.6908308\tbest: 0.7012381 (1)\ttotal: 175ms\tremaining: 143ms\n",
            "11:\tlearn: 0.6971423\ttest: 0.6895747\tbest: 0.7012381 (1)\ttotal: 194ms\tremaining: 129ms\n",
            "12:\tlearn: 0.6971872\ttest: 0.6906514\tbest: 0.7012381 (1)\ttotal: 208ms\tremaining: 112ms\n",
            "13:\tlearn: 0.7000135\ttest: 0.6917280\tbest: 0.7012381 (1)\ttotal: 221ms\tremaining: 94.5ms\n",
            "14:\tlearn: 0.7008210\ttest: 0.6951373\tbest: 0.7012381 (1)\ttotal: 232ms\tremaining: 77.4ms\n",
            "15:\tlearn: 0.6997892\ttest: 0.6938812\tbest: 0.7012381 (1)\ttotal: 244ms\tremaining: 61.1ms\n",
            "16:\tlearn: 0.6980396\ttest: 0.6926252\tbest: 0.7012381 (1)\ttotal: 256ms\tremaining: 45.2ms\n",
            "17:\tlearn: 0.6978153\ttest: 0.6913691\tbest: 0.7012381 (1)\ttotal: 268ms\tremaining: 29.8ms\n",
            "18:\tlearn: 0.6975012\ttest: 0.6924457\tbest: 0.7012381 (1)\ttotal: 285ms\tremaining: 15ms\n",
            "19:\tlearn: 0.6974115\ttest: 0.6926252\tbest: 0.7012381 (1)\ttotal: 297ms\tremaining: 0us\n",
            "\n",
            "bestTest = 0.7012381123\n",
            "bestIteration = 1\n",
            "\n",
            "8:\tloss: 0.7012381\tbest: 0.7333573 (6)\ttotal: 1.04s\tremaining: 9.33s\n",
            "0:\tlearn: 0.6962003\ttest: 0.6877804\tbest: 0.6877804 (0)\ttotal: 16.7ms\tremaining: 317ms\n",
            "1:\tlearn: 0.7166569\ttest: 0.7057240\tbest: 0.7057240 (1)\ttotal: 28.8ms\tremaining: 259ms\n",
            "2:\tlearn: 0.7240590\ttest: 0.7137987\tbest: 0.7137987 (2)\ttotal: 41.1ms\tremaining: 233ms\n",
            "3:\tlearn: 0.7305639\ttest: 0.7188229\tbest: 0.7188229 (3)\ttotal: 49.2ms\tremaining: 197ms\n",
            "4:\tlearn: 0.7332107\ttest: 0.7216939\tbest: 0.7216939 (4)\ttotal: 57.4ms\tremaining: 172ms\n",
            "5:\tlearn: 0.7346911\ttest: 0.7242060\tbest: 0.7242060 (5)\ttotal: 63.6ms\tremaining: 148ms\n",
            "6:\tlearn: 0.7344668\ttest: 0.7215144\tbest: 0.7242060 (5)\ttotal: 70.3ms\tremaining: 131ms\n",
            "7:\tlearn: 0.7381903\ttest: 0.7270770\tbest: 0.7270770 (7)\ttotal: 77.3ms\tremaining: 116ms\n",
            "8:\tlearn: 0.7397156\ttest: 0.7279742\tbest: 0.7279742 (8)\ttotal: 84.2ms\tremaining: 103ms\n",
            "9:\tlearn: 0.7409717\ttest: 0.7256415\tbest: 0.7279742 (8)\ttotal: 95.7ms\tremaining: 95.7ms\n",
            "10:\tlearn: 0.7414203\ttest: 0.7315629\tbest: 0.7315629 (10)\ttotal: 103ms\tremaining: 83.9ms\n",
            "11:\tlearn: 0.7425418\ttest: 0.7317423\tbest: 0.7317423 (11)\ttotal: 109ms\tremaining: 72.7ms\n",
            "12:\tlearn: 0.7431250\ttest: 0.7301274\tbest: 0.7317423 (11)\ttotal: 115ms\tremaining: 62.2ms\n",
            "13:\tlearn: 0.7433493\ttest: 0.7340750\tbest: 0.7340750 (13)\ttotal: 121ms\tremaining: 52.1ms\n",
            "14:\tlearn: 0.7435288\ttest: 0.7306657\tbest: 0.7340750 (13)\ttotal: 128ms\tremaining: 42.7ms\n",
            "15:\tlearn: 0.7437531\ttest: 0.7267181\tbest: 0.7340750 (13)\ttotal: 137ms\tremaining: 34.2ms\n",
            "16:\tlearn: 0.7447400\ttest: 0.7276153\tbest: 0.7340750 (13)\ttotal: 144ms\tremaining: 25.3ms\n",
            "17:\tlearn: 0.7448298\ttest: 0.7270770\tbest: 0.7340750 (13)\ttotal: 151ms\tremaining: 16.7ms\n",
            "18:\tlearn: 0.7457270\ttest: 0.7256415\tbest: 0.7340750 (13)\ttotal: 157ms\tremaining: 8.26ms\n",
            "19:\tlearn: 0.7454578\ttest: 0.7276153\tbest: 0.7340750 (13)\ttotal: 164ms\tremaining: 0us\n",
            "\n",
            "bestTest = 0.7340750045\n",
            "bestIteration = 13\n",
            "\n",
            "9:\tloss: 0.7340750\tbest: 0.7340750 (9)\ttotal: 1.21s\tremaining: 9.67s\n",
            "0:\tlearn: 0.6962003\ttest: 0.6877804\tbest: 0.6877804 (0)\ttotal: 8.25ms\tremaining: 157ms\n",
            "1:\tlearn: 0.6956619\ttest: 0.6876009\tbest: 0.6877804 (0)\ttotal: 27.6ms\tremaining: 248ms\n",
            "2:\tlearn: 0.6972321\ttest: 0.6888570\tbest: 0.6888570 (2)\ttotal: 34.4ms\tremaining: 195ms\n",
            "3:\tlearn: 0.6978601\ttest: 0.6881392\tbest: 0.6888570 (2)\ttotal: 41ms\tremaining: 164ms\n",
            "4:\tlearn: 0.7098381\ttest: 0.7001615\tbest: 0.7001615 (4)\ttotal: 47.6ms\tremaining: 143ms\n",
            "5:\tlearn: 0.7110942\ttest: 0.7028530\tbest: 0.7028530 (5)\ttotal: 54ms\tremaining: 126ms\n",
            "6:\tlearn: 0.7107801\ttest: 0.6994437\tbest: 0.7028530 (5)\ttotal: 60.4ms\tremaining: 112ms\n",
            "7:\tlearn: 0.7132475\ttest: 0.7060829\tbest: 0.7060829 (7)\ttotal: 67.2ms\tremaining: 101ms\n",
            "8:\tlearn: 0.7142344\ttest: 0.7075184\tbest: 0.7075184 (8)\ttotal: 82.9ms\tremaining: 101ms\n",
            "9:\tlearn: 0.7174196\ttest: 0.7100305\tbest: 0.7100305 (9)\ttotal: 97.6ms\tremaining: 97.6ms\n",
            "10:\tlearn: 0.7181374\ttest: 0.7094922\tbest: 0.7100305 (9)\ttotal: 108ms\tremaining: 88.5ms\n",
            "11:\tlearn: 0.7189897\ttest: 0.7084156\tbest: 0.7100305 (9)\ttotal: 119ms\tremaining: 79.4ms\n",
            "12:\tlearn: 0.7202010\ttest: 0.7109277\tbest: 0.7109277 (12)\ttotal: 133ms\tremaining: 71.7ms\n",
            "13:\tlearn: 0.7206945\ttest: 0.7125426\tbest: 0.7125426 (13)\ttotal: 148ms\tremaining: 63.2ms\n",
            "14:\tlearn: 0.7203804\ttest: 0.7134398\tbest: 0.7134398 (14)\ttotal: 166ms\tremaining: 55.4ms\n",
            "15:\tlearn: 0.7212776\ttest: 0.7141575\tbest: 0.7141575 (15)\ttotal: 184ms\tremaining: 46ms\n",
            "16:\tlearn: 0.7210533\ttest: 0.7120043\tbest: 0.7141575 (15)\ttotal: 199ms\tremaining: 35ms\n",
            "17:\tlearn: 0.7212776\ttest: 0.7132604\tbest: 0.7141575 (15)\ttotal: 210ms\tremaining: 23.4ms\n",
            "18:\tlearn: 0.7231170\ttest: 0.7150547\tbest: 0.7150547 (18)\ttotal: 221ms\tremaining: 11.6ms\n",
            "19:\tlearn: 0.7230272\ttest: 0.7164902\tbest: 0.7164902 (19)\ttotal: 234ms\tremaining: 0us\n",
            "\n",
            "bestTest = 0.7164902207\n",
            "bestIteration = 19\n",
            "\n",
            "10:\tloss: 0.7164902\tbest: 0.7340750 (9)\ttotal: 1.45s\tremaining: 10.4s\n",
            "0:\tlearn: 0.6962003\ttest: 0.6877804\tbest: 0.6877804 (0)\ttotal: 12.3ms\tremaining: 234ms\n",
            "1:\tlearn: 0.6956619\ttest: 0.6876009\tbest: 0.6877804 (0)\ttotal: 24.6ms\tremaining: 222ms\n",
            "2:\tlearn: 0.6977255\ttest: 0.6908308\tbest: 0.6908308 (2)\ttotal: 47.3ms\tremaining: 268ms\n",
            "3:\tlearn: 0.6982639\ttest: 0.6913691\tbest: 0.6913691 (3)\ttotal: 63.8ms\tremaining: 255ms\n",
            "4:\tlearn: 0.6978153\ttest: 0.6901130\tbest: 0.6913691 (3)\ttotal: 77.4ms\tremaining: 232ms\n",
            "5:\tlearn: 0.6971872\ttest: 0.6922663\tbest: 0.6922663 (5)\ttotal: 96.5ms\tremaining: 225ms\n",
            "6:\tlearn: 0.6974115\ttest: 0.6913691\tbest: 0.6922663 (5)\ttotal: 108ms\tremaining: 201ms\n",
            "7:\tlearn: 0.6967386\ttest: 0.6915485\tbest: 0.6922663 (5)\ttotal: 120ms\tremaining: 179ms\n",
            "8:\tlearn: 0.6971872\ttest: 0.6919074\tbest: 0.6922663 (5)\ttotal: 132ms\tremaining: 161ms\n",
            "9:\tlearn: 0.6975012\ttest: 0.6915485\tbest: 0.6922663 (5)\ttotal: 144ms\tremaining: 144ms\n",
            "10:\tlearn: 0.6976358\ttest: 0.6919074\tbest: 0.6922663 (5)\ttotal: 156ms\tremaining: 128ms\n",
            "11:\tlearn: 0.6976358\ttest: 0.6919074\tbest: 0.6922663 (5)\ttotal: 168ms\tremaining: 112ms\n",
            "12:\tlearn: 0.6966040\ttest: 0.6917280\tbest: 0.6922663 (5)\ttotal: 181ms\tremaining: 97.4ms\n",
            "13:\tlearn: 0.6972321\ttest: 0.6928046\tbest: 0.6928046 (13)\ttotal: 193ms\tremaining: 82.7ms\n",
            "14:\tlearn: 0.6972321\ttest: 0.6928046\tbest: 0.6928046 (13)\ttotal: 205ms\tremaining: 68.4ms\n",
            "15:\tlearn: 0.6974564\ttest: 0.6922663\tbest: 0.6928046 (13)\ttotal: 216ms\tremaining: 54ms\n",
            "16:\tlearn: 0.6975461\ttest: 0.6931635\tbest: 0.6931635 (16)\ttotal: 229ms\tremaining: 40.3ms\n",
            "17:\tlearn: 0.6972769\ttest: 0.6935223\tbest: 0.6935223 (17)\ttotal: 240ms\tremaining: 26.6ms\n",
            "18:\tlearn: 0.6978153\ttest: 0.6931635\tbest: 0.6935223 (17)\ttotal: 251ms\tremaining: 13.2ms\n",
            "19:\tlearn: 0.6989368\ttest: 0.6956756\tbest: 0.6956756 (19)\ttotal: 263ms\tremaining: 0us\n",
            "\n",
            "bestTest = 0.6956755787\n",
            "bestIteration = 19\n",
            "\n",
            "11:\tloss: 0.6956756\tbest: 0.7340750 (9)\ttotal: 1.73s\tremaining: 11.3s\n",
            "0:\tlearn: 0.6962003\ttest: 0.6877804\tbest: 0.6877804 (0)\ttotal: 12.3ms\tremaining: 479ms\n",
            "1:\tlearn: 0.7162532\ttest: 0.7071595\tbest: 0.7071595 (1)\ttotal: 24.4ms\tremaining: 464ms\n",
            "2:\tlearn: 0.7239693\ttest: 0.7089539\tbest: 0.7089539 (2)\ttotal: 45.6ms\tremaining: 563ms\n",
            "3:\tlearn: 0.7301602\ttest: 0.7179257\tbest: 0.7179257 (3)\ttotal: 58.4ms\tremaining: 526ms\n",
            "4:\tlearn: 0.7311920\ttest: 0.7209761\tbest: 0.7209761 (4)\ttotal: 68.8ms\tremaining: 481ms\n",
            "5:\tlearn: 0.7302050\ttest: 0.7155930\tbest: 0.7209761 (4)\ttotal: 81.5ms\tremaining: 462ms\n",
            "6:\tlearn: 0.7352295\ttest: 0.7211556\tbest: 0.7211556 (6)\ttotal: 93.7ms\tremaining: 442ms\n",
            "7:\tlearn: 0.7371585\ttest: 0.7216939\tbest: 0.7216939 (7)\ttotal: 109ms\tremaining: 434ms\n",
            "8:\tlearn: 0.7394913\ttest: 0.7268975\tbest: 0.7268975 (8)\ttotal: 119ms\tremaining: 411ms\n",
            "9:\tlearn: 0.7386838\ttest: 0.7270770\tbest: 0.7270770 (9)\ttotal: 132ms\tremaining: 397ms\n",
            "10:\tlearn: 0.7411063\ttest: 0.7288713\tbest: 0.7288713 (10)\ttotal: 145ms\tremaining: 383ms\n",
            "11:\tlearn: 0.7401642\ttest: 0.7261798\tbest: 0.7288713 (10)\ttotal: 158ms\tremaining: 369ms\n",
            "12:\tlearn: 0.7416446\ttest: 0.7295891\tbest: 0.7295891 (12)\ttotal: 169ms\tremaining: 352ms\n",
            "13:\tlearn: 0.7429904\ttest: 0.7310246\tbest: 0.7310246 (13)\ttotal: 183ms\tremaining: 340ms\n",
            "14:\tlearn: 0.7429904\ttest: 0.7303068\tbest: 0.7310246 (13)\ttotal: 195ms\tremaining: 325ms\n",
            "15:\tlearn: 0.7440223\ttest: 0.7295891\tbest: 0.7310246 (13)\ttotal: 208ms\tremaining: 312ms\n",
            "16:\tlearn: 0.7445157\ttest: 0.7324601\tbest: 0.7324601 (16)\ttotal: 228ms\tremaining: 308ms\n",
            "17:\tlearn: 0.7436185\ttest: 0.7333573\tbest: 0.7333573 (17)\ttotal: 241ms\tremaining: 294ms\n",
            "18:\tlearn: 0.7464896\ttest: 0.7304863\tbest: 0.7333573 (17)\ttotal: 255ms\tremaining: 282ms\n",
            "19:\tlearn: 0.7471177\ttest: 0.7313835\tbest: 0.7333573 (17)\ttotal: 267ms\tremaining: 267ms\n",
            "20:\tlearn: 0.7463550\ttest: 0.7329984\tbest: 0.7333573 (17)\ttotal: 279ms\tremaining: 253ms\n",
            "21:\tlearn: 0.7470728\ttest: 0.7326395\tbest: 0.7333573 (17)\ttotal: 292ms\tremaining: 239ms\n",
            "22:\tlearn: 0.7484635\ttest: 0.7326395\tbest: 0.7333573 (17)\ttotal: 304ms\tremaining: 225ms\n",
            "23:\tlearn: 0.7484635\ttest: 0.7306657\tbest: 0.7333573 (17)\ttotal: 319ms\tremaining: 212ms\n",
            "24:\tlearn: 0.7485981\ttest: 0.7306657\tbest: 0.7333573 (17)\ttotal: 344ms\tremaining: 206ms\n",
            "25:\tlearn: 0.7492710\ttest: 0.7319218\tbest: 0.7333573 (17)\ttotal: 374ms\tremaining: 201ms\n",
            "26:\tlearn: 0.7495402\ttest: 0.7319218\tbest: 0.7333573 (17)\ttotal: 387ms\tremaining: 186ms\n",
            "27:\tlearn: 0.7496299\ttest: 0.7308451\tbest: 0.7333573 (17)\ttotal: 400ms\tremaining: 171ms\n",
            "28:\tlearn: 0.7498991\ttest: 0.7285125\tbest: 0.7333573 (17)\ttotal: 412ms\tremaining: 156ms\n",
            "29:\tlearn: 0.7507963\ttest: 0.7281536\tbest: 0.7333573 (17)\ttotal: 435ms\tremaining: 145ms\n",
            "30:\tlearn: 0.7504823\ttest: 0.7276153\tbest: 0.7333573 (17)\ttotal: 449ms\tremaining: 130ms\n",
            "31:\tlearn: 0.7514243\ttest: 0.7272564\tbest: 0.7333573 (17)\ttotal: 460ms\tremaining: 115ms\n",
            "32:\tlearn: 0.7520973\ttest: 0.7274359\tbest: 0.7333573 (17)\ttotal: 473ms\tremaining: 100ms\n",
            "33:\tlearn: 0.7515589\ttest: 0.7258209\tbest: 0.7333573 (17)\ttotal: 486ms\tremaining: 85.7ms\n",
            "34:\tlearn: 0.7523216\ttest: 0.7270770\tbest: 0.7333573 (17)\ttotal: 508ms\tremaining: 72.6ms\n",
            "35:\tlearn: 0.7521421\ttest: 0.7265387\tbest: 0.7333573 (17)\ttotal: 524ms\tremaining: 58.2ms\n",
            "36:\tlearn: 0.7523664\ttest: 0.7258209\tbest: 0.7333573 (17)\ttotal: 540ms\tremaining: 43.7ms\n",
            "37:\tlearn: 0.7523664\ttest: 0.7252826\tbest: 0.7333573 (17)\ttotal: 560ms\tremaining: 29.4ms\n",
            "38:\tlearn: 0.7533534\ttest: 0.7258209\tbest: 0.7333573 (17)\ttotal: 579ms\tremaining: 14.9ms\n",
            "39:\tlearn: 0.7534431\ttest: 0.7249237\tbest: 0.7333573 (17)\ttotal: 592ms\tremaining: 0us\n",
            "\n",
            "bestTest = 0.7333572582\n",
            "bestIteration = 17\n",
            "\n",
            "12:\tloss: 0.7333573\tbest: 0.7340750 (9)\ttotal: 2.36s\tremaining: 14s\n",
            "0:\tlearn: 0.6962003\ttest: 0.6877804\tbest: 0.6877804 (0)\ttotal: 12.2ms\tremaining: 477ms\n",
            "1:\tlearn: 0.7086717\ttest: 0.7012381\tbest: 0.7012381 (1)\ttotal: 36.1ms\tremaining: 686ms\n",
            "2:\tlearn: 0.7075501\ttest: 0.7012381\tbest: 0.7012381 (1)\ttotal: 62.1ms\tremaining: 766ms\n",
            "3:\tlearn: 0.7079987\ttest: 0.7021353\tbest: 0.7021353 (3)\ttotal: 85.4ms\tremaining: 769ms\n",
            "4:\tlearn: 0.7074604\ttest: 0.6998026\tbest: 0.7021353 (3)\ttotal: 96.5ms\tremaining: 675ms\n",
            "5:\tlearn: 0.7075501\ttest: 0.7003409\tbest: 0.7021353 (3)\ttotal: 108ms\tremaining: 610ms\n",
            "6:\tlearn: 0.7124400\ttest: 0.7041091\tbest: 0.7041091 (6)\ttotal: 119ms\tremaining: 561ms\n",
            "7:\tlearn: 0.7135615\ttest: 0.7044680\tbest: 0.7044680 (7)\ttotal: 131ms\tremaining: 522ms\n",
            "8:\tlearn: 0.7139204\ttest: 0.7076978\tbest: 0.7076978 (8)\ttotal: 141ms\tremaining: 487ms\n",
            "9:\tlearn: 0.7144139\ttest: 0.7087744\tbest: 0.7087744 (9)\ttotal: 155ms\tremaining: 464ms\n",
            "10:\tlearn: 0.7137858\ttest: 0.7080567\tbest: 0.7087744 (9)\ttotal: 167ms\tremaining: 441ms\n",
            "11:\tlearn: 0.7192140\ttest: 0.7111071\tbest: 0.7111071 (11)\ttotal: 182ms\tremaining: 424ms\n",
            "12:\tlearn: 0.7203356\ttest: 0.7096716\tbest: 0.7111071 (11)\ttotal: 199ms\tremaining: 414ms\n",
            "13:\tlearn: 0.7212328\ttest: 0.7123632\tbest: 0.7123632 (13)\ttotal: 220ms\tremaining: 409ms\n",
            "14:\tlearn: 0.7226235\ttest: 0.7114660\tbest: 0.7123632 (13)\ttotal: 244ms\tremaining: 407ms\n",
            "15:\tlearn: 0.7219506\ttest: 0.7125426\tbest: 0.7125426 (15)\ttotal: 262ms\tremaining: 393ms\n",
            "16:\tlearn: 0.7222197\ttest: 0.7116454\tbest: 0.7125426 (15)\ttotal: 274ms\tremaining: 370ms\n",
            "17:\tlearn: 0.7238347\ttest: 0.7120043\tbest: 0.7125426 (15)\ttotal: 288ms\tremaining: 352ms\n",
            "18:\tlearn: 0.7241936\ttest: 0.7154136\tbest: 0.7154136 (18)\ttotal: 301ms\tremaining: 332ms\n",
            "19:\tlearn: 0.7245525\ttest: 0.7154136\tbest: 0.7154136 (18)\ttotal: 312ms\tremaining: 312ms\n",
            "20:\tlearn: 0.7243731\ttest: 0.7152342\tbest: 0.7154136 (18)\ttotal: 325ms\tremaining: 294ms\n",
            "21:\tlearn: 0.7256740\ttest: 0.7170285\tbest: 0.7170285 (21)\ttotal: 337ms\tremaining: 275ms\n",
            "22:\tlearn: 0.7262572\ttest: 0.7168491\tbest: 0.7170285 (21)\ttotal: 348ms\tremaining: 258ms\n",
            "23:\tlearn: 0.7272442\ttest: 0.7191818\tbest: 0.7191818 (23)\ttotal: 361ms\tremaining: 241ms\n",
            "24:\tlearn: 0.7272442\ttest: 0.7193612\tbest: 0.7193612 (24)\ttotal: 377ms\tremaining: 226ms\n",
            "25:\tlearn: 0.7286349\ttest: 0.7195406\tbest: 0.7195406 (25)\ttotal: 390ms\tremaining: 210ms\n",
            "26:\tlearn: 0.7284554\ttest: 0.7206173\tbest: 0.7206173 (26)\ttotal: 401ms\tremaining: 193ms\n",
            "27:\tlearn: 0.7295321\ttest: 0.7197201\tbest: 0.7206173 (26)\ttotal: 419ms\tremaining: 180ms\n",
            "28:\tlearn: 0.7310125\ttest: 0.7206173\tbest: 0.7206173 (26)\ttotal: 446ms\tremaining: 169ms\n",
            "29:\tlearn: 0.7311920\ttest: 0.7200790\tbest: 0.7206173 (26)\ttotal: 465ms\tremaining: 155ms\n",
            "30:\tlearn: 0.7305639\ttest: 0.7204378\tbest: 0.7206173 (26)\ttotal: 477ms\tremaining: 139ms\n",
            "31:\tlearn: 0.7304742\ttest: 0.7215144\tbest: 0.7215144 (31)\ttotal: 494ms\tremaining: 123ms\n",
            "32:\tlearn: 0.7311022\ttest: 0.7236677\tbest: 0.7236677 (32)\ttotal: 509ms\tremaining: 108ms\n",
            "33:\tlearn: 0.7314163\ttest: 0.7243854\tbest: 0.7243854 (33)\ttotal: 522ms\tremaining: 92ms\n",
            "34:\tlearn: 0.7319546\ttest: 0.7238471\tbest: 0.7243854 (33)\ttotal: 534ms\tremaining: 76.3ms\n",
            "35:\tlearn: 0.7325827\ttest: 0.7229499\tbest: 0.7243854 (33)\ttotal: 547ms\tremaining: 60.8ms\n",
            "36:\tlearn: 0.7330313\ttest: 0.7227705\tbest: 0.7243854 (33)\ttotal: 560ms\tremaining: 45.4ms\n",
            "37:\tlearn: 0.7342425\ttest: 0.7234882\tbest: 0.7243854 (33)\ttotal: 578ms\tremaining: 30.4ms\n",
            "38:\tlearn: 0.7347809\ttest: 0.7224116\tbest: 0.7243854 (33)\ttotal: 598ms\tremaining: 15.3ms\n",
            "39:\tlearn: 0.7346463\ttest: 0.7233088\tbest: 0.7243854 (33)\ttotal: 615ms\tremaining: 0us\n",
            "\n",
            "bestTest = 0.7243854298\n",
            "bestIteration = 33\n",
            "\n",
            "13:\tloss: 0.7243854\tbest: 0.7340750 (9)\ttotal: 3s\tremaining: 16.3s\n",
            "0:\tlearn: 0.6962003\ttest: 0.6877804\tbest: 0.6877804 (0)\ttotal: 31.3ms\tremaining: 1.22s\n",
            "1:\tlearn: 0.7086717\ttest: 0.7012381\tbest: 0.7012381 (1)\ttotal: 43.1ms\tremaining: 820ms\n",
            "2:\tlearn: 0.7081782\ttest: 0.6994437\tbest: 0.7012381 (1)\ttotal: 54.2ms\tremaining: 668ms\n",
            "3:\tlearn: 0.7090754\ttest: 0.6998026\tbest: 0.7012381 (1)\ttotal: 65.8ms\tremaining: 592ms\n",
            "4:\tlearn: 0.7090754\ttest: 0.6998026\tbest: 0.7012381 (1)\ttotal: 77.6ms\tremaining: 543ms\n",
            "5:\tlearn: 0.7095240\ttest: 0.7001615\tbest: 0.7012381 (1)\ttotal: 89.7ms\tremaining: 508ms\n",
            "6:\tlearn: 0.7083576\ttest: 0.6996232\tbest: 0.7012381 (1)\ttotal: 105ms\tremaining: 495ms\n",
            "7:\tlearn: 0.7067875\ttest: 0.6971111\tbest: 0.7012381 (1)\ttotal: 118ms\tremaining: 473ms\n",
            "8:\tlearn: 0.7057557\ttest: 0.6954961\tbest: 0.7012381 (1)\ttotal: 132ms\tremaining: 455ms\n",
            "9:\tlearn: 0.7049930\ttest: 0.6962139\tbest: 0.7012381 (1)\ttotal: 144ms\tremaining: 433ms\n",
            "10:\tlearn: 0.6996097\ttest: 0.6908308\tbest: 0.7012381 (1)\ttotal: 157ms\tremaining: 414ms\n",
            "11:\tlearn: 0.6971423\ttest: 0.6895747\tbest: 0.7012381 (1)\ttotal: 171ms\tremaining: 398ms\n",
            "12:\tlearn: 0.6971872\ttest: 0.6906514\tbest: 0.7012381 (1)\ttotal: 182ms\tremaining: 378ms\n",
            "13:\tlearn: 0.7000135\ttest: 0.6917280\tbest: 0.7012381 (1)\ttotal: 195ms\tremaining: 362ms\n",
            "14:\tlearn: 0.7008210\ttest: 0.6951373\tbest: 0.7012381 (1)\ttotal: 207ms\tremaining: 344ms\n",
            "15:\tlearn: 0.6997892\ttest: 0.6938812\tbest: 0.7012381 (1)\ttotal: 219ms\tremaining: 328ms\n",
            "16:\tlearn: 0.6980396\ttest: 0.6926252\tbest: 0.7012381 (1)\ttotal: 236ms\tremaining: 319ms\n",
            "17:\tlearn: 0.6978153\ttest: 0.6913691\tbest: 0.7012381 (1)\ttotal: 244ms\tremaining: 299ms\n",
            "18:\tlearn: 0.6975012\ttest: 0.6924457\tbest: 0.7012381 (1)\ttotal: 263ms\tremaining: 291ms\n",
            "19:\tlearn: 0.6974115\ttest: 0.6926252\tbest: 0.7012381 (1)\ttotal: 288ms\tremaining: 288ms\n",
            "20:\tlearn: 0.6973667\ttest: 0.6915485\tbest: 0.7012381 (1)\ttotal: 308ms\tremaining: 278ms\n",
            "21:\tlearn: 0.6976358\ttest: 0.6913691\tbest: 0.7012381 (1)\ttotal: 322ms\tremaining: 264ms\n",
            "22:\tlearn: 0.6976807\ttest: 0.6915485\tbest: 0.7012381 (1)\ttotal: 338ms\tremaining: 249ms\n",
            "23:\tlearn: 0.6978153\ttest: 0.6919074\tbest: 0.7012381 (1)\ttotal: 349ms\tremaining: 233ms\n",
            "24:\tlearn: 0.6980396\ttest: 0.6922663\tbest: 0.7012381 (1)\ttotal: 370ms\tremaining: 222ms\n",
            "25:\tlearn: 0.6982639\ttest: 0.6913691\tbest: 0.7012381 (1)\ttotal: 382ms\tremaining: 206ms\n",
            "26:\tlearn: 0.6985330\ttest: 0.6919074\tbest: 0.7012381 (1)\ttotal: 394ms\tremaining: 189ms\n",
            "27:\tlearn: 0.6981293\ttest: 0.6920868\tbest: 0.7012381 (1)\ttotal: 404ms\tremaining: 173ms\n",
            "28:\tlearn: 0.6987573\ttest: 0.6929840\tbest: 0.7012381 (1)\ttotal: 417ms\tremaining: 158ms\n",
            "29:\tlearn: 0.6985779\ttest: 0.6929840\tbest: 0.7012381 (1)\ttotal: 429ms\tremaining: 143ms\n",
            "30:\tlearn: 0.6993854\ttest: 0.6938812\tbest: 0.7012381 (1)\ttotal: 450ms\tremaining: 131ms\n",
            "31:\tlearn: 0.6995200\ttest: 0.6944195\tbest: 0.7012381 (1)\ttotal: 463ms\tremaining: 116ms\n",
            "32:\tlearn: 0.7005518\ttest: 0.6971111\tbest: 0.7012381 (1)\ttotal: 474ms\tremaining: 101ms\n",
            "33:\tlearn: 0.7002378\ttest: 0.6953167\tbest: 0.7012381 (1)\ttotal: 486ms\tremaining: 85.8ms\n",
            "34:\tlearn: 0.7006415\ttest: 0.6972905\tbest: 0.7012381 (1)\ttotal: 498ms\tremaining: 71.1ms\n",
            "35:\tlearn: 0.7010901\ttest: 0.6976494\tbest: 0.7012381 (1)\ttotal: 509ms\tremaining: 56.6ms\n",
            "36:\tlearn: 0.7027051\ttest: 0.6978288\tbest: 0.7012381 (1)\ttotal: 521ms\tremaining: 42.3ms\n",
            "37:\tlearn: 0.7014042\ttest: 0.6976494\tbest: 0.7012381 (1)\ttotal: 532ms\tremaining: 28ms\n",
            "38:\tlearn: 0.7015836\ttest: 0.6971111\tbest: 0.7012381 (1)\ttotal: 545ms\tremaining: 14ms\n",
            "39:\tlearn: 0.7019425\ttest: 0.6987260\tbest: 0.7012381 (1)\ttotal: 557ms\tremaining: 0us\n",
            "\n",
            "bestTest = 0.7012381123\n",
            "bestIteration = 1\n",
            "\n",
            "14:\tloss: 0.7012381\tbest: 0.7340750 (9)\ttotal: 3.59s\tremaining: 18s\n",
            "0:\tlearn: 0.6962003\ttest: 0.6877804\tbest: 0.6877804 (0)\ttotal: 12.2ms\tremaining: 476ms\n",
            "1:\tlearn: 0.7166569\ttest: 0.7057240\tbest: 0.7057240 (1)\ttotal: 23.7ms\tremaining: 449ms\n",
            "2:\tlearn: 0.7240590\ttest: 0.7137987\tbest: 0.7137987 (2)\ttotal: 35.6ms\tremaining: 439ms\n",
            "3:\tlearn: 0.7305639\ttest: 0.7188229\tbest: 0.7188229 (3)\ttotal: 48.3ms\tremaining: 435ms\n",
            "4:\tlearn: 0.7332107\ttest: 0.7216939\tbest: 0.7216939 (4)\ttotal: 62.5ms\tremaining: 438ms\n",
            "5:\tlearn: 0.7346911\ttest: 0.7242060\tbest: 0.7242060 (5)\ttotal: 74.8ms\tremaining: 424ms\n",
            "6:\tlearn: 0.7344668\ttest: 0.7215144\tbest: 0.7242060 (5)\ttotal: 93.4ms\tremaining: 441ms\n",
            "7:\tlearn: 0.7381903\ttest: 0.7270770\tbest: 0.7270770 (7)\ttotal: 106ms\tremaining: 424ms\n",
            "8:\tlearn: 0.7397156\ttest: 0.7279742\tbest: 0.7279742 (8)\ttotal: 118ms\tremaining: 408ms\n",
            "9:\tlearn: 0.7409717\ttest: 0.7256415\tbest: 0.7279742 (8)\ttotal: 130ms\tremaining: 390ms\n",
            "10:\tlearn: 0.7414203\ttest: 0.7315629\tbest: 0.7315629 (10)\ttotal: 143ms\tremaining: 376ms\n",
            "11:\tlearn: 0.7425418\ttest: 0.7317423\tbest: 0.7317423 (11)\ttotal: 155ms\tremaining: 361ms\n",
            "12:\tlearn: 0.7431250\ttest: 0.7301274\tbest: 0.7317423 (11)\ttotal: 167ms\tremaining: 347ms\n",
            "13:\tlearn: 0.7433493\ttest: 0.7340750\tbest: 0.7340750 (13)\ttotal: 178ms\tremaining: 331ms\n",
            "14:\tlearn: 0.7435288\ttest: 0.7306657\tbest: 0.7340750 (13)\ttotal: 191ms\tremaining: 318ms\n",
            "15:\tlearn: 0.7437531\ttest: 0.7267181\tbest: 0.7340750 (13)\ttotal: 203ms\tremaining: 304ms\n",
            "16:\tlearn: 0.7447400\ttest: 0.7276153\tbest: 0.7340750 (13)\ttotal: 215ms\tremaining: 291ms\n",
            "17:\tlearn: 0.7448298\ttest: 0.7270770\tbest: 0.7340750 (13)\ttotal: 227ms\tremaining: 278ms\n",
            "18:\tlearn: 0.7457270\ttest: 0.7256415\tbest: 0.7340750 (13)\ttotal: 241ms\tremaining: 267ms\n",
            "19:\tlearn: 0.7454578\ttest: 0.7276153\tbest: 0.7340750 (13)\ttotal: 254ms\tremaining: 254ms\n",
            "20:\tlearn: 0.7464896\ttest: 0.7283330\tbest: 0.7340750 (13)\ttotal: 266ms\tremaining: 240ms\n",
            "21:\tlearn: 0.7469382\ttest: 0.7256415\tbest: 0.7340750 (13)\ttotal: 278ms\tremaining: 228ms\n",
            "22:\tlearn: 0.7476111\ttest: 0.7258209\tbest: 0.7340750 (13)\ttotal: 297ms\tremaining: 219ms\n",
            "23:\tlearn: 0.7480149\ttest: 0.7268975\tbest: 0.7340750 (13)\ttotal: 311ms\tremaining: 207ms\n",
            "24:\tlearn: 0.7464896\ttest: 0.7263592\tbest: 0.7340750 (13)\ttotal: 321ms\tremaining: 193ms\n",
            "25:\tlearn: 0.7463999\ttest: 0.7274359\tbest: 0.7340750 (13)\ttotal: 333ms\tremaining: 179ms\n",
            "26:\tlearn: 0.7462204\ttest: 0.7274359\tbest: 0.7340750 (13)\ttotal: 347ms\tremaining: 167ms\n",
            "27:\tlearn: 0.7464896\ttest: 0.7303068\tbest: 0.7340750 (13)\ttotal: 357ms\tremaining: 153ms\n",
            "28:\tlearn: 0.7473420\ttest: 0.7312040\tbest: 0.7340750 (13)\ttotal: 368ms\tremaining: 140ms\n",
            "29:\tlearn: 0.7483289\ttest: 0.7265387\tbest: 0.7340750 (13)\ttotal: 381ms\tremaining: 127ms\n",
            "30:\tlearn: 0.7486878\ttest: 0.7288713\tbest: 0.7340750 (13)\ttotal: 393ms\tremaining: 114ms\n",
            "31:\tlearn: 0.7490467\ttest: 0.7297685\tbest: 0.7340750 (13)\ttotal: 405ms\tremaining: 101ms\n",
            "32:\tlearn: 0.7502580\ttest: 0.7310246\tbest: 0.7340750 (13)\ttotal: 418ms\tremaining: 88.6ms\n",
            "33:\tlearn: 0.7512449\ttest: 0.7315629\tbest: 0.7340750 (13)\ttotal: 430ms\tremaining: 75.8ms\n",
            "34:\tlearn: 0.7510206\ttest: 0.7319218\tbest: 0.7340750 (13)\ttotal: 442ms\tremaining: 63.1ms\n",
            "35:\tlearn: 0.7516038\ttest: 0.7313835\tbest: 0.7340750 (13)\ttotal: 454ms\tremaining: 50.5ms\n",
            "36:\tlearn: 0.7517832\ttest: 0.7322806\tbest: 0.7340750 (13)\ttotal: 467ms\tremaining: 37.8ms\n",
            "37:\tlearn: 0.7536225\ttest: 0.7329984\tbest: 0.7340750 (13)\ttotal: 479ms\tremaining: 25.2ms\n",
            "38:\tlearn: 0.7538468\ttest: 0.7326395\tbest: 0.7340750 (13)\ttotal: 497ms\tremaining: 12.8ms\n",
            "39:\tlearn: 0.7541160\ttest: 0.7308451\tbest: 0.7340750 (13)\ttotal: 510ms\tremaining: 0us\n",
            "\n",
            "bestTest = 0.7340750045\n",
            "bestIteration = 13\n",
            "\n",
            "15:\tloss: 0.7340750\tbest: 0.7340750 (9)\ttotal: 4.13s\tremaining: 19.1s\n",
            "0:\tlearn: 0.6962003\ttest: 0.6877804\tbest: 0.6877804 (0)\ttotal: 12ms\tremaining: 467ms\n",
            "1:\tlearn: 0.6956619\ttest: 0.6876009\tbest: 0.6877804 (0)\ttotal: 24.3ms\tremaining: 462ms\n",
            "2:\tlearn: 0.6972321\ttest: 0.6888570\tbest: 0.6888570 (2)\ttotal: 35.7ms\tremaining: 440ms\n",
            "3:\tlearn: 0.6978601\ttest: 0.6881392\tbest: 0.6888570 (2)\ttotal: 48.6ms\tremaining: 437ms\n",
            "4:\tlearn: 0.7098381\ttest: 0.7001615\tbest: 0.7001615 (4)\ttotal: 61ms\tremaining: 427ms\n",
            "5:\tlearn: 0.7110942\ttest: 0.7028530\tbest: 0.7028530 (5)\ttotal: 72.9ms\tremaining: 413ms\n",
            "6:\tlearn: 0.7107801\ttest: 0.6994437\tbest: 0.7028530 (5)\ttotal: 84.8ms\tremaining: 400ms\n",
            "7:\tlearn: 0.7132475\ttest: 0.7060829\tbest: 0.7060829 (7)\ttotal: 98.4ms\tremaining: 394ms\n",
            "8:\tlearn: 0.7142344\ttest: 0.7075184\tbest: 0.7075184 (8)\ttotal: 111ms\tremaining: 381ms\n",
            "9:\tlearn: 0.7174196\ttest: 0.7100305\tbest: 0.7100305 (9)\ttotal: 123ms\tremaining: 369ms\n",
            "10:\tlearn: 0.7181374\ttest: 0.7094922\tbest: 0.7100305 (9)\ttotal: 135ms\tremaining: 355ms\n",
            "11:\tlearn: 0.7189897\ttest: 0.7084156\tbest: 0.7100305 (9)\ttotal: 148ms\tremaining: 345ms\n",
            "12:\tlearn: 0.7202010\ttest: 0.7109277\tbest: 0.7109277 (12)\ttotal: 161ms\tremaining: 334ms\n",
            "13:\tlearn: 0.7206945\ttest: 0.7125426\tbest: 0.7125426 (13)\ttotal: 173ms\tremaining: 321ms\n",
            "14:\tlearn: 0.7203804\ttest: 0.7134398\tbest: 0.7134398 (14)\ttotal: 193ms\tremaining: 322ms\n",
            "15:\tlearn: 0.7212776\ttest: 0.7141575\tbest: 0.7141575 (15)\ttotal: 206ms\tremaining: 309ms\n",
            "16:\tlearn: 0.7210533\ttest: 0.7120043\tbest: 0.7141575 (15)\ttotal: 218ms\tremaining: 295ms\n",
            "17:\tlearn: 0.7212776\ttest: 0.7132604\tbest: 0.7141575 (15)\ttotal: 230ms\tremaining: 282ms\n",
            "18:\tlearn: 0.7231170\ttest: 0.7150547\tbest: 0.7150547 (18)\ttotal: 242ms\tremaining: 267ms\n",
            "19:\tlearn: 0.7230272\ttest: 0.7164902\tbest: 0.7164902 (19)\ttotal: 254ms\tremaining: 254ms\n",
            "20:\tlearn: 0.7247768\ttest: 0.7166697\tbest: 0.7166697 (20)\ttotal: 266ms\tremaining: 241ms\n",
            "21:\tlearn: 0.7261227\ttest: 0.7159519\tbest: 0.7166697 (20)\ttotal: 279ms\tremaining: 228ms\n",
            "22:\tlearn: 0.7259881\ttest: 0.7172080\tbest: 0.7172080 (22)\ttotal: 292ms\tremaining: 216ms\n",
            "23:\tlearn: 0.7271993\ttest: 0.7159519\tbest: 0.7172080 (22)\ttotal: 305ms\tremaining: 203ms\n",
            "24:\tlearn: 0.7274685\ttest: 0.7190023\tbest: 0.7190023 (24)\ttotal: 317ms\tremaining: 190ms\n",
            "25:\tlearn: 0.7274685\ttest: 0.7184640\tbest: 0.7190023 (24)\ttotal: 330ms\tremaining: 178ms\n",
            "26:\tlearn: 0.7289040\ttest: 0.7190023\tbest: 0.7190023 (24)\ttotal: 345ms\tremaining: 166ms\n",
            "27:\tlearn: 0.7290386\ttest: 0.7191818\tbest: 0.7191818 (27)\ttotal: 357ms\tremaining: 153ms\n",
            "28:\tlearn: 0.7295770\ttest: 0.7193612\tbest: 0.7193612 (28)\ttotal: 371ms\tremaining: 141ms\n",
            "29:\tlearn: 0.7308779\ttest: 0.7220528\tbest: 0.7220528 (29)\ttotal: 408ms\tremaining: 136ms\n",
            "30:\tlearn: 0.7309677\ttest: 0.7227705\tbest: 0.7227705 (30)\ttotal: 426ms\tremaining: 124ms\n",
            "31:\tlearn: 0.7314611\ttest: 0.7229499\tbest: 0.7229499 (31)\ttotal: 442ms\tremaining: 111ms\n",
            "32:\tlearn: 0.7315957\ttest: 0.7234882\tbest: 0.7234882 (32)\ttotal: 460ms\tremaining: 97.5ms\n",
            "33:\tlearn: 0.7315957\ttest: 0.7222322\tbest: 0.7234882 (32)\ttotal: 478ms\tremaining: 84.3ms\n",
            "34:\tlearn: 0.7317303\ttest: 0.7231294\tbest: 0.7234882 (32)\ttotal: 499ms\tremaining: 71.3ms\n",
            "35:\tlearn: 0.7320892\ttest: 0.7233088\tbest: 0.7234882 (32)\ttotal: 526ms\tremaining: 58.4ms\n",
            "36:\tlearn: 0.7324481\ttest: 0.7243854\tbest: 0.7243854 (36)\ttotal: 549ms\tremaining: 44.5ms\n",
            "37:\tlearn: 0.7328070\ttest: 0.7225911\tbest: 0.7243854 (36)\ttotal: 572ms\tremaining: 30.1ms\n",
            "38:\tlearn: 0.7326275\ttest: 0.7231294\tbest: 0.7243854 (36)\ttotal: 603ms\tremaining: 15.5ms\n",
            "39:\tlearn: 0.7338388\ttest: 0.7236677\tbest: 0.7243854 (36)\ttotal: 629ms\tremaining: 0us\n",
            "\n",
            "bestTest = 0.7243854298\n",
            "bestIteration = 36\n",
            "\n",
            "16:\tloss: 0.7243854\tbest: 0.7340750 (9)\ttotal: 4.8s\tremaining: 20.6s\n",
            "0:\tlearn: 0.6962003\ttest: 0.6877804\tbest: 0.6877804 (0)\ttotal: 15.9ms\tremaining: 620ms\n",
            "1:\tlearn: 0.6956619\ttest: 0.6876009\tbest: 0.6877804 (0)\ttotal: 33.1ms\tremaining: 629ms\n",
            "2:\tlearn: 0.6977255\ttest: 0.6908308\tbest: 0.6908308 (2)\ttotal: 61.5ms\tremaining: 758ms\n",
            "3:\tlearn: 0.6982639\ttest: 0.6913691\tbest: 0.6913691 (3)\ttotal: 88.7ms\tremaining: 799ms\n",
            "4:\tlearn: 0.6978153\ttest: 0.6901130\tbest: 0.6913691 (3)\ttotal: 113ms\tremaining: 791ms\n",
            "5:\tlearn: 0.6971872\ttest: 0.6922663\tbest: 0.6922663 (5)\ttotal: 138ms\tremaining: 784ms\n",
            "6:\tlearn: 0.6974115\ttest: 0.6913691\tbest: 0.6922663 (5)\ttotal: 175ms\tremaining: 826ms\n",
            "7:\tlearn: 0.6967386\ttest: 0.6915485\tbest: 0.6922663 (5)\ttotal: 196ms\tremaining: 784ms\n",
            "8:\tlearn: 0.6971872\ttest: 0.6919074\tbest: 0.6922663 (5)\ttotal: 231ms\tremaining: 795ms\n",
            "9:\tlearn: 0.6975012\ttest: 0.6915485\tbest: 0.6922663 (5)\ttotal: 249ms\tremaining: 748ms\n",
            "10:\tlearn: 0.6976358\ttest: 0.6919074\tbest: 0.6922663 (5)\ttotal: 280ms\tremaining: 739ms\n",
            "11:\tlearn: 0.6976358\ttest: 0.6919074\tbest: 0.6922663 (5)\ttotal: 293ms\tremaining: 683ms\n",
            "12:\tlearn: 0.6966040\ttest: 0.6917280\tbest: 0.6922663 (5)\ttotal: 315ms\tremaining: 654ms\n",
            "13:\tlearn: 0.6972321\ttest: 0.6928046\tbest: 0.6928046 (13)\ttotal: 336ms\tremaining: 625ms\n",
            "14:\tlearn: 0.6972321\ttest: 0.6928046\tbest: 0.6928046 (13)\ttotal: 360ms\tremaining: 600ms\n",
            "15:\tlearn: 0.6974564\ttest: 0.6922663\tbest: 0.6928046 (13)\ttotal: 385ms\tremaining: 577ms\n",
            "16:\tlearn: 0.6975461\ttest: 0.6931635\tbest: 0.6931635 (16)\ttotal: 404ms\tremaining: 546ms\n",
            "17:\tlearn: 0.6972769\ttest: 0.6935223\tbest: 0.6935223 (17)\ttotal: 456ms\tremaining: 558ms\n",
            "18:\tlearn: 0.6978153\ttest: 0.6931635\tbest: 0.6935223 (17)\ttotal: 486ms\tremaining: 537ms\n",
            "19:\tlearn: 0.6989368\ttest: 0.6956756\tbest: 0.6956756 (19)\ttotal: 535ms\tremaining: 535ms\n",
            "20:\tlearn: 0.7010453\ttest: 0.6994437\tbest: 0.6994437 (20)\ttotal: 556ms\tremaining: 503ms\n",
            "21:\tlearn: 0.7013144\ttest: 0.6967522\tbest: 0.6994437 (20)\ttotal: 569ms\tremaining: 465ms\n",
            "22:\tlearn: 0.7012247\ttest: 0.6976494\tbest: 0.6994437 (20)\ttotal: 589ms\tremaining: 435ms\n",
            "23:\tlearn: 0.7011798\ttest: 0.6967522\tbest: 0.6994437 (20)\ttotal: 597ms\tremaining: 398ms\n",
            "24:\tlearn: 0.7011350\ttest: 0.6992643\tbest: 0.6994437 (20)\ttotal: 608ms\tremaining: 365ms\n",
            "25:\tlearn: 0.7014490\ttest: 0.6981877\tbest: 0.6994437 (20)\ttotal: 624ms\tremaining: 336ms\n",
            "26:\tlearn: 0.7011798\ttest: 0.6978288\tbest: 0.6994437 (20)\ttotal: 636ms\tremaining: 306ms\n",
            "27:\tlearn: 0.7020322\ttest: 0.6989054\tbest: 0.6994437 (20)\ttotal: 653ms\tremaining: 280ms\n",
            "28:\tlearn: 0.7015836\ttest: 0.6981877\tbest: 0.6994437 (20)\ttotal: 672ms\tremaining: 255ms\n",
            "29:\tlearn: 0.7017182\ttest: 0.6987260\tbest: 0.6994437 (20)\ttotal: 683ms\tremaining: 228ms\n",
            "30:\tlearn: 0.7016733\ttest: 0.6987260\tbest: 0.6994437 (20)\ttotal: 694ms\tremaining: 202ms\n",
            "31:\tlearn: 0.7014490\ttest: 0.6981877\tbest: 0.6994437 (20)\ttotal: 707ms\tremaining: 177ms\n",
            "32:\tlearn: 0.7020322\ttest: 0.6985466\tbest: 0.6994437 (20)\ttotal: 718ms\tremaining: 152ms\n",
            "33:\tlearn: 0.7020771\ttest: 0.6983671\tbest: 0.6994437 (20)\ttotal: 741ms\tremaining: 131ms\n",
            "34:\tlearn: 0.7018528\ttest: 0.6983671\tbest: 0.6994437 (20)\ttotal: 754ms\tremaining: 108ms\n",
            "35:\tlearn: 0.7065183\ttest: 0.6998026\tbest: 0.6998026 (35)\ttotal: 765ms\tremaining: 85ms\n",
            "36:\tlearn: 0.7062043\ttest: 0.6994437\tbest: 0.6998026 (35)\ttotal: 776ms\tremaining: 62.9ms\n",
            "37:\tlearn: 0.7034229\ttest: 0.7001615\tbest: 0.7001615 (37)\ttotal: 799ms\tremaining: 42ms\n",
            "38:\tlearn: 0.7073258\ttest: 0.7014175\tbest: 0.7014175 (38)\ttotal: 809ms\tremaining: 20.7ms\n",
            "39:\tlearn: 0.7079987\ttest: 0.7012381\tbest: 0.7014175 (38)\ttotal: 822ms\tremaining: 0us\n",
            "\n",
            "bestTest = 0.7014175489\n",
            "bestIteration = 38\n",
            "\n",
            "17:\tloss: 0.7014175\tbest: 0.7340750 (9)\ttotal: 5.7s\tremaining: 22.8s\n",
            "0:\tlearn: 0.7085819\ttest: 0.6998026\tbest: 0.6998026 (0)\ttotal: 13.7ms\tremaining: 54.7ms\n",
            "1:\tlearn: 0.7227132\ttest: 0.7073390\tbest: 0.7073390 (1)\ttotal: 30.4ms\tremaining: 45.6ms\n",
            "2:\tlearn: 0.7297564\ttest: 0.7145164\tbest: 0.7145164 (2)\ttotal: 45.5ms\tremaining: 30.3ms\n",
            "3:\tlearn: 0.7319097\ttest: 0.7157725\tbest: 0.7157725 (3)\ttotal: 63.8ms\tremaining: 16ms\n",
            "4:\tlearn: 0.7382352\ttest: 0.7222322\tbest: 0.7222322 (4)\ttotal: 77.6ms\tremaining: 0us\n",
            "\n",
            "bestTest = 0.7222321909\n",
            "bestIteration = 4\n",
            "\n",
            "18:\tloss: 0.7222322\tbest: 0.7340750 (9)\ttotal: 5.78s\tremaining: 21.6s\n",
            "0:\tlearn: 0.7085819\ttest: 0.6998026\tbest: 0.6998026 (0)\ttotal: 14.2ms\tremaining: 56.9ms\n",
            "1:\tlearn: 0.7104661\ttest: 0.7068006\tbest: 0.7068006 (1)\ttotal: 32.3ms\tremaining: 48.5ms\n",
            "2:\tlearn: 0.7132475\ttest: 0.7071595\tbest: 0.7071595 (2)\ttotal: 47.9ms\tremaining: 32ms\n",
            "3:\tlearn: 0.7173299\ttest: 0.7102099\tbest: 0.7102099 (3)\ttotal: 66.6ms\tremaining: 16.7ms\n",
            "4:\tlearn: 0.7161186\ttest: 0.7085950\tbest: 0.7102099 (3)\ttotal: 81.2ms\tremaining: 0us\n",
            "\n",
            "bestTest = 0.7102099408\n",
            "bestIteration = 3\n",
            "\n",
            "19:\tloss: 0.7102099\tbest: 0.7340750 (9)\ttotal: 5.87s\tremaining: 20.5s\n",
            "0:\tlearn: 0.7085819\ttest: 0.6998026\tbest: 0.6998026 (0)\ttotal: 40.4ms\tremaining: 162ms\n",
            "1:\tlearn: 0.7090306\ttest: 0.7046474\tbest: 0.7046474 (1)\ttotal: 61.8ms\tremaining: 92.7ms\n",
            "2:\tlearn: 0.7138756\ttest: 0.7068006\tbest: 0.7068006 (2)\ttotal: 75.8ms\tremaining: 50.5ms\n",
            "3:\tlearn: 0.7141896\ttest: 0.7091333\tbest: 0.7091333 (3)\ttotal: 93.7ms\tremaining: 23.4ms\n",
            "4:\tlearn: 0.7117222\ttest: 0.7080567\tbest: 0.7091333 (3)\ttotal: 118ms\tremaining: 0us\n",
            "\n",
            "bestTest = 0.7091333214\n",
            "bestIteration = 3\n",
            "\n",
            "20:\tloss: 0.7091333\tbest: 0.7340750 (9)\ttotal: 5.99s\tremaining: 19.7s\n",
            "0:\tlearn: 0.7085819\ttest: 0.6998026\tbest: 0.6998026 (0)\ttotal: 14.8ms\tremaining: 59ms\n",
            "1:\tlearn: 0.7226683\ttest: 0.7075184\tbest: 0.7075184 (1)\ttotal: 42.1ms\tremaining: 63.1ms\n",
            "2:\tlearn: 0.7295770\ttest: 0.7155930\tbest: 0.7155930 (2)\ttotal: 58.6ms\tremaining: 39.1ms\n",
            "3:\tlearn: 0.7313265\ttest: 0.7193612\tbest: 0.7193612 (3)\ttotal: 73.5ms\tremaining: 18.4ms\n",
            "4:\tlearn: 0.7380109\ttest: 0.7233088\tbest: 0.7233088 (4)\ttotal: 90.1ms\tremaining: 0us\n",
            "\n",
            "bestTest = 0.7233088103\n",
            "bestIteration = 4\n",
            "\n",
            "21:\tloss: 0.7233088\tbest: 0.7340750 (9)\ttotal: 6.09s\tremaining: 18.8s\n",
            "0:\tlearn: 0.7085819\ttest: 0.6998026\tbest: 0.6998026 (0)\ttotal: 22.7ms\tremaining: 90.8ms\n",
            "1:\tlearn: 0.7104661\ttest: 0.7068006\tbest: 0.7068006 (1)\ttotal: 39.6ms\tremaining: 59.4ms\n",
            "2:\tlearn: 0.7132475\ttest: 0.7071595\tbest: 0.7071595 (2)\ttotal: 56.1ms\tremaining: 37.4ms\n",
            "3:\tlearn: 0.7173299\ttest: 0.7102099\tbest: 0.7102099 (3)\ttotal: 73.4ms\tremaining: 18.3ms\n",
            "4:\tlearn: 0.7178233\ttest: 0.7098511\tbest: 0.7102099 (3)\ttotal: 91ms\tremaining: 0us\n",
            "\n",
            "bestTest = 0.7102099408\n",
            "bestIteration = 3\n",
            "\n",
            "22:\tloss: 0.7102099\tbest: 0.7340750 (9)\ttotal: 6.19s\tremaining: 18s\n",
            "0:\tlearn: 0.7085819\ttest: 0.6998026\tbest: 0.6998026 (0)\ttotal: 25.7ms\tremaining: 103ms\n",
            "1:\tlearn: 0.7090306\ttest: 0.7046474\tbest: 0.7046474 (1)\ttotal: 42.6ms\tremaining: 63.9ms\n",
            "2:\tlearn: 0.7138756\ttest: 0.7068006\tbest: 0.7068006 (2)\ttotal: 65.8ms\tremaining: 43.9ms\n",
            "3:\tlearn: 0.7141896\ttest: 0.7091333\tbest: 0.7091333 (3)\ttotal: 84.2ms\tremaining: 21.1ms\n",
            "4:\tlearn: 0.7148625\ttest: 0.7107483\tbest: 0.7107483 (4)\ttotal: 101ms\tremaining: 0us\n",
            "\n",
            "bestTest = 0.7107482505\n",
            "bestIteration = 4\n",
            "\n",
            "23:\tloss: 0.7107483\tbest: 0.7340750 (9)\ttotal: 6.29s\tremaining: 17.3s\n",
            "0:\tlearn: 0.7085819\ttest: 0.6998026\tbest: 0.6998026 (0)\ttotal: 16.9ms\tremaining: 322ms\n",
            "1:\tlearn: 0.7227132\ttest: 0.7073390\tbest: 0.7073390 (1)\ttotal: 35.9ms\tremaining: 324ms\n",
            "2:\tlearn: 0.7297564\ttest: 0.7145164\tbest: 0.7145164 (2)\ttotal: 52.5ms\tremaining: 298ms\n",
            "3:\tlearn: 0.7319097\ttest: 0.7157725\tbest: 0.7157725 (3)\ttotal: 72.6ms\tremaining: 290ms\n",
            "4:\tlearn: 0.7382352\ttest: 0.7222322\tbest: 0.7222322 (4)\ttotal: 89.3ms\tremaining: 268ms\n",
            "5:\tlearn: 0.7394464\ttest: 0.7206173\tbest: 0.7222322 (4)\ttotal: 108ms\tremaining: 251ms\n",
            "6:\tlearn: 0.7430802\ttest: 0.7182846\tbest: 0.7222322 (4)\ttotal: 124ms\tremaining: 230ms\n",
            "7:\tlearn: 0.7445606\ttest: 0.7207967\tbest: 0.7222322 (4)\ttotal: 141ms\tremaining: 211ms\n",
            "8:\tlearn: 0.7445606\ttest: 0.7220528\tbest: 0.7222322 (4)\ttotal: 164ms\tremaining: 200ms\n",
            "9:\tlearn: 0.7488673\ttest: 0.7252826\tbest: 0.7252826 (9)\ttotal: 181ms\tremaining: 181ms\n",
            "10:\tlearn: 0.7491364\ttest: 0.7261798\tbest: 0.7261798 (10)\ttotal: 197ms\tremaining: 161ms\n",
            "11:\tlearn: 0.7500336\ttest: 0.7225911\tbest: 0.7261798 (10)\ttotal: 213ms\tremaining: 142ms\n",
            "12:\tlearn: 0.7522318\ttest: 0.7222322\tbest: 0.7261798 (10)\ttotal: 229ms\tremaining: 123ms\n",
            "13:\tlearn: 0.7522318\ttest: 0.7215144\tbest: 0.7261798 (10)\ttotal: 246ms\tremaining: 105ms\n",
            "14:\tlearn: 0.7551927\ttest: 0.7254620\tbest: 0.7261798 (10)\ttotal: 262ms\tremaining: 87.3ms\n",
            "15:\tlearn: 0.7572563\ttest: 0.7245649\tbest: 0.7261798 (10)\ttotal: 278ms\tremaining: 69.6ms\n",
            "16:\tlearn: 0.7584675\ttest: 0.7229499\tbest: 0.7261798 (10)\ttotal: 295ms\tremaining: 52ms\n",
            "17:\tlearn: 0.7608452\ttest: 0.7283330\tbest: 0.7283330 (17)\ttotal: 312ms\tremaining: 34.7ms\n",
            "18:\tlearn: 0.7607555\ttest: 0.7243854\tbest: 0.7283330 (17)\ttotal: 327ms\tremaining: 17.2ms\n",
            "19:\tlearn: 0.7626845\ttest: 0.7242060\tbest: 0.7283330 (17)\ttotal: 343ms\tremaining: 0us\n",
            "\n",
            "bestTest = 0.7283330343\n",
            "bestIteration = 17\n",
            "\n",
            "24:\tloss: 0.7283330\tbest: 0.7340750 (9)\ttotal: 6.65s\tremaining: 17.3s\n",
            "0:\tlearn: 0.7085819\ttest: 0.6998026\tbest: 0.6998026 (0)\ttotal: 28.3ms\tremaining: 537ms\n",
            "1:\tlearn: 0.7104661\ttest: 0.7068006\tbest: 0.7068006 (1)\ttotal: 44.5ms\tremaining: 400ms\n",
            "2:\tlearn: 0.7132475\ttest: 0.7071595\tbest: 0.7071595 (2)\ttotal: 61ms\tremaining: 345ms\n",
            "3:\tlearn: 0.7173299\ttest: 0.7102099\tbest: 0.7102099 (3)\ttotal: 76.9ms\tremaining: 308ms\n",
            "4:\tlearn: 0.7161186\ttest: 0.7085950\tbest: 0.7102099 (3)\ttotal: 94.6ms\tremaining: 284ms\n",
            "5:\tlearn: 0.7178682\ttest: 0.7107483\tbest: 0.7107483 (5)\ttotal: 111ms\tremaining: 259ms\n",
            "6:\tlearn: 0.7190794\ttest: 0.7118249\tbest: 0.7118249 (6)\ttotal: 127ms\tremaining: 236ms\n",
            "7:\tlearn: 0.7201561\ttest: 0.7105688\tbest: 0.7118249 (6)\ttotal: 143ms\tremaining: 214ms\n",
            "8:\tlearn: 0.7240142\ttest: 0.7129015\tbest: 0.7129015 (8)\ttotal: 159ms\tremaining: 195ms\n",
            "9:\tlearn: 0.7254946\ttest: 0.7161313\tbest: 0.7161313 (9)\ttotal: 176ms\tremaining: 176ms\n",
            "10:\tlearn: 0.7243282\ttest: 0.7181051\tbest: 0.7181051 (10)\ttotal: 192ms\tremaining: 157ms\n",
            "11:\tlearn: 0.7254049\ttest: 0.7195406\tbest: 0.7195406 (11)\ttotal: 209ms\tremaining: 139ms\n",
            "12:\tlearn: 0.7263021\ttest: 0.7177463\tbest: 0.7195406 (11)\ttotal: 233ms\tremaining: 125ms\n",
            "13:\tlearn: 0.7274236\ttest: 0.7182846\tbest: 0.7195406 (11)\ttotal: 249ms\tremaining: 107ms\n",
            "14:\tlearn: 0.7288143\ttest: 0.7207967\tbest: 0.7207967 (14)\ttotal: 269ms\tremaining: 89.7ms\n",
            "15:\tlearn: 0.7300704\ttest: 0.7213350\tbest: 0.7213350 (15)\ttotal: 286ms\tremaining: 71.5ms\n",
            "16:\tlearn: 0.7307433\ttest: 0.7198995\tbest: 0.7213350 (15)\ttotal: 305ms\tremaining: 53.8ms\n",
            "17:\tlearn: 0.7308331\ttest: 0.7207967\tbest: 0.7213350 (15)\ttotal: 322ms\tremaining: 35.7ms\n",
            "18:\tlearn: 0.7317303\ttest: 0.7198995\tbest: 0.7213350 (15)\ttotal: 338ms\tremaining: 17.8ms\n",
            "19:\tlearn: 0.7321340\ttest: 0.7215144\tbest: 0.7215144 (19)\ttotal: 355ms\tremaining: 0us\n",
            "\n",
            "bestTest = 0.7215144446\n",
            "bestIteration = 19\n",
            "\n",
            "25:\tloss: 0.7215144\tbest: 0.7340750 (9)\ttotal: 7.02s\tremaining: 17.3s\n",
            "0:\tlearn: 0.7085819\ttest: 0.6998026\tbest: 0.6998026 (0)\ttotal: 16.9ms\tremaining: 322ms\n",
            "1:\tlearn: 0.7090306\ttest: 0.7046474\tbest: 0.7046474 (1)\ttotal: 33.4ms\tremaining: 300ms\n",
            "2:\tlearn: 0.7138756\ttest: 0.7068006\tbest: 0.7068006 (2)\ttotal: 50ms\tremaining: 283ms\n",
            "3:\tlearn: 0.7141896\ttest: 0.7091333\tbest: 0.7091333 (3)\ttotal: 66.3ms\tremaining: 265ms\n",
            "4:\tlearn: 0.7117222\ttest: 0.7080567\tbest: 0.7091333 (3)\ttotal: 91.1ms\tremaining: 273ms\n",
            "5:\tlearn: 0.7130232\ttest: 0.7085950\tbest: 0.7091333 (3)\ttotal: 108ms\tremaining: 252ms\n",
            "6:\tlearn: 0.7136064\ttest: 0.7071595\tbest: 0.7091333 (3)\ttotal: 125ms\tremaining: 232ms\n",
            "7:\tlearn: 0.7118119\ttest: 0.7076978\tbest: 0.7091333 (3)\ttotal: 145ms\tremaining: 217ms\n",
            "8:\tlearn: 0.7119017\ttest: 0.7050063\tbest: 0.7091333 (3)\ttotal: 171ms\tremaining: 209ms\n",
            "9:\tlearn: 0.7144588\ttest: 0.7078773\tbest: 0.7091333 (3)\ttotal: 186ms\tremaining: 186ms\n",
            "10:\tlearn: 0.7152214\ttest: 0.7076978\tbest: 0.7091333 (3)\ttotal: 206ms\tremaining: 168ms\n",
            "11:\tlearn: 0.7169261\ttest: 0.7078773\tbest: 0.7091333 (3)\ttotal: 228ms\tremaining: 152ms\n",
            "12:\tlearn: 0.7165672\ttest: 0.7069801\tbest: 0.7091333 (3)\ttotal: 244ms\tremaining: 131ms\n",
            "13:\tlearn: 0.7166121\ttest: 0.7096716\tbest: 0.7096716 (13)\ttotal: 267ms\tremaining: 115ms\n",
            "14:\tlearn: 0.7161635\ttest: 0.7087744\tbest: 0.7096716 (13)\ttotal: 300ms\tremaining: 99.9ms\n",
            "15:\tlearn: 0.7166121\ttest: 0.7069801\tbest: 0.7096716 (13)\ttotal: 341ms\tremaining: 85.2ms\n",
            "16:\tlearn: 0.7167018\ttest: 0.7091333\tbest: 0.7096716 (13)\ttotal: 360ms\tremaining: 63.5ms\n",
            "17:\tlearn: 0.7170607\ttest: 0.7102099\tbest: 0.7102099 (17)\ttotal: 374ms\tremaining: 41.5ms\n",
            "18:\tlearn: 0.7173747\ttest: 0.7112866\tbest: 0.7112866 (18)\ttotal: 397ms\tremaining: 20.9ms\n",
            "19:\tlearn: 0.7171504\ttest: 0.7109277\tbest: 0.7112866 (18)\ttotal: 419ms\tremaining: 0us\n",
            "\n",
            "bestTest = 0.7112865602\n",
            "bestIteration = 18\n",
            "\n",
            "26:\tloss: 0.7112866\tbest: 0.7340750 (9)\ttotal: 7.46s\tremaining: 17.4s\n",
            "0:\tlearn: 0.7085819\ttest: 0.6998026\tbest: 0.6998026 (0)\ttotal: 18.7ms\tremaining: 355ms\n",
            "1:\tlearn: 0.7226683\ttest: 0.7075184\tbest: 0.7075184 (1)\ttotal: 37ms\tremaining: 333ms\n",
            "2:\tlearn: 0.7295770\ttest: 0.7155930\tbest: 0.7155930 (2)\ttotal: 55.9ms\tremaining: 317ms\n",
            "3:\tlearn: 0.7313265\ttest: 0.7193612\tbest: 0.7193612 (3)\ttotal: 77.5ms\tremaining: 310ms\n",
            "4:\tlearn: 0.7380109\ttest: 0.7233088\tbest: 0.7233088 (4)\ttotal: 88.5ms\tremaining: 266ms\n",
            "5:\tlearn: 0.7402988\ttest: 0.7218733\tbest: 0.7233088 (4)\ttotal: 102ms\tremaining: 238ms\n",
            "6:\tlearn: 0.7428559\ttest: 0.7215144\tbest: 0.7233088 (4)\ttotal: 119ms\tremaining: 222ms\n",
            "7:\tlearn: 0.7433942\ttest: 0.7184640\tbest: 0.7233088 (4)\ttotal: 131ms\tremaining: 196ms\n",
            "8:\tlearn: 0.7449195\ttest: 0.7177463\tbest: 0.7233088 (4)\ttotal: 150ms\tremaining: 183ms\n",
            "9:\tlearn: 0.7469831\ttest: 0.7193612\tbest: 0.7233088 (4)\ttotal: 172ms\tremaining: 172ms\n",
            "10:\tlearn: 0.7482841\ttest: 0.7220528\tbest: 0.7233088 (4)\ttotal: 186ms\tremaining: 152ms\n",
            "11:\tlearn: 0.7493607\ttest: 0.7213350\tbest: 0.7233088 (4)\ttotal: 212ms\tremaining: 141ms\n",
            "12:\tlearn: 0.7497645\ttest: 0.7227705\tbest: 0.7233088 (4)\ttotal: 226ms\tremaining: 122ms\n",
            "13:\tlearn: 0.7513795\ttest: 0.7229499\tbest: 0.7233088 (4)\ttotal: 240ms\tremaining: 103ms\n",
            "14:\tlearn: 0.7522767\ttest: 0.7245649\tbest: 0.7245649 (14)\ttotal: 259ms\tremaining: 86.4ms\n",
            "15:\tlearn: 0.7534431\ttest: 0.7229499\tbest: 0.7245649 (14)\ttotal: 284ms\tremaining: 71ms\n",
            "16:\tlearn: 0.7555516\ttest: 0.7265387\tbest: 0.7265387 (16)\ttotal: 298ms\tremaining: 52.7ms\n",
            "17:\tlearn: 0.7564937\ttest: 0.7249237\tbest: 0.7265387 (16)\ttotal: 315ms\tremaining: 35ms\n",
            "18:\tlearn: 0.7572563\ttest: 0.7242060\tbest: 0.7265387 (16)\ttotal: 333ms\tremaining: 17.5ms\n",
            "19:\tlearn: 0.7577946\ttest: 0.7254620\tbest: 0.7265387 (16)\ttotal: 366ms\tremaining: 0us\n",
            "\n",
            "bestTest = 0.7265386686\n",
            "bestIteration = 16\n",
            "\n",
            "27:\tloss: 0.7265387\tbest: 0.7340750 (9)\ttotal: 7.85s\tremaining: 17.4s\n",
            "0:\tlearn: 0.7085819\ttest: 0.6998026\tbest: 0.6998026 (0)\ttotal: 15.4ms\tremaining: 293ms\n",
            "1:\tlearn: 0.7104661\ttest: 0.7068006\tbest: 0.7068006 (1)\ttotal: 33ms\tremaining: 297ms\n",
            "2:\tlearn: 0.7132475\ttest: 0.7071595\tbest: 0.7071595 (2)\ttotal: 46.7ms\tremaining: 264ms\n",
            "3:\tlearn: 0.7173299\ttest: 0.7102099\tbest: 0.7102099 (3)\ttotal: 65.3ms\tremaining: 261ms\n",
            "4:\tlearn: 0.7178233\ttest: 0.7098511\tbest: 0.7102099 (3)\ttotal: 81.7ms\tremaining: 245ms\n",
            "5:\tlearn: 0.7203356\ttest: 0.7132604\tbest: 0.7132604 (5)\ttotal: 95.5ms\tremaining: 223ms\n",
            "6:\tlearn: 0.7216814\ttest: 0.7150547\tbest: 0.7150547 (6)\ttotal: 113ms\tremaining: 211ms\n",
            "7:\tlearn: 0.7232515\ttest: 0.7134398\tbest: 0.7150547 (6)\ttotal: 130ms\tremaining: 195ms\n",
            "8:\tlearn: 0.7228926\ttest: 0.7132604\tbest: 0.7150547 (6)\ttotal: 147ms\tremaining: 180ms\n",
            "9:\tlearn: 0.7240590\ttest: 0.7154136\tbest: 0.7154136 (9)\ttotal: 164ms\tremaining: 164ms\n",
            "10:\tlearn: 0.7262124\ttest: 0.7148753\tbest: 0.7154136 (9)\ttotal: 181ms\tremaining: 148ms\n",
            "11:\tlearn: 0.7264815\ttest: 0.7152342\tbest: 0.7154136 (9)\ttotal: 197ms\tremaining: 131ms\n",
            "12:\tlearn: 0.7271545\ttest: 0.7168491\tbest: 0.7168491 (12)\ttotal: 215ms\tremaining: 116ms\n",
            "13:\tlearn: 0.7285452\ttest: 0.7168491\tbest: 0.7168491 (12)\ttotal: 232ms\tremaining: 99.3ms\n",
            "14:\tlearn: 0.7283657\ttest: 0.7181051\tbest: 0.7181051 (14)\ttotal: 248ms\tremaining: 82.8ms\n",
            "15:\tlearn: 0.7304742\ttest: 0.7175668\tbest: 0.7181051 (14)\ttotal: 266ms\tremaining: 66.4ms\n",
            "16:\tlearn: 0.7308779\ttest: 0.7190023\tbest: 0.7190023 (16)\ttotal: 283ms\tremaining: 49.9ms\n",
            "17:\tlearn: 0.7325827\ttest: 0.7202584\tbest: 0.7202584 (17)\ttotal: 300ms\tremaining: 33.3ms\n",
            "18:\tlearn: 0.7337939\ttest: 0.7193612\tbest: 0.7202584 (17)\ttotal: 331ms\tremaining: 17.4ms\n",
            "19:\tlearn: 0.7346463\ttest: 0.7215144\tbest: 0.7215144 (19)\ttotal: 349ms\tremaining: 0us\n",
            "\n",
            "bestTest = 0.7215144446\n",
            "bestIteration = 19\n",
            "\n",
            "28:\tloss: 0.7215144\tbest: 0.7340750 (9)\ttotal: 8.21s\tremaining: 17.3s\n",
            "0:\tlearn: 0.7085819\ttest: 0.6998026\tbest: 0.6998026 (0)\ttotal: 17.2ms\tremaining: 327ms\n",
            "1:\tlearn: 0.7090306\ttest: 0.7046474\tbest: 0.7046474 (1)\ttotal: 33.7ms\tremaining: 304ms\n",
            "2:\tlearn: 0.7138756\ttest: 0.7068006\tbest: 0.7068006 (2)\ttotal: 50.9ms\tremaining: 289ms\n",
            "3:\tlearn: 0.7141896\ttest: 0.7091333\tbest: 0.7091333 (3)\ttotal: 67.7ms\tremaining: 271ms\n",
            "4:\tlearn: 0.7148625\ttest: 0.7107483\tbest: 0.7107483 (4)\ttotal: 84.4ms\tremaining: 253ms\n",
            "5:\tlearn: 0.7137858\ttest: 0.7085950\tbest: 0.7107483 (4)\ttotal: 101ms\tremaining: 235ms\n",
            "6:\tlearn: 0.7145933\ttest: 0.7100305\tbest: 0.7107483 (4)\ttotal: 118ms\tremaining: 220ms\n",
            "7:\tlearn: 0.7136512\ttest: 0.7093128\tbest: 0.7107483 (4)\ttotal: 142ms\tremaining: 213ms\n",
            "8:\tlearn: 0.7145036\ttest: 0.7076978\tbest: 0.7107483 (4)\ttotal: 183ms\tremaining: 223ms\n",
            "9:\tlearn: 0.7162981\ttest: 0.7096716\tbest: 0.7107483 (4)\ttotal: 217ms\tremaining: 217ms\n",
            "10:\tlearn: 0.7159392\ttest: 0.7075184\tbest: 0.7107483 (4)\ttotal: 257ms\tremaining: 210ms\n",
            "11:\tlearn: 0.7154008\ttest: 0.7055446\tbest: 0.7107483 (4)\ttotal: 291ms\tremaining: 194ms\n",
            "12:\tlearn: 0.7153560\ttest: 0.7060829\tbest: 0.7107483 (4)\ttotal: 308ms\tremaining: 166ms\n",
            "13:\tlearn: 0.7154906\ttest: 0.7064418\tbest: 0.7107483 (4)\ttotal: 325ms\tremaining: 139ms\n",
            "14:\tlearn: 0.7150419\ttest: 0.7071595\tbest: 0.7107483 (4)\ttotal: 342ms\tremaining: 114ms\n",
            "15:\tlearn: 0.7153560\ttest: 0.7060829\tbest: 0.7107483 (4)\ttotal: 358ms\tremaining: 89.6ms\n",
            "16:\tlearn: 0.7163429\ttest: 0.7076978\tbest: 0.7107483 (4)\ttotal: 375ms\tremaining: 66.2ms\n",
            "17:\tlearn: 0.7162981\ttest: 0.7084156\tbest: 0.7107483 (4)\ttotal: 394ms\tremaining: 43.8ms\n",
            "18:\tlearn: 0.7161635\ttest: 0.7084156\tbest: 0.7107483 (4)\ttotal: 411ms\tremaining: 21.6ms\n",
            "19:\tlearn: 0.7160289\ttest: 0.7087744\tbest: 0.7107483 (4)\ttotal: 428ms\tremaining: 0us\n",
            "\n",
            "bestTest = 0.7107482505\n",
            "bestIteration = 4\n",
            "\n",
            "29:\tloss: 0.7107483\tbest: 0.7340750 (9)\ttotal: 8.66s\tremaining: 17.3s\n",
            "0:\tlearn: 0.7085819\ttest: 0.6998026\tbest: 0.6998026 (0)\ttotal: 18ms\tremaining: 703ms\n",
            "1:\tlearn: 0.7227132\ttest: 0.7073390\tbest: 0.7073390 (1)\ttotal: 36.8ms\tremaining: 699ms\n",
            "2:\tlearn: 0.7297564\ttest: 0.7145164\tbest: 0.7145164 (2)\ttotal: 62.7ms\tremaining: 774ms\n",
            "3:\tlearn: 0.7319097\ttest: 0.7157725\tbest: 0.7157725 (3)\ttotal: 85.5ms\tremaining: 770ms\n",
            "4:\tlearn: 0.7382352\ttest: 0.7222322\tbest: 0.7222322 (4)\ttotal: 104ms\tremaining: 725ms\n",
            "5:\tlearn: 0.7394464\ttest: 0.7206173\tbest: 0.7222322 (4)\ttotal: 122ms\tremaining: 694ms\n",
            "6:\tlearn: 0.7430802\ttest: 0.7182846\tbest: 0.7222322 (4)\ttotal: 148ms\tremaining: 698ms\n",
            "7:\tlearn: 0.7445606\ttest: 0.7207967\tbest: 0.7222322 (4)\ttotal: 166ms\tremaining: 664ms\n",
            "8:\tlearn: 0.7445606\ttest: 0.7220528\tbest: 0.7222322 (4)\ttotal: 184ms\tremaining: 634ms\n",
            "9:\tlearn: 0.7488673\ttest: 0.7252826\tbest: 0.7252826 (9)\ttotal: 201ms\tremaining: 604ms\n",
            "10:\tlearn: 0.7491364\ttest: 0.7261798\tbest: 0.7261798 (10)\ttotal: 218ms\tremaining: 575ms\n",
            "11:\tlearn: 0.7500336\ttest: 0.7225911\tbest: 0.7261798 (10)\ttotal: 234ms\tremaining: 547ms\n",
            "12:\tlearn: 0.7522318\ttest: 0.7222322\tbest: 0.7261798 (10)\ttotal: 251ms\tremaining: 521ms\n",
            "13:\tlearn: 0.7522318\ttest: 0.7215144\tbest: 0.7261798 (10)\ttotal: 268ms\tremaining: 498ms\n",
            "14:\tlearn: 0.7551927\ttest: 0.7254620\tbest: 0.7261798 (10)\ttotal: 285ms\tremaining: 475ms\n",
            "15:\tlearn: 0.7572563\ttest: 0.7245649\tbest: 0.7261798 (10)\ttotal: 302ms\tremaining: 452ms\n",
            "16:\tlearn: 0.7584675\ttest: 0.7229499\tbest: 0.7261798 (10)\ttotal: 319ms\tremaining: 432ms\n",
            "17:\tlearn: 0.7608452\ttest: 0.7283330\tbest: 0.7283330 (17)\ttotal: 349ms\tremaining: 427ms\n",
            "18:\tlearn: 0.7607555\ttest: 0.7243854\tbest: 0.7283330 (17)\ttotal: 368ms\tremaining: 406ms\n",
            "19:\tlearn: 0.7626845\ttest: 0.7242060\tbest: 0.7283330 (17)\ttotal: 385ms\tremaining: 385ms\n",
            "20:\tlearn: 0.7624153\ttest: 0.7245649\tbest: 0.7283330 (17)\ttotal: 410ms\tremaining: 371ms\n",
            "21:\tlearn: 0.7630434\ttest: 0.7247443\tbest: 0.7283330 (17)\ttotal: 426ms\tremaining: 348ms\n",
            "22:\tlearn: 0.7639406\ttest: 0.7236677\tbest: 0.7283330 (17)\ttotal: 443ms\tremaining: 327ms\n",
            "23:\tlearn: 0.7646584\ttest: 0.7231294\tbest: 0.7283330 (17)\ttotal: 483ms\tremaining: 322ms\n",
            "24:\tlearn: 0.7665426\ttest: 0.7242060\tbest: 0.7283330 (17)\ttotal: 522ms\tremaining: 313ms\n",
            "25:\tlearn: 0.7681576\ttest: 0.7240266\tbest: 0.7283330 (17)\ttotal: 539ms\tremaining: 290ms\n",
            "26:\tlearn: 0.7695931\ttest: 0.7222322\tbest: 0.7283330 (17)\ttotal: 556ms\tremaining: 267ms\n",
            "27:\tlearn: 0.7699071\ttest: 0.7211556\tbest: 0.7283330 (17)\ttotal: 576ms\tremaining: 247ms\n",
            "28:\tlearn: 0.7703557\ttest: 0.7207967\tbest: 0.7283330 (17)\ttotal: 593ms\tremaining: 225ms\n",
            "29:\tlearn: 0.7717913\ttest: 0.7186435\tbest: 0.7283330 (17)\ttotal: 610ms\tremaining: 203ms\n",
            "30:\tlearn: 0.7730474\ttest: 0.7195406\tbest: 0.7283330 (17)\ttotal: 627ms\tremaining: 182ms\n",
            "31:\tlearn: 0.7743035\ttest: 0.7179257\tbest: 0.7283330 (17)\ttotal: 644ms\tremaining: 161ms\n",
            "32:\tlearn: 0.7751110\ttest: 0.7182846\tbest: 0.7283330 (17)\ttotal: 661ms\tremaining: 140ms\n",
            "33:\tlearn: 0.7747970\ttest: 0.7175668\tbest: 0.7283330 (17)\ttotal: 677ms\tremaining: 119ms\n",
            "34:\tlearn: 0.7756494\ttest: 0.7206173\tbest: 0.7283330 (17)\ttotal: 711ms\tremaining: 102ms\n",
            "35:\tlearn: 0.7767709\ttest: 0.7202584\tbest: 0.7283330 (17)\ttotal: 727ms\tremaining: 80.8ms\n",
            "36:\tlearn: 0.7779373\ttest: 0.7224116\tbest: 0.7283330 (17)\ttotal: 747ms\tremaining: 60.5ms\n",
            "37:\tlearn: 0.7786999\ttest: 0.7229499\tbest: 0.7283330 (17)\ttotal: 764ms\tremaining: 40.2ms\n",
            "38:\tlearn: 0.7794177\ttest: 0.7233088\tbest: 0.7283330 (17)\ttotal: 789ms\tremaining: 20.2ms\n",
            "39:\tlearn: 0.7802252\ttest: 0.7225911\tbest: 0.7283330 (17)\ttotal: 802ms\tremaining: 0us\n",
            "\n",
            "bestTest = 0.7283330343\n",
            "bestIteration = 17\n",
            "\n",
            "30:\tloss: 0.7283330\tbest: 0.7340750 (9)\ttotal: 9.49s\tremaining: 18.1s\n",
            "0:\tlearn: 0.7085819\ttest: 0.6998026\tbest: 0.6998026 (0)\ttotal: 36.3ms\tremaining: 1.41s\n",
            "1:\tlearn: 0.7104661\ttest: 0.7068006\tbest: 0.7068006 (1)\ttotal: 53.3ms\tremaining: 1.01s\n",
            "2:\tlearn: 0.7132475\ttest: 0.7071595\tbest: 0.7071595 (2)\ttotal: 70.3ms\tremaining: 867ms\n",
            "3:\tlearn: 0.7173299\ttest: 0.7102099\tbest: 0.7102099 (3)\ttotal: 86.9ms\tremaining: 782ms\n",
            "4:\tlearn: 0.7161186\ttest: 0.7085950\tbest: 0.7102099 (3)\ttotal: 103ms\tremaining: 722ms\n",
            "5:\tlearn: 0.7178682\ttest: 0.7107483\tbest: 0.7107483 (5)\ttotal: 121ms\tremaining: 687ms\n",
            "6:\tlearn: 0.7190794\ttest: 0.7118249\tbest: 0.7118249 (6)\ttotal: 138ms\tremaining: 648ms\n",
            "7:\tlearn: 0.7201561\ttest: 0.7105688\tbest: 0.7118249 (6)\ttotal: 173ms\tremaining: 692ms\n",
            "8:\tlearn: 0.7240142\ttest: 0.7129015\tbest: 0.7129015 (8)\ttotal: 194ms\tremaining: 668ms\n",
            "9:\tlearn: 0.7254946\ttest: 0.7161313\tbest: 0.7161313 (9)\ttotal: 210ms\tremaining: 631ms\n",
            "10:\tlearn: 0.7243282\ttest: 0.7181051\tbest: 0.7181051 (10)\ttotal: 227ms\tremaining: 599ms\n",
            "11:\tlearn: 0.7254049\ttest: 0.7195406\tbest: 0.7195406 (11)\ttotal: 253ms\tremaining: 590ms\n",
            "12:\tlearn: 0.7263021\ttest: 0.7177463\tbest: 0.7195406 (11)\ttotal: 272ms\tremaining: 565ms\n",
            "13:\tlearn: 0.7274236\ttest: 0.7182846\tbest: 0.7195406 (11)\ttotal: 315ms\tremaining: 585ms\n",
            "14:\tlearn: 0.7288143\ttest: 0.7207967\tbest: 0.7207967 (14)\ttotal: 357ms\tremaining: 595ms\n",
            "15:\tlearn: 0.7300704\ttest: 0.7213350\tbest: 0.7213350 (15)\ttotal: 385ms\tremaining: 578ms\n",
            "16:\tlearn: 0.7307433\ttest: 0.7198995\tbest: 0.7213350 (15)\ttotal: 405ms\tremaining: 547ms\n",
            "17:\tlearn: 0.7308331\ttest: 0.7207967\tbest: 0.7213350 (15)\ttotal: 422ms\tremaining: 516ms\n",
            "18:\tlearn: 0.7317303\ttest: 0.7198995\tbest: 0.7213350 (15)\ttotal: 439ms\tremaining: 485ms\n",
            "19:\tlearn: 0.7321340\ttest: 0.7215144\tbest: 0.7215144 (19)\ttotal: 473ms\tremaining: 473ms\n",
            "20:\tlearn: 0.7321789\ttest: 0.7220528\tbest: 0.7220528 (20)\ttotal: 504ms\tremaining: 456ms\n",
            "21:\tlearn: 0.7332107\ttest: 0.7224116\tbest: 0.7224116 (21)\ttotal: 524ms\tremaining: 429ms\n",
            "22:\tlearn: 0.7339285\ttest: 0.7213350\tbest: 0.7224116 (21)\ttotal: 545ms\tremaining: 403ms\n",
            "23:\tlearn: 0.7347360\ttest: 0.7220528\tbest: 0.7224116 (21)\ttotal: 562ms\tremaining: 375ms\n",
            "24:\tlearn: 0.7349603\ttest: 0.7236677\tbest: 0.7236677 (24)\ttotal: 578ms\tremaining: 347ms\n",
            "25:\tlearn: 0.7357678\ttest: 0.7238471\tbest: 0.7238471 (25)\ttotal: 605ms\tremaining: 326ms\n",
            "26:\tlearn: 0.7357678\ttest: 0.7240266\tbest: 0.7240266 (26)\ttotal: 626ms\tremaining: 301ms\n",
            "27:\tlearn: 0.7369342\ttest: 0.7251032\tbest: 0.7251032 (27)\ttotal: 643ms\tremaining: 276ms\n",
            "28:\tlearn: 0.7373828\ttest: 0.7251032\tbest: 0.7251032 (27)\ttotal: 660ms\tremaining: 250ms\n",
            "29:\tlearn: 0.7383697\ttest: 0.7265387\tbest: 0.7265387 (29)\ttotal: 677ms\tremaining: 226ms\n",
            "30:\tlearn: 0.7391772\ttest: 0.7263592\tbest: 0.7265387 (29)\ttotal: 694ms\tremaining: 201ms\n",
            "31:\tlearn: 0.7391772\ttest: 0.7268975\tbest: 0.7268975 (31)\ttotal: 730ms\tremaining: 183ms\n",
            "32:\tlearn: 0.7402539\ttest: 0.7276153\tbest: 0.7276153 (32)\ttotal: 764ms\tremaining: 162ms\n",
            "33:\tlearn: 0.7407025\ttest: 0.7281536\tbest: 0.7281536 (33)\ttotal: 789ms\tremaining: 139ms\n",
            "34:\tlearn: 0.7407474\ttest: 0.7285125\tbest: 0.7285125 (34)\ttotal: 822ms\tremaining: 117ms\n",
            "35:\tlearn: 0.7401193\ttest: 0.7272564\tbest: 0.7285125 (34)\ttotal: 850ms\tremaining: 94.5ms\n",
            "36:\tlearn: 0.7402091\ttest: 0.7276153\tbest: 0.7285125 (34)\ttotal: 868ms\tremaining: 70.3ms\n",
            "37:\tlearn: 0.7410166\ttest: 0.7288713\tbest: 0.7288713 (37)\ttotal: 885ms\tremaining: 46.6ms\n",
            "38:\tlearn: 0.7415100\ttest: 0.7299480\tbest: 0.7299480 (38)\ttotal: 911ms\tremaining: 23.4ms\n",
            "39:\tlearn: 0.7420932\ttest: 0.7310246\tbest: 0.7310246 (39)\ttotal: 949ms\tremaining: 0us\n",
            "\n",
            "bestTest = 0.7310245828\n",
            "bestIteration = 39\n",
            "\n",
            "31:\tloss: 0.7310246\tbest: 0.7340750 (9)\ttotal: 10.5s\tremaining: 19s\n",
            "0:\tlearn: 0.7085819\ttest: 0.6998026\tbest: 0.6998026 (0)\ttotal: 44.1ms\tremaining: 1.72s\n",
            "1:\tlearn: 0.7090306\ttest: 0.7046474\tbest: 0.7046474 (1)\ttotal: 87.9ms\tremaining: 1.67s\n",
            "2:\tlearn: 0.7138756\ttest: 0.7068006\tbest: 0.7068006 (2)\ttotal: 115ms\tremaining: 1.41s\n",
            "3:\tlearn: 0.7141896\ttest: 0.7091333\tbest: 0.7091333 (3)\ttotal: 139ms\tremaining: 1.25s\n",
            "4:\tlearn: 0.7117222\ttest: 0.7080567\tbest: 0.7091333 (3)\ttotal: 161ms\tremaining: 1.13s\n",
            "5:\tlearn: 0.7130232\ttest: 0.7085950\tbest: 0.7091333 (3)\ttotal: 179ms\tremaining: 1.02s\n",
            "6:\tlearn: 0.7136064\ttest: 0.7071595\tbest: 0.7091333 (3)\ttotal: 198ms\tremaining: 932ms\n",
            "7:\tlearn: 0.7118119\ttest: 0.7076978\tbest: 0.7091333 (3)\ttotal: 214ms\tremaining: 857ms\n",
            "8:\tlearn: 0.7119017\ttest: 0.7050063\tbest: 0.7091333 (3)\ttotal: 233ms\tremaining: 803ms\n",
            "9:\tlearn: 0.7144588\ttest: 0.7078773\tbest: 0.7091333 (3)\ttotal: 255ms\tremaining: 766ms\n",
            "10:\tlearn: 0.7152214\ttest: 0.7076978\tbest: 0.7091333 (3)\ttotal: 272ms\tremaining: 718ms\n",
            "11:\tlearn: 0.7169261\ttest: 0.7078773\tbest: 0.7091333 (3)\ttotal: 289ms\tremaining: 673ms\n",
            "12:\tlearn: 0.7165672\ttest: 0.7069801\tbest: 0.7091333 (3)\ttotal: 307ms\tremaining: 638ms\n",
            "13:\tlearn: 0.7166121\ttest: 0.7096716\tbest: 0.7096716 (13)\ttotal: 324ms\tremaining: 602ms\n",
            "14:\tlearn: 0.7161635\ttest: 0.7087744\tbest: 0.7096716 (13)\ttotal: 344ms\tremaining: 573ms\n",
            "15:\tlearn: 0.7166121\ttest: 0.7069801\tbest: 0.7096716 (13)\ttotal: 360ms\tremaining: 540ms\n",
            "16:\tlearn: 0.7167018\ttest: 0.7091333\tbest: 0.7096716 (13)\ttotal: 377ms\tremaining: 510ms\n",
            "17:\tlearn: 0.7170607\ttest: 0.7102099\tbest: 0.7102099 (17)\ttotal: 394ms\tremaining: 481ms\n",
            "18:\tlearn: 0.7173747\ttest: 0.7112866\tbest: 0.7112866 (18)\ttotal: 415ms\tremaining: 458ms\n",
            "19:\tlearn: 0.7171504\ttest: 0.7109277\tbest: 0.7112866 (18)\ttotal: 437ms\tremaining: 437ms\n",
            "20:\tlearn: 0.7165672\ttest: 0.7085950\tbest: 0.7112866 (18)\ttotal: 471ms\tremaining: 427ms\n",
            "21:\tlearn: 0.7175542\ttest: 0.7116454\tbest: 0.7116454 (21)\ttotal: 488ms\tremaining: 399ms\n",
            "22:\tlearn: 0.7178682\ttest: 0.7111071\tbest: 0.7116454 (21)\ttotal: 506ms\tremaining: 374ms\n",
            "23:\tlearn: 0.7181374\ttest: 0.7121837\tbest: 0.7121837 (23)\ttotal: 521ms\tremaining: 347ms\n",
            "24:\tlearn: 0.7188551\ttest: 0.7127221\tbest: 0.7127221 (24)\ttotal: 536ms\tremaining: 322ms\n",
            "25:\tlearn: 0.7185860\ttest: 0.7129015\tbest: 0.7129015 (25)\ttotal: 571ms\tremaining: 308ms\n",
            "26:\tlearn: 0.7187206\ttest: 0.7120043\tbest: 0.7129015 (25)\ttotal: 587ms\tremaining: 283ms\n",
            "27:\tlearn: 0.7193486\ttest: 0.7123632\tbest: 0.7129015 (25)\ttotal: 604ms\tremaining: 259ms\n",
            "28:\tlearn: 0.7205599\ttest: 0.7136192\tbest: 0.7136192 (28)\ttotal: 617ms\tremaining: 234ms\n",
            "29:\tlearn: 0.7193038\ttest: 0.7139781\tbest: 0.7139781 (29)\ttotal: 636ms\tremaining: 212ms\n",
            "30:\tlearn: 0.7203356\ttest: 0.7146959\tbest: 0.7146959 (30)\ttotal: 653ms\tremaining: 190ms\n",
            "31:\tlearn: 0.7202458\ttest: 0.7146959\tbest: 0.7146959 (30)\ttotal: 677ms\tremaining: 169ms\n",
            "32:\tlearn: 0.7205599\ttest: 0.7139781\tbest: 0.7146959 (30)\ttotal: 695ms\tremaining: 147ms\n",
            "33:\tlearn: 0.7203356\ttest: 0.7129015\tbest: 0.7146959 (30)\ttotal: 711ms\tremaining: 125ms\n",
            "34:\tlearn: 0.7198869\ttest: 0.7137987\tbest: 0.7146959 (30)\ttotal: 728ms\tremaining: 104ms\n",
            "35:\tlearn: 0.7204701\ttest: 0.7123632\tbest: 0.7146959 (30)\ttotal: 744ms\tremaining: 82.7ms\n",
            "36:\tlearn: 0.7211879\ttest: 0.7136192\tbest: 0.7146959 (30)\ttotal: 761ms\tremaining: 61.7ms\n",
            "37:\tlearn: 0.7224440\ttest: 0.7114660\tbest: 0.7146959 (30)\ttotal: 777ms\tremaining: 40.9ms\n",
            "38:\tlearn: 0.7215468\ttest: 0.7130809\tbest: 0.7146959 (30)\ttotal: 794ms\tremaining: 20.4ms\n",
            "39:\tlearn: 0.7212776\ttest: 0.7136192\tbest: 0.7146959 (30)\ttotal: 810ms\tremaining: 0us\n",
            "\n",
            "bestTest = 0.714695855\n",
            "bestIteration = 30\n",
            "\n",
            "32:\tloss: 0.7146959\tbest: 0.7340750 (9)\ttotal: 11.4s\tremaining: 19.6s\n",
            "0:\tlearn: 0.7085819\ttest: 0.6998026\tbest: 0.6998026 (0)\ttotal: 17.2ms\tremaining: 672ms\n",
            "1:\tlearn: 0.7226683\ttest: 0.7075184\tbest: 0.7075184 (1)\ttotal: 34.9ms\tremaining: 663ms\n",
            "2:\tlearn: 0.7295770\ttest: 0.7155930\tbest: 0.7155930 (2)\ttotal: 72.8ms\tremaining: 897ms\n",
            "3:\tlearn: 0.7313265\ttest: 0.7193612\tbest: 0.7193612 (3)\ttotal: 98.5ms\tremaining: 887ms\n",
            "4:\tlearn: 0.7380109\ttest: 0.7233088\tbest: 0.7233088 (4)\ttotal: 116ms\tremaining: 815ms\n",
            "5:\tlearn: 0.7402988\ttest: 0.7218733\tbest: 0.7233088 (4)\ttotal: 131ms\tremaining: 741ms\n",
            "6:\tlearn: 0.7428559\ttest: 0.7215144\tbest: 0.7233088 (4)\ttotal: 158ms\tremaining: 747ms\n",
            "7:\tlearn: 0.7433942\ttest: 0.7184640\tbest: 0.7233088 (4)\ttotal: 173ms\tremaining: 692ms\n",
            "8:\tlearn: 0.7449195\ttest: 0.7177463\tbest: 0.7233088 (4)\ttotal: 192ms\tremaining: 660ms\n",
            "9:\tlearn: 0.7469831\ttest: 0.7193612\tbest: 0.7233088 (4)\ttotal: 207ms\tremaining: 622ms\n",
            "10:\tlearn: 0.7482841\ttest: 0.7220528\tbest: 0.7233088 (4)\ttotal: 229ms\tremaining: 604ms\n",
            "11:\tlearn: 0.7493607\ttest: 0.7213350\tbest: 0.7233088 (4)\ttotal: 256ms\tremaining: 598ms\n",
            "12:\tlearn: 0.7497645\ttest: 0.7227705\tbest: 0.7233088 (4)\ttotal: 275ms\tremaining: 571ms\n",
            "13:\tlearn: 0.7513795\ttest: 0.7229499\tbest: 0.7233088 (4)\ttotal: 291ms\tremaining: 541ms\n",
            "14:\tlearn: 0.7522767\ttest: 0.7245649\tbest: 0.7245649 (14)\ttotal: 331ms\tremaining: 552ms\n",
            "15:\tlearn: 0.7534431\ttest: 0.7229499\tbest: 0.7245649 (14)\ttotal: 355ms\tremaining: 532ms\n",
            "16:\tlearn: 0.7555516\ttest: 0.7265387\tbest: 0.7265387 (16)\ttotal: 379ms\tremaining: 512ms\n",
            "17:\tlearn: 0.7564937\ttest: 0.7249237\tbest: 0.7265387 (16)\ttotal: 426ms\tremaining: 521ms\n",
            "18:\tlearn: 0.7572563\ttest: 0.7242060\tbest: 0.7265387 (16)\ttotal: 444ms\tremaining: 491ms\n",
            "19:\tlearn: 0.7577946\ttest: 0.7254620\tbest: 0.7265387 (16)\ttotal: 459ms\tremaining: 459ms\n",
            "20:\tlearn: 0.7598582\ttest: 0.7274359\tbest: 0.7274359 (20)\ttotal: 487ms\tremaining: 441ms\n",
            "21:\tlearn: 0.7605312\ttest: 0.7274359\tbest: 0.7274359 (20)\ttotal: 506ms\tremaining: 414ms\n",
            "22:\tlearn: 0.7608452\ttest: 0.7265387\tbest: 0.7274359 (20)\ttotal: 524ms\tremaining: 388ms\n",
            "23:\tlearn: 0.7640752\ttest: 0.7249237\tbest: 0.7274359 (20)\ttotal: 549ms\tremaining: 366ms\n",
            "24:\tlearn: 0.7650173\ttest: 0.7272564\tbest: 0.7274359 (20)\ttotal: 578ms\tremaining: 347ms\n",
            "25:\tlearn: 0.7656005\ttest: 0.7285125\tbest: 0.7285125 (25)\ttotal: 591ms\tremaining: 318ms\n",
            "26:\tlearn: 0.7663631\ttest: 0.7267181\tbest: 0.7285125 (25)\ttotal: 619ms\tremaining: 298ms\n",
            "27:\tlearn: 0.7677538\ttest: 0.7279742\tbest: 0.7285125 (25)\ttotal: 640ms\tremaining: 274ms\n",
            "28:\tlearn: 0.7686959\ttest: 0.7249237\tbest: 0.7285125 (25)\ttotal: 657ms\tremaining: 249ms\n",
            "29:\tlearn: 0.7697277\ttest: 0.7258209\tbest: 0.7285125 (25)\ttotal: 690ms\tremaining: 230ms\n",
            "30:\tlearn: 0.7720156\ttest: 0.7279742\tbest: 0.7285125 (25)\ttotal: 712ms\tremaining: 207ms\n",
            "31:\tlearn: 0.7721053\ttest: 0.7258209\tbest: 0.7285125 (25)\ttotal: 731ms\tremaining: 183ms\n",
            "32:\tlearn: 0.7727334\ttest: 0.7281536\tbest: 0.7285125 (25)\ttotal: 749ms\tremaining: 159ms\n",
            "33:\tlearn: 0.7740792\ttest: 0.7247443\tbest: 0.7285125 (25)\ttotal: 763ms\tremaining: 135ms\n",
            "34:\tlearn: 0.7747970\ttest: 0.7233088\tbest: 0.7285125 (25)\ttotal: 785ms\tremaining: 112ms\n",
            "35:\tlearn: 0.7747970\ttest: 0.7242060\tbest: 0.7285125 (25)\ttotal: 800ms\tremaining: 88.9ms\n",
            "36:\tlearn: 0.7754699\ttest: 0.7254620\tbest: 0.7285125 (25)\ttotal: 819ms\tremaining: 66.4ms\n",
            "37:\tlearn: 0.7768606\ttest: 0.7238471\tbest: 0.7285125 (25)\ttotal: 835ms\tremaining: 43.9ms\n",
            "38:\tlearn: 0.7772644\ttest: 0.7252826\tbest: 0.7285125 (25)\ttotal: 849ms\tremaining: 21.8ms\n",
            "39:\tlearn: 0.7774887\ttest: 0.7260004\tbest: 0.7285125 (25)\ttotal: 920ms\tremaining: 0us\n",
            "\n",
            "bestTest = 0.7285124708\n",
            "bestIteration = 25\n",
            "\n",
            "33:\tloss: 0.7285125\tbest: 0.7340750 (9)\ttotal: 12.3s\tremaining: 20.3s\n",
            "0:\tlearn: 0.7085819\ttest: 0.6998026\tbest: 0.6998026 (0)\ttotal: 36.2ms\tremaining: 1.41s\n",
            "1:\tlearn: 0.7104661\ttest: 0.7068006\tbest: 0.7068006 (1)\ttotal: 67.9ms\tremaining: 1.29s\n",
            "2:\tlearn: 0.7132475\ttest: 0.7071595\tbest: 0.7071595 (2)\ttotal: 94.4ms\tremaining: 1.16s\n",
            "3:\tlearn: 0.7173299\ttest: 0.7102099\tbest: 0.7102099 (3)\ttotal: 122ms\tremaining: 1.1s\n",
            "4:\tlearn: 0.7178233\ttest: 0.7098511\tbest: 0.7102099 (3)\ttotal: 139ms\tremaining: 970ms\n",
            "5:\tlearn: 0.7203356\ttest: 0.7132604\tbest: 0.7132604 (5)\ttotal: 185ms\tremaining: 1.05s\n",
            "6:\tlearn: 0.7216814\ttest: 0.7150547\tbest: 0.7150547 (6)\ttotal: 230ms\tremaining: 1.08s\n",
            "7:\tlearn: 0.7232515\ttest: 0.7134398\tbest: 0.7150547 (6)\ttotal: 272ms\tremaining: 1.09s\n",
            "8:\tlearn: 0.7228926\ttest: 0.7132604\tbest: 0.7150547 (6)\ttotal: 300ms\tremaining: 1.03s\n",
            "9:\tlearn: 0.7240590\ttest: 0.7154136\tbest: 0.7154136 (9)\ttotal: 322ms\tremaining: 965ms\n",
            "10:\tlearn: 0.7262124\ttest: 0.7148753\tbest: 0.7154136 (9)\ttotal: 347ms\tremaining: 914ms\n",
            "11:\tlearn: 0.7264815\ttest: 0.7152342\tbest: 0.7154136 (9)\ttotal: 377ms\tremaining: 880ms\n",
            "12:\tlearn: 0.7271545\ttest: 0.7168491\tbest: 0.7168491 (12)\ttotal: 410ms\tremaining: 852ms\n",
            "13:\tlearn: 0.7285452\ttest: 0.7168491\tbest: 0.7168491 (12)\ttotal: 439ms\tremaining: 815ms\n",
            "14:\tlearn: 0.7283657\ttest: 0.7181051\tbest: 0.7181051 (14)\ttotal: 493ms\tremaining: 821ms\n",
            "15:\tlearn: 0.7304742\ttest: 0.7175668\tbest: 0.7181051 (14)\ttotal: 518ms\tremaining: 777ms\n",
            "16:\tlearn: 0.7308779\ttest: 0.7190023\tbest: 0.7190023 (16)\ttotal: 549ms\tremaining: 742ms\n",
            "17:\tlearn: 0.7325827\ttest: 0.7202584\tbest: 0.7202584 (17)\ttotal: 574ms\tremaining: 702ms\n",
            "18:\tlearn: 0.7337939\ttest: 0.7193612\tbest: 0.7202584 (17)\ttotal: 597ms\tremaining: 660ms\n",
            "19:\tlearn: 0.7346463\ttest: 0.7215144\tbest: 0.7215144 (19)\ttotal: 622ms\tremaining: 622ms\n",
            "20:\tlearn: 0.7346014\ttest: 0.7218733\tbest: 0.7218733 (20)\ttotal: 649ms\tremaining: 587ms\n",
            "21:\tlearn: 0.7357678\ttest: 0.7236677\tbest: 0.7236677 (21)\ttotal: 663ms\tremaining: 542ms\n",
            "22:\tlearn: 0.7358575\ttest: 0.7224116\tbest: 0.7236677 (21)\ttotal: 688ms\tremaining: 508ms\n",
            "23:\tlearn: 0.7372931\ttest: 0.7247443\tbest: 0.7247443 (23)\ttotal: 706ms\tremaining: 471ms\n",
            "24:\tlearn: 0.7379211\ttest: 0.7254620\tbest: 0.7254620 (24)\ttotal: 724ms\tremaining: 435ms\n",
            "25:\tlearn: 0.7374277\ttest: 0.7254620\tbest: 0.7254620 (24)\ttotal: 743ms\tremaining: 400ms\n",
            "26:\tlearn: 0.7379660\ttest: 0.7251032\tbest: 0.7254620 (24)\ttotal: 790ms\tremaining: 380ms\n",
            "27:\tlearn: 0.7385492\ttest: 0.7254620\tbest: 0.7254620 (24)\ttotal: 813ms\tremaining: 348ms\n",
            "28:\tlearn: 0.7382800\ttest: 0.7243854\tbest: 0.7254620 (24)\ttotal: 842ms\tremaining: 320ms\n",
            "29:\tlearn: 0.7392221\ttest: 0.7258209\tbest: 0.7258209 (29)\ttotal: 866ms\tremaining: 289ms\n",
            "30:\tlearn: 0.7394913\ttest: 0.7247443\tbest: 0.7258209 (29)\ttotal: 881ms\tremaining: 256ms\n",
            "31:\tlearn: 0.7401642\ttest: 0.7252826\tbest: 0.7258209 (29)\ttotal: 897ms\tremaining: 224ms\n",
            "32:\tlearn: 0.7397156\ttest: 0.7258209\tbest: 0.7258209 (29)\ttotal: 929ms\tremaining: 197ms\n",
            "33:\tlearn: 0.7401193\ttest: 0.7281536\tbest: 0.7281536 (33)\ttotal: 949ms\tremaining: 168ms\n",
            "34:\tlearn: 0.7407025\ttest: 0.7288713\tbest: 0.7288713 (34)\ttotal: 989ms\tremaining: 141ms\n",
            "35:\tlearn: 0.7410614\ttest: 0.7277947\tbest: 0.7288713 (34)\ttotal: 1.01s\tremaining: 112ms\n",
            "36:\tlearn: 0.7419586\ttest: 0.7286919\tbest: 0.7288713 (34)\ttotal: 1.02s\tremaining: 83.1ms\n",
            "37:\tlearn: 0.7421381\ttest: 0.7288713\tbest: 0.7288713 (34)\ttotal: 1.05s\tremaining: 55.5ms\n",
            "38:\tlearn: 0.7424072\ttest: 0.7288713\tbest: 0.7288713 (34)\ttotal: 1.08s\tremaining: 27.7ms\n",
            "39:\tlearn: 0.7431250\ttest: 0.7292302\tbest: 0.7292302 (39)\ttotal: 1.12s\tremaining: 0us\n",
            "\n",
            "bestTest = 0.7292302171\n",
            "bestIteration = 39\n",
            "\n",
            "34:\tloss: 0.7292302\tbest: 0.7340750 (9)\ttotal: 13.5s\tremaining: 21.2s\n",
            "0:\tlearn: 0.7085819\ttest: 0.6998026\tbest: 0.6998026 (0)\ttotal: 41ms\tremaining: 1.6s\n",
            "1:\tlearn: 0.7090306\ttest: 0.7046474\tbest: 0.7046474 (1)\ttotal: 84.2ms\tremaining: 1.6s\n",
            "2:\tlearn: 0.7138756\ttest: 0.7068006\tbest: 0.7068006 (2)\ttotal: 111ms\tremaining: 1.37s\n",
            "3:\tlearn: 0.7141896\ttest: 0.7091333\tbest: 0.7091333 (3)\ttotal: 146ms\tremaining: 1.31s\n",
            "4:\tlearn: 0.7148625\ttest: 0.7107483\tbest: 0.7107483 (4)\ttotal: 169ms\tremaining: 1.18s\n",
            "5:\tlearn: 0.7137858\ttest: 0.7085950\tbest: 0.7107483 (4)\ttotal: 183ms\tremaining: 1.04s\n",
            "6:\tlearn: 0.7145933\ttest: 0.7100305\tbest: 0.7107483 (4)\ttotal: 197ms\tremaining: 929ms\n",
            "7:\tlearn: 0.7136512\ttest: 0.7093128\tbest: 0.7107483 (4)\ttotal: 234ms\tremaining: 936ms\n",
            "8:\tlearn: 0.7145036\ttest: 0.7076978\tbest: 0.7107483 (4)\ttotal: 253ms\tremaining: 871ms\n",
            "9:\tlearn: 0.7162981\ttest: 0.7096716\tbest: 0.7107483 (4)\ttotal: 290ms\tremaining: 870ms\n",
            "10:\tlearn: 0.7159392\ttest: 0.7075184\tbest: 0.7107483 (4)\ttotal: 306ms\tremaining: 807ms\n",
            "11:\tlearn: 0.7154008\ttest: 0.7055446\tbest: 0.7107483 (4)\ttotal: 321ms\tremaining: 750ms\n",
            "12:\tlearn: 0.7153560\ttest: 0.7060829\tbest: 0.7107483 (4)\ttotal: 346ms\tremaining: 719ms\n",
            "13:\tlearn: 0.7154906\ttest: 0.7064418\tbest: 0.7107483 (4)\ttotal: 369ms\tremaining: 685ms\n",
            "14:\tlearn: 0.7150419\ttest: 0.7071595\tbest: 0.7107483 (4)\ttotal: 394ms\tremaining: 657ms\n",
            "15:\tlearn: 0.7153560\ttest: 0.7060829\tbest: 0.7107483 (4)\ttotal: 415ms\tremaining: 622ms\n",
            "16:\tlearn: 0.7163429\ttest: 0.7076978\tbest: 0.7107483 (4)\ttotal: 444ms\tremaining: 601ms\n",
            "17:\tlearn: 0.7162981\ttest: 0.7084156\tbest: 0.7107483 (4)\ttotal: 467ms\tremaining: 571ms\n",
            "18:\tlearn: 0.7161635\ttest: 0.7084156\tbest: 0.7107483 (4)\ttotal: 480ms\tremaining: 531ms\n",
            "19:\tlearn: 0.7160289\ttest: 0.7087744\tbest: 0.7107483 (4)\ttotal: 507ms\tremaining: 507ms\n",
            "20:\tlearn: 0.7154008\ttest: 0.7098511\tbest: 0.7107483 (4)\ttotal: 518ms\tremaining: 469ms\n",
            "21:\tlearn: 0.7161635\ttest: 0.7100305\tbest: 0.7107483 (4)\ttotal: 587ms\tremaining: 480ms\n",
            "22:\tlearn: 0.7169710\ttest: 0.7085950\tbest: 0.7107483 (4)\ttotal: 615ms\tremaining: 455ms\n",
            "23:\tlearn: 0.7170158\ttest: 0.7096716\tbest: 0.7107483 (4)\ttotal: 649ms\tremaining: 433ms\n",
            "24:\tlearn: 0.7185860\ttest: 0.7121837\tbest: 0.7121837 (24)\ttotal: 670ms\tremaining: 402ms\n",
            "25:\tlearn: 0.7177785\ttest: 0.7120043\tbest: 0.7121837 (24)\ttotal: 710ms\tremaining: 382ms\n",
            "26:\tlearn: 0.7180028\ttest: 0.7105688\tbest: 0.7121837 (24)\ttotal: 731ms\tremaining: 352ms\n",
            "27:\tlearn: 0.7188551\ttest: 0.7116454\tbest: 0.7121837 (24)\ttotal: 747ms\tremaining: 320ms\n",
            "28:\tlearn: 0.7189449\ttest: 0.7129015\tbest: 0.7129015 (28)\ttotal: 766ms\tremaining: 291ms\n",
            "29:\tlearn: 0.7199767\ttest: 0.7137987\tbest: 0.7137987 (29)\ttotal: 781ms\tremaining: 260ms\n",
            "30:\tlearn: 0.7201561\ttest: 0.7143370\tbest: 0.7143370 (30)\ttotal: 812ms\tremaining: 236ms\n",
            "31:\tlearn: 0.7206945\ttest: 0.7143370\tbest: 0.7143370 (30)\ttotal: 830ms\tremaining: 208ms\n",
            "32:\tlearn: 0.7209636\ttest: 0.7143370\tbest: 0.7143370 (30)\ttotal: 844ms\tremaining: 179ms\n",
            "33:\tlearn: 0.7205150\ttest: 0.7143370\tbest: 0.7143370 (30)\ttotal: 873ms\tremaining: 154ms\n",
            "34:\tlearn: 0.7196178\ttest: 0.7129015\tbest: 0.7143370 (30)\ttotal: 888ms\tremaining: 127ms\n",
            "35:\tlearn: 0.7208290\ttest: 0.7137987\tbest: 0.7143370 (30)\ttotal: 907ms\tremaining: 101ms\n",
            "36:\tlearn: 0.7216365\ttest: 0.7137987\tbest: 0.7143370 (30)\ttotal: 927ms\tremaining: 75.1ms\n",
            "37:\tlearn: 0.7214122\ttest: 0.7141575\tbest: 0.7143370 (30)\ttotal: 945ms\tremaining: 49.7ms\n",
            "38:\tlearn: 0.7218160\ttest: 0.7154136\tbest: 0.7154136 (38)\ttotal: 963ms\tremaining: 24.7ms\n",
            "39:\tlearn: 0.7220851\ttest: 0.7143370\tbest: 0.7154136 (38)\ttotal: 991ms\tremaining: 0us\n",
            "\n",
            "bestTest = 0.7154136013\n",
            "bestIteration = 38\n",
            "\n",
            "35:\tloss: 0.7154136\tbest: 0.7340750 (9)\ttotal: 14.5s\tremaining: 21.8s\n",
            "0:\tlearn: 0.7244628\ttest: 0.7053652\tbest: 0.7053652 (0)\ttotal: 115ms\tremaining: 458ms\n",
            "1:\tlearn: 0.7469831\ttest: 0.7179257\tbest: 0.7179257 (1)\ttotal: 221ms\tremaining: 332ms\n",
            "2:\tlearn: 0.7533085\ttest: 0.7182846\tbest: 0.7182846 (2)\ttotal: 326ms\tremaining: 218ms\n",
            "3:\tlearn: 0.7572114\ttest: 0.7213350\tbest: 0.7213350 (3)\ttotal: 388ms\tremaining: 97ms\n",
            "4:\tlearn: 0.7610246\ttest: 0.7182846\tbest: 0.7213350 (3)\ttotal: 458ms\tremaining: 0us\n",
            "\n",
            "bestTest = 0.7213350081\n",
            "bestIteration = 3\n",
            "\n",
            "36:\tloss: 0.7213350\tbest: 0.7340750 (9)\ttotal: 15s\tremaining: 21.5s\n",
            "0:\tlearn: 0.7244628\ttest: 0.7053652\tbest: 0.7053652 (0)\ttotal: 61.3ms\tremaining: 245ms\n",
            "1:\tlearn: 0.7340631\ttest: 0.7159519\tbest: 0.7159519 (1)\ttotal: 179ms\tremaining: 268ms\n",
            "2:\tlearn: 0.7384146\ttest: 0.7181051\tbest: 0.7181051 (2)\ttotal: 286ms\tremaining: 191ms\n",
            "3:\tlearn: 0.7441568\ttest: 0.7211556\tbest: 0.7211556 (3)\ttotal: 409ms\tremaining: 102ms\n",
            "4:\tlearn: 0.7449643\ttest: 0.7193612\tbest: 0.7211556 (3)\ttotal: 567ms\tremaining: 0us\n",
            "\n",
            "bestTest = 0.7211555715\n",
            "bestIteration = 3\n",
            "\n",
            "37:\tloss: 0.7211556\tbest: 0.7340750 (9)\ttotal: 15.6s\tremaining: 21.3s\n",
            "0:\tlearn: 0.7244628\ttest: 0.7053652\tbest: 0.7053652 (0)\ttotal: 153ms\tremaining: 610ms\n",
            "1:\tlearn: 0.7325827\ttest: 0.7154136\tbest: 0.7154136 (1)\ttotal: 271ms\tremaining: 407ms\n",
            "2:\tlearn: 0.7357678\ttest: 0.7121837\tbest: 0.7154136 (1)\ttotal: 399ms\tremaining: 266ms\n",
            "3:\tlearn: 0.7376968\ttest: 0.7184640\tbest: 0.7184640 (3)\ttotal: 519ms\tremaining: 130ms\n",
            "4:\tlearn: 0.7369790\ttest: 0.7161313\tbest: 0.7184640 (3)\ttotal: 675ms\tremaining: 0us\n",
            "\n",
            "bestTest = 0.718464023\n",
            "bestIteration = 3\n",
            "\n",
            "38:\tloss: 0.7184640\tbest: 0.7340750 (9)\ttotal: 16.2s\tremaining: 21.2s\n",
            "0:\tlearn: 0.7244628\ttest: 0.7053652\tbest: 0.7053652 (0)\ttotal: 172ms\tremaining: 689ms\n",
            "1:\tlearn: 0.7466691\ttest: 0.7164902\tbest: 0.7164902 (1)\ttotal: 369ms\tremaining: 553ms\n",
            "2:\tlearn: 0.7494505\ttest: 0.7143370\tbest: 0.7164902 (1)\ttotal: 455ms\tremaining: 303ms\n",
            "3:\tlearn: 0.7574806\ttest: 0.7163108\tbest: 0.7164902 (1)\ttotal: 529ms\tremaining: 132ms\n",
            "4:\tlearn: 0.7629088\ttest: 0.7202584\tbest: 0.7202584 (4)\ttotal: 615ms\tremaining: 0us\n",
            "\n",
            "bestTest = 0.7202583887\n",
            "bestIteration = 4\n",
            "\n",
            "39:\tloss: 0.7202584\tbest: 0.7340750 (9)\ttotal: 16.9s\tremaining: 21.1s\n",
            "0:\tlearn: 0.7244628\ttest: 0.7053652\tbest: 0.7053652 (0)\ttotal: 88.4ms\tremaining: 354ms\n",
            "1:\tlearn: 0.7341079\ttest: 0.7164902\tbest: 0.7164902 (1)\ttotal: 228ms\tremaining: 343ms\n",
            "2:\tlearn: 0.7334799\ttest: 0.7179257\tbest: 0.7179257 (2)\ttotal: 316ms\tremaining: 211ms\n",
            "3:\tlearn: 0.7395361\ttest: 0.7191818\tbest: 0.7191818 (3)\ttotal: 508ms\tremaining: 127ms\n",
            "4:\tlearn: 0.7389529\ttest: 0.7229499\tbest: 0.7229499 (4)\ttotal: 674ms\tremaining: 0us\n",
            "\n",
            "bestTest = 0.7229499372\n",
            "bestIteration = 4\n",
            "\n",
            "40:\tloss: 0.7229499\tbest: 0.7340750 (9)\ttotal: 17.6s\tremaining: 21s\n",
            "0:\tlearn: 0.7244628\ttest: 0.7053652\tbest: 0.7053652 (0)\ttotal: 177ms\tremaining: 707ms\n",
            "1:\tlearn: 0.7326724\ttest: 0.7155930\tbest: 0.7155930 (1)\ttotal: 274ms\tremaining: 410ms\n",
            "2:\tlearn: 0.7354538\ttest: 0.7129015\tbest: 0.7155930 (1)\ttotal: 430ms\tremaining: 286ms\n",
            "3:\tlearn: 0.7371585\ttest: 0.7164902\tbest: 0.7164902 (3)\ttotal: 563ms\tremaining: 141ms\n",
            "4:\tlearn: 0.7398053\ttest: 0.7163108\tbest: 0.7164902 (3)\ttotal: 716ms\tremaining: 0us\n",
            "\n",
            "bestTest = 0.7164902207\n",
            "bestIteration = 3\n",
            "\n",
            "41:\tloss: 0.7164902\tbest: 0.7340750 (9)\ttotal: 18.3s\tremaining: 20.9s\n",
            "0:\tlearn: 0.7244628\ttest: 0.7053652\tbest: 0.7053652 (0)\ttotal: 137ms\tremaining: 2.61s\n",
            "1:\tlearn: 0.7469831\ttest: 0.7179257\tbest: 0.7179257 (1)\ttotal: 301ms\tremaining: 2.71s\n",
            "2:\tlearn: 0.7533085\ttest: 0.7182846\tbest: 0.7182846 (2)\ttotal: 464ms\tremaining: 2.63s\n",
            "3:\tlearn: 0.7572114\ttest: 0.7213350\tbest: 0.7213350 (3)\ttotal: 735ms\tremaining: 2.94s\n",
            "4:\tlearn: 0.7610246\ttest: 0.7182846\tbest: 0.7213350 (3)\ttotal: 902ms\tremaining: 2.71s\n",
            "5:\tlearn: 0.7618770\ttest: 0.7181051\tbest: 0.7213350 (3)\ttotal: 924ms\tremaining: 2.15s\n",
            "6:\tlearn: 0.7717464\ttest: 0.7134398\tbest: 0.7213350 (3)\ttotal: 1.03s\tremaining: 1.92s\n",
            "7:\tlearn: 0.7738101\ttest: 0.7116454\tbest: 0.7213350 (3)\ttotal: 1.12s\tremaining: 1.69s\n",
            "8:\tlearn: 0.7794626\ttest: 0.7082361\tbest: 0.7213350 (3)\ttotal: 1.25s\tremaining: 1.52s\n",
            "9:\tlearn: 0.7869095\ttest: 0.7096716\tbest: 0.7213350 (3)\ttotal: 1.32s\tremaining: 1.32s\n",
            "10:\tlearn: 0.7934592\ttest: 0.7051857\tbest: 0.7213350 (3)\ttotal: 1.38s\tremaining: 1.13s\n",
            "11:\tlearn: 0.7969136\ttest: 0.7014175\tbest: 0.7213350 (3)\ttotal: 1.48s\tremaining: 984ms\n",
            "12:\tlearn: 0.8048540\ttest: 0.6938812\tbest: 0.7213350 (3)\ttotal: 1.57s\tremaining: 845ms\n",
            "13:\tlearn: 0.8092055\ttest: 0.6989054\tbest: 0.7213350 (3)\ttotal: 1.71s\tremaining: 734ms\n",
            "14:\tlearn: 0.8138711\ttest: 0.7017764\tbest: 0.7213350 (3)\ttotal: 1.8s\tremaining: 600ms\n",
            "15:\tlearn: 0.8214526\ttest: 0.7039297\tbest: 0.7213350 (3)\ttotal: 1.96s\tremaining: 490ms\n",
            "16:\tlearn: 0.8274640\ttest: 0.7023147\tbest: 0.7213350 (3)\ttotal: 2.05s\tremaining: 362ms\n",
            "17:\tlearn: 0.8342829\ttest: 0.6998026\tbest: 0.7213350 (3)\ttotal: 2.17s\tremaining: 241ms\n",
            "18:\tlearn: 0.8378269\ttest: 0.7006998\tbest: 0.7213350 (3)\ttotal: 2.25s\tremaining: 118ms\n",
            "19:\tlearn: 0.8428065\ttest: 0.6999821\tbest: 0.7213350 (3)\ttotal: 2.35s\tremaining: 0us\n",
            "\n",
            "bestTest = 0.7213350081\n",
            "bestIteration = 3\n",
            "\n",
            "42:\tloss: 0.7213350\tbest: 0.7340750 (9)\ttotal: 20.7s\tremaining: 22.6s\n",
            "0:\tlearn: 0.7244628\ttest: 0.7053652\tbest: 0.7053652 (0)\ttotal: 83.1ms\tremaining: 1.58s\n",
            "1:\tlearn: 0.7340631\ttest: 0.7159519\tbest: 0.7159519 (1)\ttotal: 174ms\tremaining: 1.56s\n",
            "2:\tlearn: 0.7384146\ttest: 0.7181051\tbest: 0.7181051 (2)\ttotal: 235ms\tremaining: 1.33s\n",
            "3:\tlearn: 0.7441568\ttest: 0.7211556\tbest: 0.7211556 (3)\ttotal: 314ms\tremaining: 1.25s\n",
            "4:\tlearn: 0.7449643\ttest: 0.7193612\tbest: 0.7211556 (3)\ttotal: 406ms\tremaining: 1.22s\n",
            "5:\tlearn: 0.7477457\ttest: 0.7141575\tbest: 0.7211556 (3)\ttotal: 490ms\tremaining: 1.14s\n",
            "6:\tlearn: 0.7484186\ttest: 0.7179257\tbest: 0.7211556 (3)\ttotal: 572ms\tremaining: 1.06s\n",
            "7:\tlearn: 0.7508860\ttest: 0.7234882\tbest: 0.7234882 (7)\ttotal: 667ms\tremaining: 1s\n",
            "8:\tlearn: 0.7525459\ttest: 0.7213350\tbest: 0.7234882 (7)\ttotal: 767ms\tremaining: 937ms\n",
            "9:\tlearn: 0.7537571\ttest: 0.7229499\tbest: 0.7234882 (7)\ttotal: 880ms\tremaining: 880ms\n",
            "10:\tlearn: 0.7555516\ttest: 0.7227705\tbest: 0.7234882 (7)\ttotal: 949ms\tremaining: 777ms\n",
            "11:\tlearn: 0.7553273\ttest: 0.7252826\tbest: 0.7252826 (11)\ttotal: 1.02s\tremaining: 682ms\n",
            "12:\tlearn: 0.7590059\ttest: 0.7267181\tbest: 0.7267181 (12)\ttotal: 1.1s\tremaining: 592ms\n",
            "13:\tlearn: 0.7607555\ttest: 0.7261798\tbest: 0.7267181 (12)\ttotal: 1.2s\tremaining: 513ms\n",
            "14:\tlearn: 0.7612489\ttest: 0.7267181\tbest: 0.7267181 (12)\ttotal: 1.27s\tremaining: 423ms\n",
            "15:\tlearn: 0.7610246\ttest: 0.7276153\tbest: 0.7276153 (15)\ttotal: 1.35s\tremaining: 338ms\n",
            "16:\tlearn: 0.7619219\ttest: 0.7274359\tbest: 0.7276153 (15)\ttotal: 1.47s\tremaining: 259ms\n",
            "17:\tlearn: 0.7634920\ttest: 0.7292302\tbest: 0.7292302 (17)\ttotal: 1.59s\tremaining: 177ms\n",
            "18:\tlearn: 0.7641649\ttest: 0.7303068\tbest: 0.7303068 (18)\ttotal: 1.65s\tremaining: 87.1ms\n",
            "19:\tlearn: 0.7655556\ttest: 0.7306657\tbest: 0.7306657 (19)\ttotal: 1.79s\tremaining: 0us\n",
            "\n",
            "bestTest = 0.7306657097\n",
            "bestIteration = 19\n",
            "\n",
            "43:\tloss: 0.7306657\tbest: 0.7340750 (9)\ttotal: 22.5s\tremaining: 23.5s\n",
            "0:\tlearn: 0.7244628\ttest: 0.7053652\tbest: 0.7053652 (0)\ttotal: 65.6ms\tremaining: 1.25s\n",
            "1:\tlearn: 0.7325827\ttest: 0.7154136\tbest: 0.7154136 (1)\ttotal: 148ms\tremaining: 1.33s\n",
            "2:\tlearn: 0.7357678\ttest: 0.7121837\tbest: 0.7154136 (1)\ttotal: 253ms\tremaining: 1.43s\n",
            "3:\tlearn: 0.7376968\ttest: 0.7184640\tbest: 0.7184640 (3)\ttotal: 322ms\tremaining: 1.29s\n",
            "4:\tlearn: 0.7369790\ttest: 0.7161313\tbest: 0.7184640 (3)\ttotal: 427ms\tremaining: 1.28s\n",
            "5:\tlearn: 0.7389529\ttest: 0.7172080\tbest: 0.7184640 (3)\ttotal: 499ms\tremaining: 1.16s\n",
            "6:\tlearn: 0.7371136\ttest: 0.7186435\tbest: 0.7186435 (6)\ttotal: 586ms\tremaining: 1.09s\n",
            "7:\tlearn: 0.7385043\ttest: 0.7177463\tbest: 0.7186435 (6)\ttotal: 665ms\tremaining: 997ms\n",
            "8:\tlearn: 0.7385941\ttest: 0.7164902\tbest: 0.7186435 (6)\ttotal: 746ms\tremaining: 912ms\n",
            "9:\tlearn: 0.7396707\ttest: 0.7175668\tbest: 0.7186435 (6)\ttotal: 881ms\tremaining: 881ms\n",
            "10:\tlearn: 0.7419586\ttest: 0.7186435\tbest: 0.7186435 (6)\ttotal: 959ms\tremaining: 785ms\n",
            "11:\tlearn: 0.7425867\ttest: 0.7193612\tbest: 0.7193612 (11)\ttotal: 1.04s\tremaining: 694ms\n",
            "12:\tlearn: 0.7427661\ttest: 0.7204378\tbest: 0.7204378 (12)\ttotal: 1.1s\tremaining: 595ms\n",
            "13:\tlearn: 0.7425418\ttest: 0.7204378\tbest: 0.7204378 (12)\ttotal: 1.19s\tremaining: 511ms\n",
            "14:\tlearn: 0.7429456\ttest: 0.7195406\tbest: 0.7204378 (12)\ttotal: 1.26s\tremaining: 422ms\n",
            "15:\tlearn: 0.7428559\ttest: 0.7186435\tbest: 0.7204378 (12)\ttotal: 1.34s\tremaining: 336ms\n",
            "16:\tlearn: 0.7424970\ttest: 0.7195406\tbest: 0.7204378 (12)\ttotal: 1.54s\tremaining: 272ms\n",
            "17:\tlearn: 0.7427661\ttest: 0.7200790\tbest: 0.7204378 (12)\ttotal: 1.64s\tremaining: 182ms\n",
            "18:\tlearn: 0.7425867\ttest: 0.7168491\tbest: 0.7204378 (12)\ttotal: 1.71s\tremaining: 90.1ms\n",
            "19:\tlearn: 0.7430802\ttest: 0.7172080\tbest: 0.7204378 (12)\ttotal: 1.78s\tremaining: 0us\n",
            "\n",
            "bestTest = 0.7204378252\n",
            "bestIteration = 12\n",
            "\n",
            "44:\tloss: 0.7204378\tbest: 0.7340750 (9)\ttotal: 24.3s\tremaining: 24.3s\n",
            "0:\tlearn: 0.7244628\ttest: 0.7053652\tbest: 0.7053652 (0)\ttotal: 62.4ms\tremaining: 1.19s\n",
            "1:\tlearn: 0.7466691\ttest: 0.7164902\tbest: 0.7164902 (1)\ttotal: 141ms\tremaining: 1.26s\n",
            "2:\tlearn: 0.7494505\ttest: 0.7143370\tbest: 0.7164902 (1)\ttotal: 224ms\tremaining: 1.27s\n",
            "3:\tlearn: 0.7574806\ttest: 0.7163108\tbest: 0.7164902 (1)\ttotal: 292ms\tremaining: 1.17s\n",
            "4:\tlearn: 0.7629088\ttest: 0.7202584\tbest: 0.7202584 (4)\ttotal: 361ms\tremaining: 1.08s\n",
            "5:\tlearn: 0.7660042\ttest: 0.7190023\tbest: 0.7202584 (4)\ttotal: 444ms\tremaining: 1.03s\n",
            "6:\tlearn: 0.7749764\ttest: 0.7155930\tbest: 0.7202584 (4)\ttotal: 514ms\tremaining: 955ms\n",
            "7:\tlearn: 0.7809878\ttest: 0.7136192\tbest: 0.7202584 (4)\ttotal: 579ms\tremaining: 869ms\n",
            "8:\tlearn: 0.7905881\ttest: 0.7139781\tbest: 0.7202584 (4)\ttotal: 662ms\tremaining: 809ms\n",
            "9:\tlearn: 0.7926966\ttest: 0.7152342\tbest: 0.7202584 (4)\ttotal: 740ms\tremaining: 740ms\n",
            "10:\tlearn: 0.7971827\ttest: 0.7168491\tbest: 0.7202584 (4)\ttotal: 807ms\tremaining: 660ms\n",
            "11:\tlearn: 0.8022969\ttest: 0.7136192\tbest: 0.7202584 (4)\ttotal: 883ms\tremaining: 589ms\n",
            "12:\tlearn: 0.8119420\ttest: 0.7098511\tbest: 0.7202584 (4)\ttotal: 951ms\tremaining: 512ms\n",
            "13:\tlearn: 0.8139608\ttest: 0.7102099\tbest: 0.7202584 (4)\ttotal: 1.02s\tremaining: 437ms\n",
            "14:\tlearn: 0.8210040\ttest: 0.7114660\tbest: 0.7202584 (4)\ttotal: 1.11s\tremaining: 369ms\n",
            "15:\tlearn: 0.8265668\ttest: 0.7102099\tbest: 0.7202584 (4)\ttotal: 1.17s\tremaining: 294ms\n",
            "16:\tlearn: 0.8313669\ttest: 0.7076978\tbest: 0.7202584 (4)\ttotal: 1.24s\tremaining: 219ms\n",
            "17:\tlearn: 0.8355839\ttest: 0.7082361\tbest: 0.7202584 (4)\ttotal: 1.36s\tremaining: 152ms\n",
            "18:\tlearn: 0.8384998\ttest: 0.7042885\tbest: 0.7202584 (4)\ttotal: 1.44s\tremaining: 75.6ms\n",
            "19:\tlearn: 0.8439280\ttest: 0.7075184\tbest: 0.7202584 (4)\ttotal: 1.51s\tremaining: 0us\n",
            "\n",
            "bestTest = 0.7202583887\n",
            "bestIteration = 4\n",
            "\n",
            "45:\tloss: 0.7202584\tbest: 0.7340750 (9)\ttotal: 25.8s\tremaining: 24.7s\n",
            "0:\tlearn: 0.7244628\ttest: 0.7053652\tbest: 0.7053652 (0)\ttotal: 69.3ms\tremaining: 1.32s\n",
            "1:\tlearn: 0.7341079\ttest: 0.7164902\tbest: 0.7164902 (1)\ttotal: 179ms\tremaining: 1.61s\n",
            "2:\tlearn: 0.7334799\ttest: 0.7179257\tbest: 0.7179257 (2)\ttotal: 219ms\tremaining: 1.24s\n",
            "3:\tlearn: 0.7395361\ttest: 0.7191818\tbest: 0.7191818 (3)\ttotal: 317ms\tremaining: 1.27s\n",
            "4:\tlearn: 0.7389529\ttest: 0.7229499\tbest: 0.7229499 (4)\ttotal: 382ms\tremaining: 1.15s\n",
            "5:\tlearn: 0.7437082\ttest: 0.7243854\tbest: 0.7243854 (5)\ttotal: 462ms\tremaining: 1.08s\n",
            "6:\tlearn: 0.7432148\ttest: 0.7252826\tbest: 0.7252826 (6)\ttotal: 538ms\tremaining: 998ms\n",
            "7:\tlearn: 0.7453232\ttest: 0.7252826\tbest: 0.7252826 (6)\ttotal: 608ms\tremaining: 912ms\n",
            "8:\tlearn: 0.7459513\ttest: 0.7233088\tbest: 0.7252826 (6)\ttotal: 678ms\tremaining: 828ms\n",
            "9:\tlearn: 0.7478803\ttest: 0.7258209\tbest: 0.7258209 (9)\ttotal: 751ms\tremaining: 751ms\n",
            "10:\tlearn: 0.7496299\ttest: 0.7254620\tbest: 0.7258209 (9)\ttotal: 816ms\tremaining: 668ms\n",
            "11:\tlearn: 0.7517384\ttest: 0.7267181\tbest: 0.7267181 (11)\ttotal: 887ms\tremaining: 591ms\n",
            "12:\tlearn: 0.7531291\ttest: 0.7260004\tbest: 0.7267181 (11)\ttotal: 963ms\tremaining: 518ms\n",
            "13:\tlearn: 0.7533982\ttest: 0.7263592\tbest: 0.7267181 (11)\ttotal: 1.03s\tremaining: 442ms\n",
            "14:\tlearn: 0.7559105\ttest: 0.7245649\tbest: 0.7267181 (11)\ttotal: 1.09s\tremaining: 365ms\n",
            "15:\tlearn: 0.7581535\ttest: 0.7276153\tbest: 0.7276153 (15)\ttotal: 1.16s\tremaining: 290ms\n",
            "16:\tlearn: 0.7596788\ttest: 0.7277947\tbest: 0.7277947 (16)\ttotal: 1.24s\tremaining: 218ms\n",
            "17:\tlearn: 0.7615181\ttest: 0.7270770\tbest: 0.7277947 (16)\ttotal: 1.31s\tremaining: 145ms\n",
            "18:\tlearn: 0.7624153\ttest: 0.7260004\tbest: 0.7277947 (16)\ttotal: 1.37s\tremaining: 72ms\n",
            "19:\tlearn: 0.7633125\ttest: 0.7285125\tbest: 0.7285125 (19)\ttotal: 1.44s\tremaining: 0us\n",
            "\n",
            "bestTest = 0.7285124708\n",
            "bestIteration = 19\n",
            "\n",
            "46:\tloss: 0.7285125\tbest: 0.7340750 (9)\ttotal: 27.3s\tremaining: 24.9s\n",
            "0:\tlearn: 0.7244628\ttest: 0.7053652\tbest: 0.7053652 (0)\ttotal: 66.7ms\tremaining: 1.27s\n",
            "1:\tlearn: 0.7326724\ttest: 0.7155930\tbest: 0.7155930 (1)\ttotal: 142ms\tremaining: 1.28s\n",
            "2:\tlearn: 0.7354538\ttest: 0.7129015\tbest: 0.7155930 (1)\ttotal: 225ms\tremaining: 1.28s\n",
            "3:\tlearn: 0.7371585\ttest: 0.7164902\tbest: 0.7164902 (3)\ttotal: 296ms\tremaining: 1.18s\n",
            "4:\tlearn: 0.7398053\ttest: 0.7163108\tbest: 0.7164902 (3)\ttotal: 358ms\tremaining: 1.07s\n",
            "5:\tlearn: 0.7392221\ttest: 0.7195406\tbest: 0.7195406 (5)\ttotal: 440ms\tremaining: 1.03s\n",
            "6:\tlearn: 0.7378314\ttest: 0.7206173\tbest: 0.7206173 (6)\ttotal: 512ms\tremaining: 951ms\n",
            "7:\tlearn: 0.7386838\ttest: 0.7168491\tbest: 0.7206173 (6)\ttotal: 574ms\tremaining: 861ms\n",
            "8:\tlearn: 0.7376968\ttest: 0.7177463\tbest: 0.7206173 (6)\ttotal: 629ms\tremaining: 769ms\n",
            "9:\tlearn: 0.7400296\ttest: 0.7181051\tbest: 0.7206173 (6)\ttotal: 725ms\tremaining: 725ms\n",
            "10:\tlearn: 0.7412409\ttest: 0.7181051\tbest: 0.7206173 (6)\ttotal: 799ms\tremaining: 654ms\n",
            "11:\tlearn: 0.7410614\ttest: 0.7175668\tbest: 0.7206173 (6)\ttotal: 857ms\tremaining: 572ms\n",
            "12:\tlearn: 0.7418241\ttest: 0.7204378\tbest: 0.7206173 (6)\ttotal: 931ms\tremaining: 501ms\n",
            "13:\tlearn: 0.7413306\ttest: 0.7209761\tbest: 0.7209761 (13)\ttotal: 1.02s\tremaining: 439ms\n",
            "14:\tlearn: 0.7420932\ttest: 0.7198995\tbest: 0.7209761 (13)\ttotal: 1.1s\tremaining: 368ms\n",
            "15:\tlearn: 0.7418689\ttest: 0.7200790\tbest: 0.7209761 (13)\ttotal: 1.16s\tremaining: 290ms\n",
            "16:\tlearn: 0.7421829\ttest: 0.7191818\tbest: 0.7209761 (13)\ttotal: 1.24s\tremaining: 218ms\n",
            "17:\tlearn: 0.7412409\ttest: 0.7191818\tbest: 0.7209761 (13)\ttotal: 1.26s\tremaining: 140ms\n",
            "18:\tlearn: 0.7413754\ttest: 0.7216939\tbest: 0.7216939 (18)\ttotal: 1.37s\tremaining: 71.9ms\n",
            "19:\tlearn: 0.7410614\ttest: 0.7227705\tbest: 0.7227705 (19)\ttotal: 1.43s\tremaining: 0us\n",
            "\n",
            "bestTest = 0.7227705006\n",
            "bestIteration = 19\n",
            "\n",
            "47:\tloss: 0.7227705\tbest: 0.7340750 (9)\ttotal: 28.7s\tremaining: 25.1s\n",
            "0:\tlearn: 0.7244628\ttest: 0.7053652\tbest: 0.7053652 (0)\ttotal: 68.9ms\tremaining: 2.69s\n",
            "1:\tlearn: 0.7469831\ttest: 0.7179257\tbest: 0.7179257 (1)\ttotal: 185ms\tremaining: 3.51s\n",
            "2:\tlearn: 0.7533085\ttest: 0.7182846\tbest: 0.7182846 (2)\ttotal: 252ms\tremaining: 3.11s\n",
            "3:\tlearn: 0.7572114\ttest: 0.7213350\tbest: 0.7213350 (3)\ttotal: 314ms\tremaining: 2.83s\n",
            "4:\tlearn: 0.7610246\ttest: 0.7182846\tbest: 0.7213350 (3)\ttotal: 381ms\tremaining: 2.67s\n",
            "5:\tlearn: 0.7618770\ttest: 0.7181051\tbest: 0.7213350 (3)\ttotal: 405ms\tremaining: 2.29s\n",
            "6:\tlearn: 0.7717464\ttest: 0.7134398\tbest: 0.7213350 (3)\ttotal: 472ms\tremaining: 2.23s\n",
            "7:\tlearn: 0.7738101\ttest: 0.7116454\tbest: 0.7213350 (3)\ttotal: 529ms\tremaining: 2.11s\n",
            "8:\tlearn: 0.7794626\ttest: 0.7082361\tbest: 0.7213350 (3)\ttotal: 619ms\tremaining: 2.13s\n",
            "9:\tlearn: 0.7869095\ttest: 0.7096716\tbest: 0.7213350 (3)\ttotal: 786ms\tremaining: 2.36s\n",
            "10:\tlearn: 0.7934592\ttest: 0.7051857\tbest: 0.7213350 (3)\ttotal: 942ms\tremaining: 2.48s\n",
            "11:\tlearn: 0.7969136\ttest: 0.7014175\tbest: 0.7213350 (3)\ttotal: 1.13s\tremaining: 2.63s\n",
            "12:\tlearn: 0.8048540\ttest: 0.6938812\tbest: 0.7213350 (3)\ttotal: 1.29s\tremaining: 2.67s\n",
            "13:\tlearn: 0.8092055\ttest: 0.6989054\tbest: 0.7213350 (3)\ttotal: 1.47s\tremaining: 2.73s\n",
            "14:\tlearn: 0.8138711\ttest: 0.7017764\tbest: 0.7213350 (3)\ttotal: 1.64s\tremaining: 2.73s\n",
            "15:\tlearn: 0.8214526\ttest: 0.7039297\tbest: 0.7213350 (3)\ttotal: 1.76s\tremaining: 2.64s\n",
            "16:\tlearn: 0.8274640\ttest: 0.7023147\tbest: 0.7213350 (3)\ttotal: 1.92s\tremaining: 2.6s\n",
            "17:\tlearn: 0.8342829\ttest: 0.6998026\tbest: 0.7213350 (3)\ttotal: 2.06s\tremaining: 2.52s\n",
            "18:\tlearn: 0.8378269\ttest: 0.7006998\tbest: 0.7213350 (3)\ttotal: 2.18s\tremaining: 2.41s\n",
            "19:\tlearn: 0.8428065\ttest: 0.6999821\tbest: 0.7213350 (3)\ttotal: 2.28s\tremaining: 2.28s\n",
            "20:\tlearn: 0.8476964\ttest: 0.7012381\tbest: 0.7213350 (3)\ttotal: 2.43s\tremaining: 2.2s\n",
            "21:\tlearn: 0.8499843\ttest: 0.6987260\tbest: 0.7213350 (3)\ttotal: 2.56s\tremaining: 2.09s\n",
            "22:\tlearn: 0.8589117\ttest: 0.6953167\tbest: 0.7213350 (3)\ttotal: 2.71s\tremaining: 2s\n",
            "23:\tlearn: 0.8624108\ttest: 0.6972905\tbest: 0.7213350 (3)\ttotal: 2.83s\tremaining: 1.88s\n",
            "24:\tlearn: 0.8633978\ttest: 0.6980083\tbest: 0.7213350 (3)\ttotal: 2.95s\tremaining: 1.77s\n",
            "25:\tlearn: 0.8668970\ttest: 0.6974699\tbest: 0.7213350 (3)\ttotal: 3.06s\tremaining: 1.65s\n",
            "26:\tlearn: 0.8744785\ttest: 0.6922663\tbest: 0.7213350 (3)\ttotal: 3.27s\tremaining: 1.57s\n",
            "27:\tlearn: 0.8766767\ttest: 0.6951373\tbest: 0.7213350 (3)\ttotal: 3.42s\tremaining: 1.47s\n",
            "28:\tlearn: 0.8795927\ttest: 0.6956756\tbest: 0.7213350 (3)\ttotal: 3.56s\tremaining: 1.35s\n",
            "29:\tlearn: 0.8821946\ttest: 0.6945990\tbest: 0.7213350 (3)\ttotal: 3.7s\tremaining: 1.23s\n",
            "30:\tlearn: 0.8852003\ttest: 0.6945990\tbest: 0.7213350 (3)\ttotal: 3.83s\tremaining: 1.11s\n",
            "31:\tlearn: 0.8890584\ttest: 0.6953167\tbest: 0.7213350 (3)\ttotal: 4.03s\tremaining: 1.01s\n",
            "32:\tlearn: 0.8953389\ttest: 0.6920868\tbest: 0.7213350 (3)\ttotal: 4.18s\tremaining: 887ms\n",
            "33:\tlearn: 0.8972680\ttest: 0.6949578\tbest: 0.7213350 (3)\ttotal: 4.28s\tremaining: 756ms\n",
            "34:\tlearn: 0.9016643\ttest: 0.6899336\tbest: 0.7213350 (3)\ttotal: 4.41s\tremaining: 630ms\n",
            "35:\tlearn: 0.9039523\ttest: 0.6913691\tbest: 0.7213350 (3)\ttotal: 4.49s\tremaining: 499ms\n",
            "36:\tlearn: 0.9063299\ttest: 0.6933429\tbest: 0.7213350 (3)\ttotal: 4.57s\tremaining: 370ms\n",
            "37:\tlearn: 0.9096945\ttest: 0.6913691\tbest: 0.7213350 (3)\ttotal: 4.68s\tremaining: 246ms\n",
            "38:\tlearn: 0.9127451\ttest: 0.6910102\tbest: 0.7213350 (3)\ttotal: 4.76s\tremaining: 122ms\n",
            "39:\tlearn: 0.9143601\ttest: 0.6917280\tbest: 0.7213350 (3)\ttotal: 4.83s\tremaining: 0us\n",
            "\n",
            "bestTest = 0.7213350081\n",
            "bestIteration = 3\n",
            "\n",
            "48:\tloss: 0.7213350\tbest: 0.7340750 (9)\ttotal: 33.6s\tremaining: 28.1s\n",
            "0:\tlearn: 0.7244628\ttest: 0.7053652\tbest: 0.7053652 (0)\ttotal: 85.7ms\tremaining: 3.34s\n",
            "1:\tlearn: 0.7340631\ttest: 0.7159519\tbest: 0.7159519 (1)\ttotal: 216ms\tremaining: 4.11s\n",
            "2:\tlearn: 0.7384146\ttest: 0.7181051\tbest: 0.7181051 (2)\ttotal: 283ms\tremaining: 3.49s\n",
            "3:\tlearn: 0.7441568\ttest: 0.7211556\tbest: 0.7211556 (3)\ttotal: 377ms\tremaining: 3.39s\n",
            "4:\tlearn: 0.7449643\ttest: 0.7193612\tbest: 0.7211556 (3)\ttotal: 445ms\tremaining: 3.12s\n",
            "5:\tlearn: 0.7477457\ttest: 0.7141575\tbest: 0.7211556 (3)\ttotal: 517ms\tremaining: 2.93s\n",
            "6:\tlearn: 0.7484186\ttest: 0.7179257\tbest: 0.7211556 (3)\ttotal: 598ms\tremaining: 2.82s\n",
            "7:\tlearn: 0.7508860\ttest: 0.7234882\tbest: 0.7234882 (7)\ttotal: 681ms\tremaining: 2.72s\n",
            "8:\tlearn: 0.7525459\ttest: 0.7213350\tbest: 0.7234882 (7)\ttotal: 767ms\tremaining: 2.64s\n",
            "9:\tlearn: 0.7537571\ttest: 0.7229499\tbest: 0.7234882 (7)\ttotal: 863ms\tremaining: 2.59s\n",
            "10:\tlearn: 0.7555516\ttest: 0.7227705\tbest: 0.7234882 (7)\ttotal: 952ms\tremaining: 2.51s\n",
            "11:\tlearn: 0.7553273\ttest: 0.7252826\tbest: 0.7252826 (11)\ttotal: 1.02s\tremaining: 2.38s\n",
            "12:\tlearn: 0.7590059\ttest: 0.7267181\tbest: 0.7267181 (12)\ttotal: 1.09s\tremaining: 2.27s\n",
            "13:\tlearn: 0.7607555\ttest: 0.7261798\tbest: 0.7267181 (12)\ttotal: 1.16s\tremaining: 2.16s\n",
            "14:\tlearn: 0.7612489\ttest: 0.7267181\tbest: 0.7267181 (12)\ttotal: 1.24s\tremaining: 2.06s\n",
            "15:\tlearn: 0.7610246\ttest: 0.7276153\tbest: 0.7276153 (15)\ttotal: 1.31s\tremaining: 1.96s\n",
            "16:\tlearn: 0.7619219\ttest: 0.7274359\tbest: 0.7276153 (15)\ttotal: 1.38s\tremaining: 1.86s\n",
            "17:\tlearn: 0.7634920\ttest: 0.7292302\tbest: 0.7292302 (17)\ttotal: 1.46s\tremaining: 1.78s\n",
            "18:\tlearn: 0.7641649\ttest: 0.7303068\tbest: 0.7303068 (18)\ttotal: 1.55s\tremaining: 1.71s\n",
            "19:\tlearn: 0.7655556\ttest: 0.7306657\tbest: 0.7306657 (19)\ttotal: 1.63s\tremaining: 1.63s\n",
            "20:\tlearn: 0.7655556\ttest: 0.7310246\tbest: 0.7310246 (20)\ttotal: 1.75s\tremaining: 1.59s\n",
            "21:\tlearn: 0.7666771\ttest: 0.7310246\tbest: 0.7310246 (20)\ttotal: 1.84s\tremaining: 1.5s\n",
            "22:\tlearn: 0.7680678\ttest: 0.7299480\tbest: 0.7310246 (20)\ttotal: 1.91s\tremaining: 1.41s\n",
            "23:\tlearn: 0.7680230\ttest: 0.7292302\tbest: 0.7310246 (20)\ttotal: 1.92s\tremaining: 1.28s\n",
            "24:\tlearn: 0.7690548\ttest: 0.7306657\tbest: 0.7310246 (20)\ttotal: 2s\tremaining: 1.2s\n",
            "25:\tlearn: 0.7711184\ttest: 0.7299480\tbest: 0.7310246 (20)\ttotal: 2.07s\tremaining: 1.11s\n",
            "26:\tlearn: 0.7735858\ttest: 0.7299480\tbest: 0.7310246 (20)\ttotal: 2.14s\tremaining: 1.03s\n",
            "27:\tlearn: 0.7744830\ttest: 0.7294097\tbest: 0.7310246 (20)\ttotal: 2.22s\tremaining: 952ms\n",
            "28:\tlearn: 0.7753802\ttest: 0.7333573\tbest: 0.7333573 (28)\ttotal: 2.29s\tremaining: 869ms\n",
            "29:\tlearn: 0.7769503\ttest: 0.7331778\tbest: 0.7333573 (28)\ttotal: 2.36s\tremaining: 787ms\n",
            "30:\tlearn: 0.7772195\ttest: 0.7322806\tbest: 0.7333573 (28)\ttotal: 2.44s\tremaining: 708ms\n",
            "31:\tlearn: 0.7779373\ttest: 0.7328189\tbest: 0.7333573 (28)\ttotal: 2.5s\tremaining: 626ms\n",
            "32:\tlearn: 0.7794177\ttest: 0.7324601\tbest: 0.7333573 (28)\ttotal: 2.58s\tremaining: 547ms\n",
            "33:\tlearn: 0.7798215\ttest: 0.7321012\tbest: 0.7333573 (28)\ttotal: 2.66s\tremaining: 470ms\n",
            "34:\tlearn: 0.7821094\ttest: 0.7319218\tbest: 0.7333573 (28)\ttotal: 2.76s\tremaining: 394ms\n",
            "35:\tlearn: 0.7829617\ttest: 0.7328189\tbest: 0.7333573 (28)\ttotal: 2.84s\tremaining: 315ms\n",
            "36:\tlearn: 0.7834552\ttest: 0.7328189\tbest: 0.7333573 (28)\ttotal: 2.91s\tremaining: 236ms\n",
            "37:\tlearn: 0.7841730\ttest: 0.7331778\tbest: 0.7333573 (28)\ttotal: 2.98s\tremaining: 157ms\n",
            "38:\tlearn: 0.7860123\ttest: 0.7331778\tbest: 0.7333573 (28)\ttotal: 3.04s\tremaining: 78.1ms\n",
            "39:\tlearn: 0.7868647\ttest: 0.7337161\tbest: 0.7337161 (39)\ttotal: 3.11s\tremaining: 0us\n",
            "\n",
            "bestTest = 0.7337161313\n",
            "bestIteration = 39\n",
            "\n",
            "49:\tloss: 0.7337161\tbest: 0.7340750 (9)\ttotal: 36.8s\tremaining: 29.4s\n",
            "0:\tlearn: 0.7244628\ttest: 0.7053652\tbest: 0.7053652 (0)\ttotal: 73.7ms\tremaining: 2.87s\n",
            "1:\tlearn: 0.7325827\ttest: 0.7154136\tbest: 0.7154136 (1)\ttotal: 151ms\tremaining: 2.87s\n",
            "2:\tlearn: 0.7357678\ttest: 0.7121837\tbest: 0.7154136 (1)\ttotal: 233ms\tremaining: 2.87s\n",
            "3:\tlearn: 0.7376968\ttest: 0.7184640\tbest: 0.7184640 (3)\ttotal: 314ms\tremaining: 2.82s\n",
            "4:\tlearn: 0.7369790\ttest: 0.7161313\tbest: 0.7184640 (3)\ttotal: 419ms\tremaining: 2.94s\n",
            "5:\tlearn: 0.7389529\ttest: 0.7172080\tbest: 0.7184640 (3)\ttotal: 550ms\tremaining: 3.12s\n",
            "6:\tlearn: 0.7371136\ttest: 0.7186435\tbest: 0.7186435 (6)\ttotal: 619ms\tremaining: 2.92s\n",
            "7:\tlearn: 0.7385043\ttest: 0.7177463\tbest: 0.7186435 (6)\ttotal: 765ms\tremaining: 3.06s\n",
            "8:\tlearn: 0.7385941\ttest: 0.7164902\tbest: 0.7186435 (6)\ttotal: 892ms\tremaining: 3.07s\n",
            "9:\tlearn: 0.7396707\ttest: 0.7175668\tbest: 0.7186435 (6)\ttotal: 1.03s\tremaining: 3.11s\n",
            "10:\tlearn: 0.7419586\ttest: 0.7186435\tbest: 0.7186435 (6)\ttotal: 1.13s\tremaining: 2.97s\n",
            "11:\tlearn: 0.7425867\ttest: 0.7193612\tbest: 0.7193612 (11)\ttotal: 1.27s\tremaining: 2.97s\n",
            "12:\tlearn: 0.7427661\ttest: 0.7204378\tbest: 0.7204378 (12)\ttotal: 1.42s\tremaining: 2.94s\n",
            "13:\tlearn: 0.7425418\ttest: 0.7204378\tbest: 0.7204378 (12)\ttotal: 1.55s\tremaining: 2.87s\n",
            "14:\tlearn: 0.7429456\ttest: 0.7195406\tbest: 0.7204378 (12)\ttotal: 1.7s\tremaining: 2.84s\n",
            "15:\tlearn: 0.7428559\ttest: 0.7186435\tbest: 0.7204378 (12)\ttotal: 1.9s\tremaining: 2.85s\n",
            "16:\tlearn: 0.7424970\ttest: 0.7195406\tbest: 0.7204378 (12)\ttotal: 2.04s\tremaining: 2.76s\n",
            "17:\tlearn: 0.7427661\ttest: 0.7200790\tbest: 0.7204378 (12)\ttotal: 2.18s\tremaining: 2.66s\n",
            "18:\tlearn: 0.7425867\ttest: 0.7168491\tbest: 0.7204378 (12)\ttotal: 2.32s\tremaining: 2.56s\n",
            "19:\tlearn: 0.7430802\ttest: 0.7172080\tbest: 0.7204378 (12)\ttotal: 2.44s\tremaining: 2.44s\n",
            "20:\tlearn: 0.7432148\ttest: 0.7182846\tbest: 0.7204378 (12)\ttotal: 2.52s\tremaining: 2.28s\n",
            "21:\tlearn: 0.7422727\ttest: 0.7188229\tbest: 0.7204378 (12)\ttotal: 2.59s\tremaining: 2.12s\n",
            "22:\tlearn: 0.7421381\ttest: 0.7190023\tbest: 0.7204378 (12)\ttotal: 2.66s\tremaining: 1.97s\n",
            "23:\tlearn: 0.7423624\ttest: 0.7188229\tbest: 0.7204378 (12)\ttotal: 2.75s\tremaining: 1.83s\n",
            "24:\tlearn: 0.7425867\ttest: 0.7191818\tbest: 0.7204378 (12)\ttotal: 2.84s\tremaining: 1.7s\n",
            "25:\tlearn: 0.7432148\ttest: 0.7193612\tbest: 0.7204378 (12)\ttotal: 2.97s\tremaining: 1.6s\n",
            "26:\tlearn: 0.7429904\ttest: 0.7200790\tbest: 0.7204378 (12)\ttotal: 3s\tremaining: 1.45s\n",
            "27:\tlearn: 0.7423175\ttest: 0.7191818\tbest: 0.7204378 (12)\ttotal: 3.13s\tremaining: 1.34s\n",
            "28:\tlearn: 0.7429904\ttest: 0.7198995\tbest: 0.7204378 (12)\ttotal: 3.22s\tremaining: 1.22s\n",
            "29:\tlearn: 0.7423624\ttest: 0.7195406\tbest: 0.7204378 (12)\ttotal: 3.3s\tremaining: 1.1s\n",
            "30:\tlearn: 0.7431699\ttest: 0.7195406\tbest: 0.7204378 (12)\ttotal: 3.37s\tremaining: 977ms\n",
            "31:\tlearn: 0.7433942\ttest: 0.7198995\tbest: 0.7204378 (12)\ttotal: 3.55s\tremaining: 887ms\n",
            "32:\tlearn: 0.7434839\ttest: 0.7197201\tbest: 0.7204378 (12)\ttotal: 3.64s\tremaining: 773ms\n",
            "33:\tlearn: 0.7429456\ttest: 0.7195406\tbest: 0.7204378 (12)\ttotal: 3.73s\tremaining: 659ms\n",
            "34:\tlearn: 0.7436185\ttest: 0.7197201\tbest: 0.7204378 (12)\ttotal: 3.81s\tremaining: 544ms\n",
            "35:\tlearn: 0.7427661\ttest: 0.7202584\tbest: 0.7204378 (12)\ttotal: 3.89s\tremaining: 433ms\n",
            "36:\tlearn: 0.7431699\ttest: 0.7197201\tbest: 0.7204378 (12)\ttotal: 4.03s\tremaining: 326ms\n",
            "37:\tlearn: 0.7434839\ttest: 0.7188229\tbest: 0.7204378 (12)\ttotal: 4.11s\tremaining: 216ms\n",
            "38:\tlearn: 0.7438428\ttest: 0.7198995\tbest: 0.7204378 (12)\ttotal: 4.2s\tremaining: 108ms\n",
            "39:\tlearn: 0.7435736\ttest: 0.7202584\tbest: 0.7204378 (12)\ttotal: 4.27s\tremaining: 0us\n",
            "\n",
            "bestTest = 0.7204378252\n",
            "bestIteration = 12\n",
            "\n",
            "50:\tloss: 0.7204378\tbest: 0.7340750 (9)\ttotal: 41.1s\tremaining: 31.4s\n",
            "0:\tlearn: 0.7244628\ttest: 0.7053652\tbest: 0.7053652 (0)\ttotal: 75.2ms\tremaining: 2.93s\n",
            "1:\tlearn: 0.7466691\ttest: 0.7164902\tbest: 0.7164902 (1)\ttotal: 130ms\tremaining: 2.46s\n",
            "2:\tlearn: 0.7494505\ttest: 0.7143370\tbest: 0.7164902 (1)\ttotal: 192ms\tremaining: 2.36s\n",
            "3:\tlearn: 0.7574806\ttest: 0.7163108\tbest: 0.7164902 (1)\ttotal: 285ms\tremaining: 2.57s\n",
            "4:\tlearn: 0.7629088\ttest: 0.7202584\tbest: 0.7202584 (4)\ttotal: 359ms\tremaining: 2.51s\n",
            "5:\tlearn: 0.7660042\ttest: 0.7190023\tbest: 0.7202584 (4)\ttotal: 461ms\tremaining: 2.61s\n",
            "6:\tlearn: 0.7749764\ttest: 0.7155930\tbest: 0.7202584 (4)\ttotal: 533ms\tremaining: 2.51s\n",
            "7:\tlearn: 0.7809878\ttest: 0.7136192\tbest: 0.7202584 (4)\ttotal: 604ms\tremaining: 2.41s\n",
            "8:\tlearn: 0.7905881\ttest: 0.7139781\tbest: 0.7202584 (4)\ttotal: 673ms\tremaining: 2.32s\n",
            "9:\tlearn: 0.7926966\ttest: 0.7152342\tbest: 0.7202584 (4)\ttotal: 745ms\tremaining: 2.23s\n",
            "10:\tlearn: 0.7971827\ttest: 0.7168491\tbest: 0.7202584 (4)\ttotal: 815ms\tremaining: 2.15s\n",
            "11:\tlearn: 0.8022969\ttest: 0.7136192\tbest: 0.7202584 (4)\ttotal: 919ms\tremaining: 2.14s\n",
            "12:\tlearn: 0.8119420\ttest: 0.7098511\tbest: 0.7202584 (4)\ttotal: 1.03s\tremaining: 2.14s\n",
            "13:\tlearn: 0.8139608\ttest: 0.7102099\tbest: 0.7202584 (4)\ttotal: 1.19s\tremaining: 2.21s\n",
            "14:\tlearn: 0.8210040\ttest: 0.7114660\tbest: 0.7202584 (4)\ttotal: 1.34s\tremaining: 2.24s\n",
            "15:\tlearn: 0.8265668\ttest: 0.7102099\tbest: 0.7202584 (4)\ttotal: 1.47s\tremaining: 2.21s\n",
            "16:\tlearn: 0.8313669\ttest: 0.7076978\tbest: 0.7202584 (4)\ttotal: 1.61s\tremaining: 2.18s\n",
            "17:\tlearn: 0.8355839\ttest: 0.7082361\tbest: 0.7202584 (4)\ttotal: 1.7s\tremaining: 2.08s\n",
            "18:\tlearn: 0.8384998\ttest: 0.7042885\tbest: 0.7202584 (4)\ttotal: 1.78s\tremaining: 1.96s\n",
            "19:\tlearn: 0.8439280\ttest: 0.7075184\tbest: 0.7202584 (4)\ttotal: 1.86s\tremaining: 1.86s\n",
            "20:\tlearn: 0.8489974\ttest: 0.7073390\tbest: 0.7202584 (4)\ttotal: 1.93s\tremaining: 1.74s\n",
            "21:\tlearn: 0.8552331\ttest: 0.7057240\tbest: 0.7202584 (4)\ttotal: 2.04s\tremaining: 1.67s\n",
            "22:\tlearn: 0.8595397\ttest: 0.7093128\tbest: 0.7202584 (4)\ttotal: 2.15s\tremaining: 1.59s\n",
            "23:\tlearn: 0.8629043\ttest: 0.7069801\tbest: 0.7202584 (4)\ttotal: 2.3s\tremaining: 1.53s\n",
            "24:\tlearn: 0.8659549\ttest: 0.7087744\tbest: 0.7202584 (4)\ttotal: 2.44s\tremaining: 1.47s\n",
            "25:\tlearn: 0.8669867\ttest: 0.7102099\tbest: 0.7202584 (4)\ttotal: 2.58s\tremaining: 1.39s\n",
            "26:\tlearn: 0.8699027\ttest: 0.7103894\tbest: 0.7202584 (4)\ttotal: 2.71s\tremaining: 1.31s\n",
            "27:\tlearn: 0.8712036\ttest: 0.7102099\tbest: 0.7202584 (4)\ttotal: 2.83s\tremaining: 1.21s\n",
            "28:\tlearn: 0.8737607\ttest: 0.7087744\tbest: 0.7202584 (4)\ttotal: 3s\tremaining: 1.14s\n",
            "29:\tlearn: 0.8782020\ttest: 0.7085950\tbest: 0.7202584 (4)\ttotal: 3.15s\tremaining: 1.05s\n",
            "30:\tlearn: 0.8787403\ttest: 0.7084156\tbest: 0.7202584 (4)\ttotal: 3.27s\tremaining: 948ms\n",
            "31:\tlearn: 0.8796375\ttest: 0.7060829\tbest: 0.7202584 (4)\ttotal: 3.38s\tremaining: 845ms\n",
            "32:\tlearn: 0.8820152\ttest: 0.7057240\tbest: 0.7202584 (4)\ttotal: 3.53s\tremaining: 749ms\n",
            "33:\tlearn: 0.8852900\ttest: 0.7048268\tbest: 0.7202584 (4)\ttotal: 3.63s\tremaining: 641ms\n",
            "34:\tlearn: 0.8892827\ttest: 0.7059035\tbest: 0.7202584 (4)\ttotal: 3.75s\tremaining: 536ms\n",
            "35:\tlearn: 0.8930061\ttest: 0.7003409\tbest: 0.7202584 (4)\ttotal: 3.86s\tremaining: 429ms\n",
            "36:\tlearn: 0.8954286\ttest: 0.7005204\tbest: 0.7202584 (4)\ttotal: 3.96s\tremaining: 321ms\n",
            "37:\tlearn: 0.8987484\ttest: 0.6972905\tbest: 0.7202584 (4)\ttotal: 4.07s\tremaining: 214ms\n",
            "38:\tlearn: 0.9019335\ttest: 0.6981877\tbest: 0.7202584 (4)\ttotal: 4.18s\tremaining: 107ms\n",
            "39:\tlearn: 0.9034588\ttest: 0.6980083\tbest: 0.7202584 (4)\ttotal: 4.3s\tremaining: 0us\n",
            "\n",
            "bestTest = 0.7202583887\n",
            "bestIteration = 4\n",
            "\n",
            "51:\tloss: 0.7202584\tbest: 0.7340750 (9)\ttotal: 45.4s\tremaining: 33.2s\n",
            "0:\tlearn: 0.7244628\ttest: 0.7053652\tbest: 0.7053652 (0)\ttotal: 159ms\tremaining: 6.21s\n",
            "1:\tlearn: 0.7341079\ttest: 0.7164902\tbest: 0.7164902 (1)\ttotal: 334ms\tremaining: 6.34s\n",
            "2:\tlearn: 0.7334799\ttest: 0.7179257\tbest: 0.7179257 (2)\ttotal: 407ms\tremaining: 5.03s\n",
            "3:\tlearn: 0.7395361\ttest: 0.7191818\tbest: 0.7191818 (3)\ttotal: 479ms\tremaining: 4.32s\n",
            "4:\tlearn: 0.7389529\ttest: 0.7229499\tbest: 0.7229499 (4)\ttotal: 564ms\tremaining: 3.94s\n",
            "5:\tlearn: 0.7437082\ttest: 0.7243854\tbest: 0.7243854 (5)\ttotal: 728ms\tremaining: 4.12s\n",
            "6:\tlearn: 0.7432148\ttest: 0.7252826\tbest: 0.7252826 (6)\ttotal: 885ms\tremaining: 4.17s\n",
            "7:\tlearn: 0.7453232\ttest: 0.7252826\tbest: 0.7252826 (6)\ttotal: 1.01s\tremaining: 4.03s\n",
            "8:\tlearn: 0.7459513\ttest: 0.7233088\tbest: 0.7252826 (6)\ttotal: 1.11s\tremaining: 3.81s\n",
            "9:\tlearn: 0.7478803\ttest: 0.7258209\tbest: 0.7258209 (9)\ttotal: 1.23s\tremaining: 3.7s\n",
            "10:\tlearn: 0.7496299\ttest: 0.7254620\tbest: 0.7258209 (9)\ttotal: 1.32s\tremaining: 3.48s\n",
            "11:\tlearn: 0.7517384\ttest: 0.7267181\tbest: 0.7267181 (11)\ttotal: 1.42s\tremaining: 3.31s\n",
            "12:\tlearn: 0.7531291\ttest: 0.7260004\tbest: 0.7267181 (11)\ttotal: 1.51s\tremaining: 3.15s\n",
            "13:\tlearn: 0.7533982\ttest: 0.7263592\tbest: 0.7267181 (11)\ttotal: 1.58s\tremaining: 2.94s\n",
            "14:\tlearn: 0.7559105\ttest: 0.7245649\tbest: 0.7267181 (11)\ttotal: 1.66s\tremaining: 2.76s\n",
            "15:\tlearn: 0.7581535\ttest: 0.7276153\tbest: 0.7276153 (15)\ttotal: 1.74s\tremaining: 2.6s\n",
            "16:\tlearn: 0.7596788\ttest: 0.7277947\tbest: 0.7277947 (16)\ttotal: 1.82s\tremaining: 2.46s\n",
            "17:\tlearn: 0.7615181\ttest: 0.7270770\tbest: 0.7277947 (16)\ttotal: 1.89s\tremaining: 2.31s\n",
            "18:\tlearn: 0.7624153\ttest: 0.7260004\tbest: 0.7277947 (16)\ttotal: 1.96s\tremaining: 2.17s\n",
            "19:\tlearn: 0.7633125\ttest: 0.7285125\tbest: 0.7285125 (19)\ttotal: 2.04s\tremaining: 2.04s\n",
            "20:\tlearn: 0.7654659\ttest: 0.7260004\tbest: 0.7285125 (19)\ttotal: 2.11s\tremaining: 1.91s\n",
            "21:\tlearn: 0.7667220\ttest: 0.7261798\tbest: 0.7285125 (19)\ttotal: 2.2s\tremaining: 1.8s\n",
            "22:\tlearn: 0.7680678\ttest: 0.7261798\tbest: 0.7285125 (19)\ttotal: 2.26s\tremaining: 1.67s\n",
            "23:\tlearn: 0.7696380\ttest: 0.7277947\tbest: 0.7285125 (19)\ttotal: 2.34s\tremaining: 1.56s\n",
            "24:\tlearn: 0.7695931\ttest: 0.7283330\tbest: 0.7285125 (19)\ttotal: 2.43s\tremaining: 1.46s\n",
            "25:\tlearn: 0.7712978\ttest: 0.7295891\tbest: 0.7295891 (25)\ttotal: 2.5s\tremaining: 1.35s\n",
            "26:\tlearn: 0.7719259\ttest: 0.7297685\tbest: 0.7297685 (26)\ttotal: 2.57s\tremaining: 1.24s\n",
            "27:\tlearn: 0.7742138\ttest: 0.7272564\tbest: 0.7297685 (26)\ttotal: 2.65s\tremaining: 1.14s\n",
            "28:\tlearn: 0.7758737\ttest: 0.7297685\tbest: 0.7297685 (26)\ttotal: 2.72s\tremaining: 1.03s\n",
            "29:\tlearn: 0.7765466\ttest: 0.7301274\tbest: 0.7301274 (29)\ttotal: 2.79s\tremaining: 931ms\n",
            "30:\tlearn: 0.7766812\ttest: 0.7299480\tbest: 0.7301274 (29)\ttotal: 2.87s\tremaining: 832ms\n",
            "31:\tlearn: 0.7774887\ttest: 0.7310246\tbest: 0.7310246 (31)\ttotal: 2.93s\tremaining: 734ms\n",
            "32:\tlearn: 0.7788794\ttest: 0.7308451\tbest: 0.7310246 (31)\ttotal: 3s\tremaining: 637ms\n",
            "33:\tlearn: 0.7791934\ttest: 0.7321012\tbest: 0.7321012 (33)\ttotal: 3.08s\tremaining: 543ms\n",
            "34:\tlearn: 0.7803598\ttest: 0.7317423\tbest: 0.7321012 (33)\ttotal: 3.14s\tremaining: 449ms\n",
            "35:\tlearn: 0.7811224\ttest: 0.7306657\tbest: 0.7321012 (33)\ttotal: 3.21s\tremaining: 357ms\n",
            "36:\tlearn: 0.7819299\ttest: 0.7295891\tbest: 0.7321012 (33)\ttotal: 3.29s\tremaining: 267ms\n",
            "37:\tlearn: 0.7838141\ttest: 0.7303068\tbest: 0.7321012 (33)\ttotal: 3.37s\tremaining: 177ms\n",
            "38:\tlearn: 0.7863712\ttest: 0.7299480\tbest: 0.7321012 (33)\ttotal: 3.44s\tremaining: 88.1ms\n",
            "39:\tlearn: 0.7871338\ttest: 0.7304863\tbest: 0.7321012 (33)\ttotal: 3.51s\tremaining: 0us\n",
            "\n",
            "bestTest = 0.7321012022\n",
            "bestIteration = 33\n",
            "\n",
            "52:\tloss: 0.7321012\tbest: 0.7340750 (9)\ttotal: 49s\tremaining: 34.2s\n",
            "0:\tlearn: 0.7244628\ttest: 0.7053652\tbest: 0.7053652 (0)\ttotal: 73.3ms\tremaining: 2.86s\n",
            "1:\tlearn: 0.7326724\ttest: 0.7155930\tbest: 0.7155930 (1)\ttotal: 146ms\tremaining: 2.78s\n",
            "2:\tlearn: 0.7354538\ttest: 0.7129015\tbest: 0.7155930 (1)\ttotal: 255ms\tremaining: 3.15s\n",
            "3:\tlearn: 0.7371585\ttest: 0.7164902\tbest: 0.7164902 (3)\ttotal: 374ms\tremaining: 3.36s\n",
            "4:\tlearn: 0.7398053\ttest: 0.7163108\tbest: 0.7164902 (3)\ttotal: 444ms\tremaining: 3.11s\n",
            "5:\tlearn: 0.7392221\ttest: 0.7195406\tbest: 0.7195406 (5)\ttotal: 547ms\tremaining: 3.1s\n",
            "6:\tlearn: 0.7378314\ttest: 0.7206173\tbest: 0.7206173 (6)\ttotal: 637ms\tremaining: 3s\n",
            "7:\tlearn: 0.7386838\ttest: 0.7168491\tbest: 0.7206173 (6)\ttotal: 709ms\tremaining: 2.84s\n",
            "8:\tlearn: 0.7376968\ttest: 0.7177463\tbest: 0.7206173 (6)\ttotal: 781ms\tremaining: 2.69s\n",
            "9:\tlearn: 0.7400296\ttest: 0.7181051\tbest: 0.7206173 (6)\ttotal: 880ms\tremaining: 2.64s\n",
            "10:\tlearn: 0.7412409\ttest: 0.7181051\tbest: 0.7206173 (6)\ttotal: 940ms\tremaining: 2.48s\n",
            "11:\tlearn: 0.7410614\ttest: 0.7175668\tbest: 0.7206173 (6)\ttotal: 1.01s\tremaining: 2.35s\n",
            "12:\tlearn: 0.7418241\ttest: 0.7204378\tbest: 0.7206173 (6)\ttotal: 1.08s\tremaining: 2.24s\n",
            "13:\tlearn: 0.7413306\ttest: 0.7209761\tbest: 0.7209761 (13)\ttotal: 1.15s\tremaining: 2.13s\n",
            "14:\tlearn: 0.7420932\ttest: 0.7198995\tbest: 0.7209761 (13)\ttotal: 1.22s\tremaining: 2.04s\n",
            "15:\tlearn: 0.7418689\ttest: 0.7200790\tbest: 0.7209761 (13)\ttotal: 1.29s\tremaining: 1.94s\n",
            "16:\tlearn: 0.7421829\ttest: 0.7191818\tbest: 0.7209761 (13)\ttotal: 1.36s\tremaining: 1.84s\n",
            "17:\tlearn: 0.7412409\ttest: 0.7191818\tbest: 0.7209761 (13)\ttotal: 1.38s\tremaining: 1.69s\n",
            "18:\tlearn: 0.7413754\ttest: 0.7216939\tbest: 0.7216939 (18)\ttotal: 1.46s\tremaining: 1.61s\n",
            "19:\tlearn: 0.7410614\ttest: 0.7227705\tbest: 0.7227705 (19)\ttotal: 1.53s\tremaining: 1.53s\n",
            "20:\tlearn: 0.7412409\ttest: 0.7209761\tbest: 0.7227705 (19)\ttotal: 1.61s\tremaining: 1.45s\n",
            "21:\tlearn: 0.7413306\ttest: 0.7202584\tbest: 0.7227705 (19)\ttotal: 1.72s\tremaining: 1.41s\n",
            "22:\tlearn: 0.7407025\ttest: 0.7216939\tbest: 0.7227705 (19)\ttotal: 1.81s\tremaining: 1.34s\n",
            "23:\tlearn: 0.7412857\ttest: 0.7207967\tbest: 0.7227705 (19)\ttotal: 1.89s\tremaining: 1.26s\n",
            "24:\tlearn: 0.7415100\ttest: 0.7207967\tbest: 0.7227705 (19)\ttotal: 1.97s\tremaining: 1.18s\n",
            "25:\tlearn: 0.7413754\ttest: 0.7191818\tbest: 0.7227705 (19)\ttotal: 2.05s\tremaining: 1.1s\n",
            "26:\tlearn: 0.7424521\ttest: 0.7211556\tbest: 0.7227705 (19)\ttotal: 2.1s\tremaining: 1.01s\n",
            "27:\tlearn: 0.7428559\ttest: 0.7211556\tbest: 0.7227705 (19)\ttotal: 2.15s\tremaining: 920ms\n",
            "28:\tlearn: 0.7432596\ttest: 0.7209761\tbest: 0.7227705 (19)\ttotal: 2.19s\tremaining: 832ms\n",
            "29:\tlearn: 0.7431250\ttest: 0.7231294\tbest: 0.7231294 (29)\ttotal: 2.24s\tremaining: 746ms\n",
            "30:\tlearn: 0.7433493\ttest: 0.7233088\tbest: 0.7233088 (30)\ttotal: 2.28s\tremaining: 662ms\n",
            "31:\tlearn: 0.7438428\ttest: 0.7236677\tbest: 0.7236677 (31)\ttotal: 2.32s\tremaining: 581ms\n",
            "32:\tlearn: 0.7426764\ttest: 0.7224116\tbest: 0.7236677 (31)\ttotal: 2.37s\tremaining: 503ms\n",
            "33:\tlearn: 0.7424072\ttest: 0.7236677\tbest: 0.7236677 (31)\ttotal: 2.42s\tremaining: 427ms\n",
            "34:\tlearn: 0.7429904\ttest: 0.7242060\tbest: 0.7242060 (34)\ttotal: 2.47s\tremaining: 352ms\n",
            "35:\tlearn: 0.7431250\ttest: 0.7238471\tbest: 0.7242060 (34)\ttotal: 2.51s\tremaining: 279ms\n",
            "36:\tlearn: 0.7429904\ttest: 0.7238471\tbest: 0.7242060 (34)\ttotal: 2.55s\tremaining: 207ms\n",
            "37:\tlearn: 0.7433045\ttest: 0.7238471\tbest: 0.7242060 (34)\ttotal: 2.59s\tremaining: 137ms\n",
            "38:\tlearn: 0.7439774\ttest: 0.7234882\tbest: 0.7242060 (34)\ttotal: 2.64s\tremaining: 67.8ms\n",
            "39:\tlearn: 0.7434391\ttest: 0.7225911\tbest: 0.7242060 (34)\ttotal: 2.7s\tremaining: 0us\n",
            "\n",
            "bestTest = 0.7242059932\n",
            "bestIteration = 34\n",
            "\n",
            "53:\tloss: 0.7242060\tbest: 0.7340750 (9)\ttotal: 51.7s\tremaining: 34.5s\n",
            "0:\tlearn: 0.7538020\ttest: 0.6841916\tbest: 0.6841916 (0)\ttotal: 1.48s\tremaining: 5.91s\n",
            "1:\tlearn: 0.8402046\ttest: 0.6759376\tbest: 0.6841916 (0)\ttotal: 2.92s\tremaining: 4.38s\n",
            "2:\tlearn: 0.8659997\ttest: 0.6768347\tbest: 0.6841916 (0)\ttotal: 4.37s\tremaining: 2.91s\n",
            "3:\tlearn: 0.8850209\ttest: 0.6743226\tbest: 0.6841916 (0)\ttotal: 6.09s\tremaining: 1.52s\n",
            "4:\tlearn: 0.8940380\ttest: 0.6782702\tbest: 0.6841916 (0)\ttotal: 8.24s\tremaining: 0us\n",
            "\n",
            "bestTest = 0.6841916383\n",
            "bestIteration = 0\n",
            "\n",
            "54:\tloss: 0.6841916\tbest: 0.7340750 (9)\ttotal: 59.9s\tremaining: 38.1s\n",
            "0:\tlearn: 0.7538020\ttest: 0.6841916\tbest: 0.6841916 (0)\ttotal: 1.42s\tremaining: 5.69s\n",
            "1:\tlearn: 0.7871787\ttest: 0.7001615\tbest: 0.7001615 (1)\ttotal: 2.85s\tremaining: 4.28s\n",
            "2:\tlearn: 0.8060652\ttest: 0.7008792\tbest: 0.7008792 (2)\ttotal: 4.29s\tremaining: 2.86s\n",
            "3:\tlearn: 0.8098336\ttest: 0.7116454\tbest: 0.7116454 (3)\ttotal: 5.76s\tremaining: 1.44s\n",
            "4:\tlearn: 0.8011305\ttest: 0.7139781\tbest: 0.7139781 (4)\ttotal: 5.77s\tremaining: 0us\n",
            "\n",
            "bestTest = 0.7139781087\n",
            "bestIteration = 4\n",
            "\n",
            "55:\tloss: 0.7139781\tbest: 0.7340750 (9)\ttotal: 1m 5s\tremaining: 39.9s\n",
            "0:\tlearn: 0.7538020\ttest: 0.6841916\tbest: 0.6841916 (0)\ttotal: 1.41s\tremaining: 5.63s\n",
            "1:\tlearn: 0.7860572\ttest: 0.7012381\tbest: 0.7012381 (1)\ttotal: 2.84s\tremaining: 4.26s\n",
            "2:\tlearn: 0.8008165\ttest: 0.7035708\tbest: 0.7035708 (2)\ttotal: 4.37s\tremaining: 2.91s\n",
            "3:\tlearn: 0.8009959\ttest: 0.7130809\tbest: 0.7130809 (3)\ttotal: 6.55s\tremaining: 1.64s\n",
            "4:\tlearn: 0.7989323\ttest: 0.7161313\tbest: 0.7161313 (4)\ttotal: 8.67s\tremaining: 0us\n",
            "\n",
            "bestTest = 0.7161313476\n",
            "bestIteration = 4\n",
            "\n",
            "56:\tloss: 0.7161313\tbest: 0.7340750 (9)\ttotal: 1m 14s\tremaining: 43.1s\n",
            "0:\tlearn: 0.7538020\ttest: 0.6841916\tbest: 0.6841916 (0)\ttotal: 3.56s\tremaining: 14.2s\n",
            "1:\tlearn: 0.8157552\ttest: 0.6958550\tbest: 0.6958550 (1)\ttotal: 7.27s\tremaining: 10.9s\n",
            "2:\tlearn: 0.8417298\ttest: 0.6945990\tbest: 0.6958550 (1)\ttotal: 12.2s\tremaining: 8.11s\n",
            "3:\tlearn: 0.8605715\ttest: 0.6953167\tbest: 0.6958550 (1)\ttotal: 13.8s\tremaining: 3.45s\n",
            "4:\tlearn: 0.8801759\ttest: 0.6919074\tbest: 0.6958550 (1)\ttotal: 15.3s\tremaining: 0us\n",
            "\n",
            "bestTest = 0.6958550153\n",
            "bestIteration = 1\n",
            "\n",
            "57:\tloss: 0.6958550\tbest: 0.7340750 (9)\ttotal: 1m 29s\tremaining: 49.5s\n",
            "0:\tlearn: 0.7538020\ttest: 0.6841916\tbest: 0.6841916 (0)\ttotal: 1.45s\tremaining: 5.82s\n",
            "1:\tlearn: 0.7832758\ttest: 0.7012381\tbest: 0.7012381 (1)\ttotal: 2.91s\tremaining: 4.37s\n",
            "2:\tlearn: 0.7970481\ttest: 0.7060829\tbest: 0.7060829 (2)\ttotal: 4.4s\tremaining: 2.93s\n",
            "3:\tlearn: 0.8012202\ttest: 0.7136192\tbest: 0.7136192 (3)\ttotal: 5.88s\tremaining: 1.47s\n",
            "4:\tlearn: 0.7987529\ttest: 0.7161313\tbest: 0.7161313 (4)\ttotal: 7.43s\tremaining: 0us\n",
            "\n",
            "bestTest = 0.7161313476\n",
            "bestIteration = 4\n",
            "\n",
            "58:\tloss: 0.7161313\tbest: 0.7340750 (9)\ttotal: 1m 37s\tremaining: 51s\n",
            "0:\tlearn: 0.7538020\ttest: 0.6841916\tbest: 0.6841916 (0)\ttotal: 2.19s\tremaining: 8.75s\n",
            "1:\tlearn: 0.7821094\ttest: 0.7003409\tbest: 0.7003409 (1)\ttotal: 3.85s\tremaining: 5.77s\n",
            "2:\tlearn: 0.7911713\ttest: 0.7064418\tbest: 0.7064418 (2)\ttotal: 5.33s\tremaining: 3.55s\n",
            "3:\tlearn: 0.7917994\ttest: 0.7094922\tbest: 0.7094922 (3)\ttotal: 6.8s\tremaining: 1.7s\n",
            "4:\tlearn: 0.7931901\ttest: 0.7094922\tbest: 0.7094922 (3)\ttotal: 8.29s\tremaining: 0us\n",
            "\n",
            "bestTest = 0.7094921945\n",
            "bestIteration = 3\n",
            "\n",
            "59:\tloss: 0.7094922\tbest: 0.7340750 (9)\ttotal: 1m 45s\tremaining: 52.7s\n",
            "0:\tlearn: 0.7538020\ttest: 0.6841916\tbest: 0.6841916 (0)\ttotal: 1.46s\tremaining: 27.7s\n",
            "1:\tlearn: 0.8402046\ttest: 0.6759376\tbest: 0.6841916 (0)\ttotal: 2.94s\tremaining: 26.5s\n",
            "2:\tlearn: 0.8659997\ttest: 0.6768347\tbest: 0.6841916 (0)\ttotal: 4.43s\tremaining: 25.1s\n",
            "3:\tlearn: 0.8850209\ttest: 0.6743226\tbest: 0.6841916 (0)\ttotal: 6.73s\tremaining: 26.9s\n",
            "4:\tlearn: 0.8940380\ttest: 0.6782702\tbest: 0.6841916 (0)\ttotal: 8.48s\tremaining: 25.5s\n",
            "5:\tlearn: 0.9032794\ttest: 0.6788085\tbest: 0.6841916 (0)\ttotal: 9.97s\tremaining: 23.3s\n",
            "6:\tlearn: 0.9023373\ttest: 0.6816795\tbest: 0.6841916 (0)\ttotal: 9.98s\tremaining: 18.5s\n",
            "7:\tlearn: 0.9234669\ttest: 0.6779114\tbest: 0.6841916 (0)\ttotal: 11.5s\tremaining: 17.2s\n",
            "8:\tlearn: 0.9371944\ttest: 0.6753992\tbest: 0.6841916 (0)\ttotal: 13s\tremaining: 15.9s\n",
            "9:\tlearn: 0.9467947\ttest: 0.6734254\tbest: 0.6841916 (0)\ttotal: 14.5s\tremaining: 14.5s\n",
            "10:\tlearn: 0.9592661\ttest: 0.6732460\tbest: 0.6841916 (0)\ttotal: 16s\tremaining: 13.1s\n",
            "11:\tlearn: 0.9637522\ttest: 0.6705545\tbest: 0.6841916 (0)\ttotal: 17.5s\tremaining: 11.7s\n",
            "12:\tlearn: 0.9685972\ttest: 0.6739638\tbest: 0.6841916 (0)\ttotal: 19.7s\tremaining: 10.6s\n",
            "13:\tlearn: 0.9742497\ttest: 0.6714516\tbest: 0.6841916 (0)\ttotal: 21.6s\tremaining: 9.24s\n",
            "14:\tlearn: 0.9762684\ttest: 0.6746815\tbest: 0.6841916 (0)\ttotal: 23.1s\tremaining: 7.68s\n",
            "15:\tlearn: 0.9802611\ttest: 0.6748609\tbest: 0.6841916 (0)\ttotal: 24.5s\tremaining: 6.14s\n",
            "16:\tlearn: 0.9830425\ttest: 0.6779114\tbest: 0.6841916 (0)\ttotal: 26.1s\tremaining: 4.6s\n",
            "17:\tlearn: 0.9842537\ttest: 0.6779114\tbest: 0.6841916 (0)\ttotal: 28.5s\tremaining: 3.17s\n",
            "18:\tlearn: 0.9862725\ttest: 0.6750404\tbest: 0.6841916 (0)\ttotal: 32s\tremaining: 1.68s\n",
            "19:\tlearn: 0.9893679\ttest: 0.6748609\tbest: 0.6841916 (0)\ttotal: 34.2s\tremaining: 0us\n",
            "\n",
            "bestTest = 0.6841916383\n",
            "bestIteration = 0\n",
            "\n",
            "60:\tloss: 0.6841916\tbest: 0.7340750 (9)\ttotal: 2m 19s\tremaining: 1m 6s\n",
            "0:\tlearn: 0.7538020\ttest: 0.6841916\tbest: 0.6841916 (0)\ttotal: 1.47s\tremaining: 28s\n",
            "1:\tlearn: 0.7871787\ttest: 0.7001615\tbest: 0.7001615 (1)\ttotal: 3.22s\tremaining: 29s\n",
            "2:\tlearn: 0.8060652\ttest: 0.7008792\tbest: 0.7008792 (2)\ttotal: 5.46s\tremaining: 31s\n",
            "3:\tlearn: 0.8098336\ttest: 0.7116454\tbest: 0.7116454 (3)\ttotal: 6.95s\tremaining: 27.8s\n",
            "4:\tlearn: 0.8011305\ttest: 0.7139781\tbest: 0.7139781 (4)\ttotal: 6.96s\tremaining: 20.9s\n",
            "5:\tlearn: 0.8031941\ttest: 0.7148753\tbest: 0.7148753 (5)\ttotal: 8.45s\tremaining: 19.7s\n",
            "6:\tlearn: 0.8096541\ttest: 0.7130809\tbest: 0.7148753 (5)\ttotal: 10s\tremaining: 18.6s\n",
            "7:\tlearn: 0.8147234\ttest: 0.7145164\tbest: 0.7148753 (5)\ttotal: 12.3s\tremaining: 18.4s\n",
            "8:\tlearn: 0.8203311\ttest: 0.7175668\tbest: 0.7175668 (8)\ttotal: 13.8s\tremaining: 16.9s\n",
            "9:\tlearn: 0.8347315\ttest: 0.7179257\tbest: 0.7179257 (9)\ttotal: 15.3s\tremaining: 15.3s\n",
            "10:\tlearn: 0.8379166\ttest: 0.7177463\tbest: 0.7179257 (9)\ttotal: 16.9s\tremaining: 13.8s\n",
            "11:\tlearn: 0.8435243\ttest: 0.7166697\tbest: 0.7179257 (9)\ttotal: 18.3s\tremaining: 12.2s\n",
            "12:\tlearn: 0.8492217\ttest: 0.7193612\tbest: 0.7193612 (12)\ttotal: 19.9s\tremaining: 10.7s\n",
            "13:\tlearn: 0.8578350\ttest: 0.7211556\tbest: 0.7211556 (13)\ttotal: 21.4s\tremaining: 9.16s\n",
            "14:\tlearn: 0.8660895\ttest: 0.7166697\tbest: 0.7211556 (13)\ttotal: 23s\tremaining: 7.67s\n",
            "15:\tlearn: 0.8638913\ttest: 0.7172080\tbest: 0.7211556 (13)\ttotal: 23s\tremaining: 5.76s\n",
            "16:\tlearn: 0.8695886\ttest: 0.7170285\tbest: 0.7211556 (13)\ttotal: 25.4s\tremaining: 4.47s\n",
            "17:\tlearn: 0.8715177\ttest: 0.7195406\tbest: 0.7211556 (13)\ttotal: 26.9s\tremaining: 2.98s\n",
            "18:\tlearn: 0.8734915\ttest: 0.7200790\tbest: 0.7211556 (13)\ttotal: 28.4s\tremaining: 1.49s\n",
            "19:\tlearn: 0.8777982\ttest: 0.7195406\tbest: 0.7211556 (13)\ttotal: 29.9s\tremaining: 0us\n",
            "\n",
            "bestTest = 0.7211555715\n",
            "bestIteration = 13\n",
            "\n",
            "61:\tloss: 0.7211556\tbest: 0.7340750 (9)\ttotal: 2m 49s\tremaining: 1m 16s\n",
            "0:\tlearn: 0.7538020\ttest: 0.6841916\tbest: 0.6841916 (0)\ttotal: 1.46s\tremaining: 27.7s\n",
            "1:\tlearn: 0.7860572\ttest: 0.7012381\tbest: 0.7012381 (1)\ttotal: 2.92s\tremaining: 26.3s\n",
            "2:\tlearn: 0.8008165\ttest: 0.7035708\tbest: 0.7035708 (2)\ttotal: 4.41s\tremaining: 25s\n",
            "3:\tlearn: 0.8009959\ttest: 0.7130809\tbest: 0.7130809 (3)\ttotal: 6s\tremaining: 24s\n",
            "4:\tlearn: 0.7989323\ttest: 0.7161313\tbest: 0.7161313 (4)\ttotal: 8.3s\tremaining: 24.9s\n",
            "5:\tlearn: 0.8069176\ttest: 0.7118249\tbest: 0.7161313 (4)\ttotal: 9.79s\tremaining: 22.9s\n",
            "6:\tlearn: 0.8095644\ttest: 0.7173874\tbest: 0.7173874 (6)\ttotal: 11.3s\tremaining: 21s\n",
            "7:\tlearn: 0.8184469\ttest: 0.7206173\tbest: 0.7206173 (7)\ttotal: 12.8s\tremaining: 19.2s\n",
            "8:\tlearn: 0.8233816\ttest: 0.7190023\tbest: 0.7206173 (7)\ttotal: 14.3s\tremaining: 17.5s\n",
            "9:\tlearn: 0.8297519\ttest: 0.7188229\tbest: 0.7206173 (7)\ttotal: 15.8s\tremaining: 15.8s\n",
            "10:\tlearn: 0.8332959\ttest: 0.7175668\tbest: 0.7206173 (7)\ttotal: 17.3s\tremaining: 14.2s\n",
            "11:\tlearn: 0.8341034\ttest: 0.7172080\tbest: 0.7206173 (7)\ttotal: 18.9s\tremaining: 12.6s\n",
            "12:\tlearn: 0.8319950\ttest: 0.7177463\tbest: 0.7206173 (7)\ttotal: 21.3s\tremaining: 11.5s\n",
            "13:\tlearn: 0.8328922\ttest: 0.7166697\tbest: 0.7206173 (7)\ttotal: 22.8s\tremaining: 9.76s\n",
            "14:\tlearn: 0.8350007\ttest: 0.7172080\tbest: 0.7206173 (7)\ttotal: 24.3s\tremaining: 8.1s\n",
            "15:\tlearn: 0.8387241\ttest: 0.7186435\tbest: 0.7206173 (7)\ttotal: 25.8s\tremaining: 6.45s\n",
            "16:\tlearn: 0.8369297\ttest: 0.7209761\tbest: 0.7209761 (16)\ttotal: 27.3s\tremaining: 4.82s\n",
            "17:\tlearn: 0.8378269\ttest: 0.7197201\tbest: 0.7209761 (16)\ttotal: 28.8s\tremaining: 3.2s\n",
            "18:\tlearn: 0.8407429\ttest: 0.7177463\tbest: 0.7209761 (16)\ttotal: 30.3s\tremaining: 1.6s\n",
            "19:\tlearn: 0.8405635\ttest: 0.7209761\tbest: 0.7209761 (16)\ttotal: 32s\tremaining: 0us\n",
            "\n",
            "bestTest = 0.7209761349\n",
            "bestIteration = 16\n",
            "\n",
            "62:\tloss: 0.7209761\tbest: 0.7340750 (9)\ttotal: 3m 21s\tremaining: 1m 26s\n",
            "0:\tlearn: 0.7538020\ttest: 0.6841916\tbest: 0.6841916 (0)\ttotal: 2.17s\tremaining: 41.3s\n",
            "1:\tlearn: 0.8157552\ttest: 0.6958550\tbest: 0.6958550 (1)\ttotal: 3.7s\tremaining: 33.3s\n",
            "2:\tlearn: 0.8417298\ttest: 0.6945990\tbest: 0.6958550 (1)\ttotal: 5.2s\tremaining: 29.4s\n",
            "3:\tlearn: 0.8605715\ttest: 0.6953167\tbest: 0.6958550 (1)\ttotal: 6.7s\tremaining: 26.8s\n",
            "4:\tlearn: 0.8801759\ttest: 0.6919074\tbest: 0.6958550 (1)\ttotal: 8.21s\tremaining: 24.6s\n",
            "5:\tlearn: 0.8886995\ttest: 0.6915485\tbest: 0.6958550 (1)\ttotal: 9.71s\tremaining: 22.6s\n",
            "6:\tlearn: 0.8882957\ttest: 0.6945990\tbest: 0.6958550 (1)\ttotal: 9.72s\tremaining: 18s\n",
            "7:\tlearn: 0.9066439\ttest: 0.6937018\tbest: 0.6958550 (1)\ttotal: 11.2s\tremaining: 16.8s\n",
            "8:\tlearn: 0.9216276\ttest: 0.6884981\tbest: 0.6958550 (1)\ttotal: 12.8s\tremaining: 15.6s\n",
            "9:\tlearn: 0.9310484\ttest: 0.6865243\tbest: 0.6958550 (1)\ttotal: 15.1s\tremaining: 15.1s\n",
            "10:\tlearn: 0.9424431\ttest: 0.6874215\tbest: 0.6958550 (1)\ttotal: 16.6s\tremaining: 13.6s\n",
            "11:\tlearn: 0.9489929\ttest: 0.6876009\tbest: 0.6958550 (1)\ttotal: 18.1s\tremaining: 12.1s\n",
            "12:\tlearn: 0.9506079\ttest: 0.6881392\tbest: 0.6958550 (1)\ttotal: 19.6s\tremaining: 10.6s\n",
            "13:\tlearn: 0.9564847\ttest: 0.6877804\tbest: 0.6958550 (1)\ttotal: 21.1s\tremaining: 9.05s\n",
            "14:\tlearn: 0.9630344\ttest: 0.6881392\tbest: 0.6958550 (1)\ttotal: 22.6s\tremaining: 7.54s\n",
            "15:\tlearn: 0.9671168\ttest: 0.6893953\tbest: 0.6958550 (1)\ttotal: 24.1s\tremaining: 6.04s\n",
            "16:\tlearn: 0.9689112\ttest: 0.6899336\tbest: 0.6958550 (1)\ttotal: 25.8s\tremaining: 4.55s\n",
            "17:\tlearn: 0.9725001\ttest: 0.6940606\tbest: 0.6958550 (1)\ttotal: 28.1s\tremaining: 3.12s\n",
            "18:\tlearn: 0.9755507\ttest: 0.6924457\tbest: 0.6958550 (1)\ttotal: 29.6s\tremaining: 1.56s\n",
            "19:\tlearn: 0.9806648\ttest: 0.6892159\tbest: 0.6958550 (1)\ttotal: 31.1s\tremaining: 0us\n",
            "\n",
            "bestTest = 0.6958550153\n",
            "bestIteration = 1\n",
            "\n",
            "63:\tloss: 0.6958550\tbest: 0.7340750 (9)\ttotal: 3m 52s\tremaining: 1m 34s\n",
            "0:\tlearn: 0.7538020\ttest: 0.6841916\tbest: 0.6841916 (0)\ttotal: 1.49s\tremaining: 28.4s\n",
            "1:\tlearn: 0.7832758\ttest: 0.7012381\tbest: 0.7012381 (1)\ttotal: 2.98s\tremaining: 26.8s\n",
            "2:\tlearn: 0.7970481\ttest: 0.7060829\tbest: 0.7060829 (2)\ttotal: 4.48s\tremaining: 25.4s\n",
            "3:\tlearn: 0.8012202\ttest: 0.7136192\tbest: 0.7136192 (3)\ttotal: 5.95s\tremaining: 23.8s\n",
            "4:\tlearn: 0.7987529\ttest: 0.7161313\tbest: 0.7161313 (4)\ttotal: 7.61s\tremaining: 22.8s\n",
            "5:\tlearn: 0.8086672\ttest: 0.7136192\tbest: 0.7161313 (4)\ttotal: 9.88s\tremaining: 23.1s\n",
            "6:\tlearn: 0.8164730\ttest: 0.7163108\tbest: 0.7163108 (6)\ttotal: 11.4s\tremaining: 21.3s\n",
            "7:\tlearn: 0.8269705\ttest: 0.7121837\tbest: 0.7163108 (6)\ttotal: 12.9s\tremaining: 19.4s\n",
            "8:\tlearn: 0.8379615\ttest: 0.7190023\tbest: 0.7190023 (8)\ttotal: 14.5s\tremaining: 17.7s\n",
            "9:\tlearn: 0.8384550\ttest: 0.7191818\tbest: 0.7191818 (9)\ttotal: 16s\tremaining: 16s\n",
            "10:\tlearn: 0.8446458\ttest: 0.7213350\tbest: 0.7213350 (10)\ttotal: 17.5s\tremaining: 14.3s\n",
            "11:\tlearn: 0.8467094\ttest: 0.7207967\tbest: 0.7213350 (10)\ttotal: 19s\tremaining: 12.7s\n",
            "12:\tlearn: 0.8521825\ttest: 0.7179257\tbest: 0.7213350 (10)\ttotal: 20.6s\tremaining: 11.1s\n",
            "13:\tlearn: 0.8537526\ttest: 0.7179257\tbest: 0.7213350 (10)\ttotal: 22.9s\tremaining: 9.82s\n",
            "14:\tlearn: 0.8546947\ttest: 0.7204378\tbest: 0.7213350 (10)\ttotal: 24.5s\tremaining: 8.17s\n",
            "15:\tlearn: 0.8578350\ttest: 0.7216939\tbest: 0.7216939 (15)\ttotal: 26s\tremaining: 6.51s\n",
            "16:\tlearn: 0.8587771\ttest: 0.7190023\tbest: 0.7216939 (15)\ttotal: 27.6s\tremaining: 4.86s\n",
            "17:\tlearn: 0.8581490\ttest: 0.7181051\tbest: 0.7216939 (15)\ttotal: 29.1s\tremaining: 3.23s\n",
            "18:\tlearn: 0.8645642\ttest: 0.7177463\tbest: 0.7216939 (15)\ttotal: 30.6s\tremaining: 1.61s\n",
            "19:\tlearn: 0.8668072\ttest: 0.7177463\tbest: 0.7216939 (15)\ttotal: 32.1s\tremaining: 0us\n",
            "\n",
            "bestTest = 0.7216938812\n",
            "bestIteration = 15\n",
            "\n",
            "64:\tloss: 0.7216939\tbest: 0.7340750 (9)\ttotal: 4m 24s\tremaining: 1m 41s\n",
            "0:\tlearn: 0.7538020\ttest: 0.6841916\tbest: 0.6841916 (0)\ttotal: 1.53s\tremaining: 29.1s\n",
            "1:\tlearn: 0.7821094\ttest: 0.7003409\tbest: 0.7003409 (1)\ttotal: 3.71s\tremaining: 33.4s\n",
            "2:\tlearn: 0.7911713\ttest: 0.7064418\tbest: 0.7064418 (2)\ttotal: 5.31s\tremaining: 30.1s\n",
            "3:\tlearn: 0.7917994\ttest: 0.7094922\tbest: 0.7094922 (3)\ttotal: 6.84s\tremaining: 27.3s\n",
            "4:\tlearn: 0.7931901\ttest: 0.7094922\tbest: 0.7094922 (3)\ttotal: 8.35s\tremaining: 25s\n",
            "5:\tlearn: 0.8004127\ttest: 0.7066212\tbest: 0.7094922 (3)\ttotal: 9.84s\tremaining: 23s\n",
            "6:\tlearn: 0.8040465\ttest: 0.7121837\tbest: 0.7121837 (6)\ttotal: 11.3s\tremaining: 21s\n",
            "7:\tlearn: 0.8108654\ttest: 0.7155930\tbest: 0.7155930 (7)\ttotal: 12.9s\tremaining: 19.3s\n",
            "8:\tlearn: 0.8137365\ttest: 0.7139781\tbest: 0.7155930 (7)\ttotal: 14.5s\tremaining: 17.7s\n",
            "9:\tlearn: 0.8172357\ttest: 0.7163108\tbest: 0.7163108 (9)\ttotal: 17s\tremaining: 17s\n",
            "10:\tlearn: 0.8218564\ttest: 0.7191818\tbest: 0.7191818 (10)\ttotal: 18.6s\tremaining: 15.2s\n",
            "11:\tlearn: 0.8156655\ttest: 0.7209761\tbest: 0.7209761 (11)\ttotal: 18.6s\tremaining: 12.4s\n",
            "12:\tlearn: 0.8102373\ttest: 0.7240266\tbest: 0.7240266 (12)\ttotal: 18.6s\tremaining: 10s\n",
            "13:\tlearn: 0.8117626\ttest: 0.7211556\tbest: 0.7240266 (12)\ttotal: 20.3s\tremaining: 8.71s\n",
            "14:\tlearn: 0.8138711\ttest: 0.7229499\tbest: 0.7240266 (12)\ttotal: 21.8s\tremaining: 7.27s\n",
            "15:\tlearn: 0.8129290\ttest: 0.7207967\tbest: 0.7240266 (12)\ttotal: 23.3s\tremaining: 5.83s\n",
            "16:\tlearn: 0.8158450\ttest: 0.7206173\tbest: 0.7240266 (12)\ttotal: 24.9s\tremaining: 4.38s\n",
            "17:\tlearn: 0.8179086\ttest: 0.7209761\tbest: 0.7240266 (12)\ttotal: 26.4s\tremaining: 2.93s\n",
            "18:\tlearn: 0.8192544\ttest: 0.7213350\tbest: 0.7240266 (12)\ttotal: 28.2s\tremaining: 1.48s\n",
            "19:\tlearn: 0.8207348\ttest: 0.7206173\tbest: 0.7240266 (12)\ttotal: 30.4s\tremaining: 0us\n",
            "\n",
            "bestTest = 0.7240265566\n",
            "bestIteration = 12\n",
            "\n",
            "65:\tloss: 0.7240266\tbest: 0.7340750 (9)\ttotal: 4m 55s\tremaining: 1m 47s\n",
            "0:\tlearn: 0.7538020\ttest: 0.6841916\tbest: 0.6841916 (0)\ttotal: 1.46s\tremaining: 56.9s\n",
            "1:\tlearn: 0.8402046\ttest: 0.6759376\tbest: 0.6841916 (0)\ttotal: 2.95s\tremaining: 56s\n",
            "2:\tlearn: 0.8659997\ttest: 0.6768347\tbest: 0.6841916 (0)\ttotal: 4.42s\tremaining: 54.5s\n",
            "3:\tlearn: 0.8850209\ttest: 0.6743226\tbest: 0.6841916 (0)\ttotal: 5.9s\tremaining: 53.1s\n",
            "4:\tlearn: 0.8940380\ttest: 0.6782702\tbest: 0.6841916 (0)\ttotal: 7.38s\tremaining: 51.7s\n",
            "5:\tlearn: 0.9032794\ttest: 0.6788085\tbest: 0.6841916 (0)\ttotal: 9.43s\tremaining: 53.4s\n",
            "6:\tlearn: 0.9023373\ttest: 0.6816795\tbest: 0.6841916 (0)\ttotal: 9.45s\tremaining: 44.5s\n",
            "7:\tlearn: 0.9234669\ttest: 0.6779114\tbest: 0.6841916 (0)\ttotal: 11.9s\tremaining: 47.5s\n",
            "8:\tlearn: 0.9371944\ttest: 0.6753992\tbest: 0.6841916 (0)\ttotal: 13.9s\tremaining: 47.8s\n",
            "9:\tlearn: 0.9467947\ttest: 0.6734254\tbest: 0.6841916 (0)\ttotal: 15.4s\tremaining: 46.1s\n",
            "10:\tlearn: 0.9592661\ttest: 0.6732460\tbest: 0.6841916 (0)\ttotal: 16.9s\tremaining: 44.5s\n",
            "11:\tlearn: 0.9637522\ttest: 0.6705545\tbest: 0.6841916 (0)\ttotal: 18.4s\tremaining: 42.9s\n",
            "12:\tlearn: 0.9685972\ttest: 0.6739638\tbest: 0.6841916 (0)\ttotal: 19.9s\tremaining: 41.3s\n",
            "13:\tlearn: 0.9742497\ttest: 0.6714516\tbest: 0.6841916 (0)\ttotal: 21.4s\tremaining: 39.7s\n",
            "14:\tlearn: 0.9762684\ttest: 0.6746815\tbest: 0.6841916 (0)\ttotal: 22.9s\tremaining: 38.2s\n",
            "15:\tlearn: 0.9802611\ttest: 0.6748609\tbest: 0.6841916 (0)\ttotal: 25s\tremaining: 37.5s\n",
            "16:\tlearn: 0.9830425\ttest: 0.6779114\tbest: 0.6841916 (0)\ttotal: 26.9s\tremaining: 36.4s\n",
            "17:\tlearn: 0.9842537\ttest: 0.6779114\tbest: 0.6841916 (0)\ttotal: 28.4s\tremaining: 34.7s\n",
            "18:\tlearn: 0.9862725\ttest: 0.6750404\tbest: 0.6841916 (0)\ttotal: 29.9s\tremaining: 33.1s\n",
            "19:\tlearn: 0.9893679\ttest: 0.6748609\tbest: 0.6841916 (0)\ttotal: 31.4s\tremaining: 31.4s\n",
            "20:\tlearn: 0.9896371\ttest: 0.6753992\tbest: 0.6841916 (0)\ttotal: 32.9s\tremaining: 29.8s\n",
            "21:\tlearn: 0.9911175\ttest: 0.6784497\tbest: 0.6841916 (0)\ttotal: 34.5s\tremaining: 28.2s\n",
            "22:\tlearn: 0.9922390\ttest: 0.6759376\tbest: 0.6841916 (0)\ttotal: 36s\tremaining: 26.6s\n",
            "23:\tlearn: 0.9927774\ttest: 0.6752198\tbest: 0.6841916 (0)\ttotal: 38.2s\tremaining: 25.5s\n",
            "24:\tlearn: 0.9932708\ttest: 0.6797057\tbest: 0.6841916 (0)\ttotal: 39.9s\tremaining: 24s\n",
            "25:\tlearn: 0.9935400\ttest: 0.6793469\tbest: 0.6841916 (0)\ttotal: 41.5s\tremaining: 22.3s\n",
            "26:\tlearn: 0.9943475\ttest: 0.6800646\tbest: 0.6841916 (0)\ttotal: 43s\tremaining: 20.7s\n",
            "27:\tlearn: 0.9949756\ttest: 0.6793469\tbest: 0.6841916 (0)\ttotal: 44.5s\tremaining: 19.1s\n",
            "28:\tlearn: 0.9952447\ttest: 0.6820384\tbest: 0.6841916 (0)\ttotal: 46s\tremaining: 17.4s\n",
            "29:\tlearn: 0.9954690\ttest: 0.6816795\tbest: 0.6841916 (0)\ttotal: 47.5s\tremaining: 15.8s\n",
            "30:\tlearn: 0.9957382\ttest: 0.6797057\tbest: 0.6841916 (0)\ttotal: 49.2s\tremaining: 14.3s\n",
            "31:\tlearn: 0.9960074\ttest: 0.6809618\tbest: 0.6841916 (0)\ttotal: 51.4s\tremaining: 12.9s\n",
            "32:\tlearn: 0.9964111\ttest: 0.6843711\tbest: 0.6843711 (32)\ttotal: 53s\tremaining: 11.2s\n",
            "33:\tlearn: 0.9969046\ttest: 0.6818590\tbest: 0.6843711 (32)\ttotal: 54.5s\tremaining: 9.62s\n",
            "34:\tlearn: 0.9969943\ttest: 0.6795263\tbest: 0.6843711 (32)\ttotal: 56s\tremaining: 8s\n",
            "35:\tlearn: 0.9970840\ttest: 0.6811412\tbest: 0.6843711 (32)\ttotal: 57.5s\tremaining: 6.39s\n",
            "36:\tlearn: 0.9970840\ttest: 0.6820384\tbest: 0.6843711 (32)\ttotal: 59s\tremaining: 4.79s\n",
            "37:\tlearn: 0.9973981\ttest: 0.6802440\tbest: 0.6843711 (32)\ttotal: 1m\tremaining: 3.18s\n",
            "38:\tlearn: 0.9975326\ttest: 0.6813207\tbest: 0.6843711 (32)\ttotal: 1m 2s\tremaining: 1.59s\n",
            "39:\tlearn: 0.9975326\ttest: 0.6849094\tbest: 0.6849094 (39)\ttotal: 1m 4s\tremaining: 0us\n",
            "\n",
            "bestTest = 0.6849093845\n",
            "bestIteration = 39\n",
            "\n",
            "66:\tloss: 0.6849094\tbest: 0.7340750 (9)\ttotal: 5m 59s\tremaining: 2m 3s\n",
            "0:\tlearn: 0.7538020\ttest: 0.6841916\tbest: 0.6841916 (0)\ttotal: 1.52s\tremaining: 59.3s\n",
            "1:\tlearn: 0.7871787\ttest: 0.7001615\tbest: 0.7001615 (1)\ttotal: 3s\tremaining: 57s\n",
            "2:\tlearn: 0.8060652\ttest: 0.7008792\tbest: 0.7008792 (2)\ttotal: 4.47s\tremaining: 55.1s\n",
            "3:\tlearn: 0.8098336\ttest: 0.7116454\tbest: 0.7116454 (3)\ttotal: 5.96s\tremaining: 53.6s\n",
            "4:\tlearn: 0.8011305\ttest: 0.7139781\tbest: 0.7139781 (4)\ttotal: 5.97s\tremaining: 41.8s\n",
            "5:\tlearn: 0.8031941\ttest: 0.7148753\tbest: 0.7148753 (5)\ttotal: 7.46s\tremaining: 42.3s\n",
            "6:\tlearn: 0.8096541\ttest: 0.7130809\tbest: 0.7148753 (5)\ttotal: 8.94s\tremaining: 42.2s\n",
            "7:\tlearn: 0.8147234\ttest: 0.7145164\tbest: 0.7148753 (5)\ttotal: 10.5s\tremaining: 42.1s\n",
            "8:\tlearn: 0.8203311\ttest: 0.7175668\tbest: 0.7175668 (8)\ttotal: 12.8s\tremaining: 44s\n",
            "9:\tlearn: 0.8347315\ttest: 0.7179257\tbest: 0.7179257 (9)\ttotal: 14.4s\tremaining: 43.1s\n",
            "10:\tlearn: 0.8379166\ttest: 0.7177463\tbest: 0.7179257 (9)\ttotal: 15.9s\tremaining: 41.8s\n",
            "11:\tlearn: 0.8435243\ttest: 0.7166697\tbest: 0.7179257 (9)\ttotal: 17.4s\tremaining: 40.6s\n",
            "12:\tlearn: 0.8492217\ttest: 0.7193612\tbest: 0.7193612 (12)\ttotal: 18.9s\tremaining: 39.2s\n",
            "13:\tlearn: 0.8578350\ttest: 0.7211556\tbest: 0.7211556 (13)\ttotal: 20.4s\tremaining: 37.9s\n",
            "14:\tlearn: 0.8660895\ttest: 0.7166697\tbest: 0.7211556 (13)\ttotal: 21.9s\tremaining: 36.5s\n",
            "15:\tlearn: 0.8638913\ttest: 0.7172080\tbest: 0.7211556 (13)\ttotal: 21.9s\tremaining: 32.9s\n",
            "16:\tlearn: 0.8695886\ttest: 0.7170285\tbest: 0.7211556 (13)\ttotal: 23.5s\tremaining: 31.9s\n",
            "17:\tlearn: 0.8715177\ttest: 0.7195406\tbest: 0.7211556 (13)\ttotal: 25.8s\tremaining: 31.6s\n",
            "18:\tlearn: 0.8734915\ttest: 0.7200790\tbest: 0.7211556 (13)\ttotal: 27.3s\tremaining: 30.2s\n",
            "19:\tlearn: 0.8777982\ttest: 0.7195406\tbest: 0.7211556 (13)\ttotal: 28.8s\tremaining: 28.8s\n",
            "20:\tlearn: 0.8806245\ttest: 0.7207967\tbest: 0.7211556 (13)\ttotal: 30.3s\tremaining: 27.4s\n",
            "21:\tlearn: 0.8822395\ttest: 0.7188229\tbest: 0.7211556 (13)\ttotal: 31.9s\tremaining: 26.1s\n",
            "22:\tlearn: 0.8849311\ttest: 0.7197201\tbest: 0.7211556 (13)\ttotal: 33.4s\tremaining: 24.7s\n",
            "23:\tlearn: 0.8874882\ttest: 0.7198995\tbest: 0.7211556 (13)\ttotal: 34.9s\tremaining: 23.3s\n",
            "24:\tlearn: 0.8886546\ttest: 0.7213350\tbest: 0.7213350 (24)\ttotal: 36.6s\tremaining: 22s\n",
            "25:\tlearn: 0.8892378\ttest: 0.7202584\tbest: 0.7213350 (24)\ttotal: 38.8s\tremaining: 20.9s\n",
            "26:\tlearn: 0.8919295\ttest: 0.7200790\tbest: 0.7213350 (24)\ttotal: 40.3s\tremaining: 19.4s\n",
            "27:\tlearn: 0.8921538\ttest: 0.7198995\tbest: 0.7213350 (24)\ttotal: 41.8s\tremaining: 17.9s\n",
            "28:\tlearn: 0.8943968\ttest: 0.7190023\tbest: 0.7213350 (24)\ttotal: 43.3s\tremaining: 16.4s\n",
            "29:\tlearn: 0.8969091\ttest: 0.7202584\tbest: 0.7213350 (24)\ttotal: 44.8s\tremaining: 14.9s\n",
            "30:\tlearn: 0.8979857\ttest: 0.7215144\tbest: 0.7215144 (30)\ttotal: 46.3s\tremaining: 13.4s\n",
            "31:\tlearn: 0.8998699\ttest: 0.7215144\tbest: 0.7215144 (30)\ttotal: 47.8s\tremaining: 11.9s\n",
            "32:\tlearn: 0.9015746\ttest: 0.7209761\tbest: 0.7215144 (30)\ttotal: 49.4s\tremaining: 10.5s\n",
            "33:\tlearn: 0.9024270\ttest: 0.7225911\tbest: 0.7225911 (33)\ttotal: 51.7s\tremaining: 9.12s\n",
            "34:\tlearn: 0.9050289\ttest: 0.7245649\tbest: 0.7245649 (34)\ttotal: 53.2s\tremaining: 7.6s\n",
            "35:\tlearn: 0.9063299\ttest: 0.7234882\tbest: 0.7245649 (34)\ttotal: 54.7s\tremaining: 6.07s\n",
            "36:\tlearn: 0.9076309\ttest: 0.7236677\tbest: 0.7245649 (34)\ttotal: 56.2s\tremaining: 4.55s\n",
            "37:\tlearn: 0.9109506\ttest: 0.7243854\tbest: 0.7245649 (34)\ttotal: 57.7s\tremaining: 3.03s\n",
            "38:\tlearn: 0.9125656\ttest: 0.7234882\tbest: 0.7245649 (34)\ttotal: 59.1s\tremaining: 1.52s\n",
            "39:\tlearn: 0.9139114\ttest: 0.7238471\tbest: 0.7245649 (34)\ttotal: 1m\tremaining: 0us\n",
            "\n",
            "bestTest = 0.7245648663\n",
            "bestIteration = 34\n",
            "\n",
            "67:\tloss: 0.7245649\tbest: 0.7340750 (9)\ttotal: 7m\tremaining: 2m 15s\n",
            "0:\tlearn: 0.7538020\ttest: 0.6841916\tbest: 0.6841916 (0)\ttotal: 1.83s\tremaining: 1m 11s\n",
            "1:\tlearn: 0.7860572\ttest: 0.7012381\tbest: 0.7012381 (1)\ttotal: 4.09s\tremaining: 1m 17s\n",
            "2:\tlearn: 0.8008165\ttest: 0.7035708\tbest: 0.7035708 (2)\ttotal: 5.57s\tremaining: 1m 8s\n",
            "3:\tlearn: 0.8009959\ttest: 0.7130809\tbest: 0.7130809 (3)\ttotal: 7.05s\tremaining: 1m 3s\n",
            "4:\tlearn: 0.7989323\ttest: 0.7161313\tbest: 0.7161313 (4)\ttotal: 8.55s\tremaining: 59.8s\n",
            "5:\tlearn: 0.8069176\ttest: 0.7118249\tbest: 0.7161313 (4)\ttotal: 10s\tremaining: 56.8s\n",
            "6:\tlearn: 0.8095644\ttest: 0.7173874\tbest: 0.7173874 (6)\ttotal: 11.5s\tremaining: 54.2s\n",
            "7:\tlearn: 0.8184469\ttest: 0.7206173\tbest: 0.7206173 (7)\ttotal: 13s\tremaining: 52s\n",
            "8:\tlearn: 0.8233816\ttest: 0.7190023\tbest: 0.7206173 (7)\ttotal: 14.7s\tremaining: 50.5s\n",
            "9:\tlearn: 0.8297519\ttest: 0.7188229\tbest: 0.7206173 (7)\ttotal: 17s\tremaining: 51s\n",
            "10:\tlearn: 0.8332959\ttest: 0.7175668\tbest: 0.7206173 (7)\ttotal: 18.5s\tremaining: 48.8s\n",
            "11:\tlearn: 0.8341034\ttest: 0.7172080\tbest: 0.7206173 (7)\ttotal: 20s\tremaining: 46.7s\n",
            "12:\tlearn: 0.8319950\ttest: 0.7177463\tbest: 0.7206173 (7)\ttotal: 21.5s\tremaining: 44.7s\n",
            "13:\tlearn: 0.8328922\ttest: 0.7166697\tbest: 0.7206173 (7)\ttotal: 23s\tremaining: 42.8s\n",
            "14:\tlearn: 0.8350007\ttest: 0.7172080\tbest: 0.7206173 (7)\ttotal: 24.6s\tremaining: 40.9s\n",
            "15:\tlearn: 0.8387241\ttest: 0.7186435\tbest: 0.7206173 (7)\ttotal: 26.1s\tremaining: 39.1s\n",
            "16:\tlearn: 0.8369297\ttest: 0.7209761\tbest: 0.7209761 (16)\ttotal: 27.9s\tremaining: 37.7s\n",
            "17:\tlearn: 0.8378269\ttest: 0.7197201\tbest: 0.7209761 (16)\ttotal: 30s\tremaining: 36.7s\n",
            "18:\tlearn: 0.8407429\ttest: 0.7177463\tbest: 0.7209761 (16)\ttotal: 31.5s\tremaining: 34.9s\n",
            "19:\tlearn: 0.8405635\ttest: 0.7209761\tbest: 0.7209761 (16)\ttotal: 33s\tremaining: 33s\n",
            "20:\tlearn: 0.8408326\ttest: 0.7206173\tbest: 0.7209761 (16)\ttotal: 34.6s\tremaining: 31.3s\n",
            "21:\tlearn: 0.8409672\ttest: 0.7206173\tbest: 0.7209761 (16)\ttotal: 36.1s\tremaining: 29.5s\n",
            "22:\tlearn: 0.8408775\ttest: 0.7204378\tbest: 0.7209761 (16)\ttotal: 38.1s\tremaining: 28.2s\n",
            "23:\tlearn: 0.8402494\ttest: 0.7216939\tbest: 0.7216939 (23)\ttotal: 40.4s\tremaining: 27s\n",
            "24:\tlearn: 0.8413261\ttest: 0.7193612\tbest: 0.7216939 (23)\ttotal: 42.9s\tremaining: 25.7s\n",
            "25:\tlearn: 0.8419542\ttest: 0.7207967\tbest: 0.7216939 (23)\ttotal: 45.5s\tremaining: 24.5s\n",
            "26:\tlearn: 0.8427617\ttest: 0.7209761\tbest: 0.7216939 (23)\ttotal: 47.7s\tremaining: 23s\n",
            "27:\tlearn: 0.8430757\ttest: 0.7220528\tbest: 0.7220528 (27)\ttotal: 49.2s\tremaining: 21.1s\n",
            "28:\tlearn: 0.8428962\ttest: 0.7206173\tbest: 0.7220528 (27)\ttotal: 50.7s\tremaining: 19.2s\n",
            "29:\tlearn: 0.8451393\ttest: 0.7202584\tbest: 0.7220528 (27)\ttotal: 52.2s\tremaining: 17.4s\n",
            "30:\tlearn: 0.8427617\ttest: 0.7211556\tbest: 0.7220528 (27)\ttotal: 52.3s\tremaining: 15.2s\n",
            "31:\tlearn: 0.8457225\ttest: 0.7207967\tbest: 0.7220528 (27)\ttotal: 53.8s\tremaining: 13.4s\n",
            "32:\tlearn: 0.8434346\ttest: 0.7209761\tbest: 0.7220528 (27)\ttotal: 53.8s\tremaining: 11.4s\n",
            "33:\tlearn: 0.8429860\ttest: 0.7227705\tbest: 0.7227705 (33)\ttotal: 55.3s\tremaining: 9.76s\n",
            "34:\tlearn: 0.8430757\ttest: 0.7222322\tbest: 0.7227705 (33)\ttotal: 57.5s\tremaining: 8.21s\n",
            "35:\tlearn: 0.8428065\ttest: 0.7216939\tbest: 0.7227705 (33)\ttotal: 59.2s\tremaining: 6.58s\n",
            "36:\tlearn: 0.8422682\ttest: 0.7213350\tbest: 0.7227705 (33)\ttotal: 1m\tremaining: 4.92s\n",
            "37:\tlearn: 0.8441972\ttest: 0.7229499\tbest: 0.7229499 (37)\ttotal: 1m 2s\tremaining: 3.27s\n",
            "38:\tlearn: 0.8433448\ttest: 0.7227705\tbest: 0.7229499 (37)\ttotal: 1m 3s\tremaining: 1.63s\n",
            "39:\tlearn: 0.8435692\ttest: 0.7220528\tbest: 0.7229499 (37)\ttotal: 1m 5s\tremaining: 0us\n",
            "\n",
            "bestTest = 0.7229499372\n",
            "bestIteration = 37\n",
            "\n",
            "68:\tloss: 0.7229499\tbest: 0.7340750 (9)\ttotal: 8m 5s\tremaining: 2m 27s\n",
            "0:\tlearn: 0.7538020\ttest: 0.6841916\tbest: 0.6841916 (0)\ttotal: 1.45s\tremaining: 56.6s\n",
            "1:\tlearn: 0.8157552\ttest: 0.6958550\tbest: 0.6958550 (1)\ttotal: 2.98s\tremaining: 56.6s\n",
            "2:\tlearn: 0.8417298\ttest: 0.6945990\tbest: 0.6958550 (1)\ttotal: 5.22s\tremaining: 1m 4s\n",
            "3:\tlearn: 0.8605715\ttest: 0.6953167\tbest: 0.6958550 (1)\ttotal: 6.89s\tremaining: 1m 2s\n",
            "4:\tlearn: 0.8801759\ttest: 0.6919074\tbest: 0.6958550 (1)\ttotal: 8.39s\tremaining: 58.7s\n",
            "5:\tlearn: 0.8886995\ttest: 0.6915485\tbest: 0.6958550 (1)\ttotal: 9.87s\tremaining: 56s\n",
            "6:\tlearn: 0.8882957\ttest: 0.6945990\tbest: 0.6958550 (1)\ttotal: 9.89s\tremaining: 46.6s\n",
            "7:\tlearn: 0.9066439\ttest: 0.6937018\tbest: 0.6958550 (1)\ttotal: 11.4s\tremaining: 45.5s\n",
            "8:\tlearn: 0.9216276\ttest: 0.6884981\tbest: 0.6958550 (1)\ttotal: 12.9s\tremaining: 44.3s\n",
            "9:\tlearn: 0.9310484\ttest: 0.6865243\tbest: 0.6958550 (1)\ttotal: 14.4s\tremaining: 43.1s\n",
            "10:\tlearn: 0.9424431\ttest: 0.6874215\tbest: 0.6958550 (1)\ttotal: 15.9s\tremaining: 42s\n",
            "11:\tlearn: 0.9489929\ttest: 0.6876009\tbest: 0.6958550 (1)\ttotal: 18.1s\tremaining: 42.2s\n",
            "12:\tlearn: 0.9506079\ttest: 0.6881392\tbest: 0.6958550 (1)\ttotal: 19.8s\tremaining: 41.2s\n",
            "13:\tlearn: 0.9564847\ttest: 0.6877804\tbest: 0.6958550 (1)\ttotal: 21.3s\tremaining: 39.6s\n",
            "14:\tlearn: 0.9630344\ttest: 0.6881392\tbest: 0.6958550 (1)\ttotal: 22.8s\tremaining: 38.1s\n",
            "15:\tlearn: 0.9671168\ttest: 0.6893953\tbest: 0.6958550 (1)\ttotal: 24.4s\tremaining: 36.6s\n",
            "16:\tlearn: 0.9689112\ttest: 0.6899336\tbest: 0.6958550 (1)\ttotal: 25.9s\tremaining: 35s\n",
            "17:\tlearn: 0.9725001\ttest: 0.6940606\tbest: 0.6958550 (1)\ttotal: 27.4s\tremaining: 33.4s\n",
            "18:\tlearn: 0.9755507\ttest: 0.6924457\tbest: 0.6958550 (1)\ttotal: 28.9s\tremaining: 31.9s\n",
            "19:\tlearn: 0.9806648\ttest: 0.6892159\tbest: 0.6958550 (1)\ttotal: 31.1s\tremaining: 31.1s\n",
            "20:\tlearn: 0.9824144\ttest: 0.6881392\tbest: 0.6958550 (1)\ttotal: 32.8s\tremaining: 29.7s\n",
            "21:\tlearn: 0.9841640\ttest: 0.6893953\tbest: 0.6958550 (1)\ttotal: 34.3s\tremaining: 28.1s\n",
            "22:\tlearn: 0.9859585\ttest: 0.6886776\tbest: 0.6958550 (1)\ttotal: 35.8s\tremaining: 26.5s\n",
            "23:\tlearn: 0.9867660\ttest: 0.6893953\tbest: 0.6958550 (1)\ttotal: 37.3s\tremaining: 24.9s\n",
            "24:\tlearn: 0.9883810\ttest: 0.6899336\tbest: 0.6958550 (1)\ttotal: 38.8s\tremaining: 23.3s\n",
            "25:\tlearn: 0.9893230\ttest: 0.6883187\tbest: 0.6958550 (1)\ttotal: 40.3s\tremaining: 21.7s\n",
            "26:\tlearn: 0.9903997\ttest: 0.6865243\tbest: 0.6958550 (1)\ttotal: 41.9s\tremaining: 20.2s\n",
            "27:\tlearn: 0.9908932\ttest: 0.6881392\tbest: 0.6958550 (1)\ttotal: 44.2s\tremaining: 18.9s\n",
            "28:\tlearn: 0.9920147\ttest: 0.6879598\tbest: 0.6958550 (1)\ttotal: 45.8s\tremaining: 17.4s\n",
            "29:\tlearn: 0.9920147\ttest: 0.6906514\tbest: 0.6958550 (1)\ttotal: 47.3s\tremaining: 15.8s\n",
            "30:\tlearn: 0.9924633\ttest: 0.6906514\tbest: 0.6958550 (1)\ttotal: 48.8s\tremaining: 14.2s\n",
            "31:\tlearn: 0.9929568\ttest: 0.6910102\tbest: 0.6958550 (1)\ttotal: 50.3s\tremaining: 12.6s\n",
            "32:\tlearn: 0.9941232\ttest: 0.6906514\tbest: 0.6958550 (1)\ttotal: 51.8s\tremaining: 11s\n",
            "33:\tlearn: 0.9940783\ttest: 0.6899336\tbest: 0.6958550 (1)\ttotal: 53.3s\tremaining: 9.4s\n",
            "34:\tlearn: 0.9942578\ttest: 0.6892159\tbest: 0.6958550 (1)\ttotal: 54.8s\tremaining: 7.83s\n",
            "35:\tlearn: 0.9946167\ttest: 0.6901130\tbest: 0.6958550 (1)\ttotal: 57.2s\tremaining: 6.35s\n",
            "36:\tlearn: 0.9946615\ttest: 0.6895747\tbest: 0.6958550 (1)\ttotal: 58.7s\tremaining: 4.76s\n",
            "37:\tlearn: 0.9950653\ttest: 0.6888570\tbest: 0.6958550 (1)\ttotal: 1m\tremaining: 3.17s\n",
            "38:\tlearn: 0.9951550\ttest: 0.6911897\tbest: 0.6958550 (1)\ttotal: 1m 1s\tremaining: 1.58s\n",
            "39:\tlearn: 0.9954242\ttest: 0.6926252\tbest: 0.6958550 (1)\ttotal: 1m 3s\tremaining: 0us\n",
            "\n",
            "bestTest = 0.6958550153\n",
            "bestIteration = 1\n",
            "\n",
            "69:\tloss: 0.6958550\tbest: 0.7340750 (9)\ttotal: 9m 8s\tremaining: 2m 36s\n",
            "0:\tlearn: 0.7538020\ttest: 0.6841916\tbest: 0.6841916 (0)\ttotal: 1.45s\tremaining: 56.5s\n",
            "1:\tlearn: 0.7832758\ttest: 0.7012381\tbest: 0.7012381 (1)\ttotal: 2.94s\tremaining: 55.8s\n",
            "2:\tlearn: 0.7970481\ttest: 0.7060829\tbest: 0.7060829 (2)\ttotal: 4.48s\tremaining: 55.2s\n",
            "3:\tlearn: 0.8012202\ttest: 0.7136192\tbest: 0.7136192 (3)\ttotal: 6.71s\tremaining: 1m\n",
            "4:\tlearn: 0.7987529\ttest: 0.7161313\tbest: 0.7161313 (4)\ttotal: 8.27s\tremaining: 57.9s\n",
            "5:\tlearn: 0.8086672\ttest: 0.7136192\tbest: 0.7161313 (4)\ttotal: 9.75s\tremaining: 55.3s\n",
            "6:\tlearn: 0.8164730\ttest: 0.7163108\tbest: 0.7163108 (6)\ttotal: 11.2s\tremaining: 53s\n",
            "7:\tlearn: 0.8269705\ttest: 0.7121837\tbest: 0.7163108 (6)\ttotal: 12.7s\tremaining: 51s\n",
            "8:\tlearn: 0.8379615\ttest: 0.7190023\tbest: 0.7190023 (8)\ttotal: 14.3s\tremaining: 49.1s\n",
            "9:\tlearn: 0.8384550\ttest: 0.7191818\tbest: 0.7191818 (9)\ttotal: 15.8s\tremaining: 47.4s\n",
            "10:\tlearn: 0.8446458\ttest: 0.7213350\tbest: 0.7213350 (10)\ttotal: 17.4s\tremaining: 45.9s\n",
            "11:\tlearn: 0.8467094\ttest: 0.7207967\tbest: 0.7213350 (10)\ttotal: 19.6s\tremaining: 45.8s\n",
            "12:\tlearn: 0.8521825\ttest: 0.7179257\tbest: 0.7213350 (10)\ttotal: 21.2s\tremaining: 44s\n",
            "13:\tlearn: 0.8537526\ttest: 0.7179257\tbest: 0.7213350 (10)\ttotal: 22.7s\tremaining: 42.2s\n",
            "14:\tlearn: 0.8546947\ttest: 0.7204378\tbest: 0.7213350 (10)\ttotal: 24.2s\tremaining: 40.3s\n",
            "15:\tlearn: 0.8578350\ttest: 0.7216939\tbest: 0.7216939 (15)\ttotal: 25.7s\tremaining: 38.6s\n",
            "16:\tlearn: 0.8587771\ttest: 0.7190023\tbest: 0.7216939 (15)\ttotal: 27.2s\tremaining: 36.8s\n",
            "17:\tlearn: 0.8581490\ttest: 0.7181051\tbest: 0.7216939 (15)\ttotal: 28.7s\tremaining: 35.1s\n",
            "18:\tlearn: 0.8645642\ttest: 0.7177463\tbest: 0.7216939 (15)\ttotal: 30.4s\tremaining: 33.6s\n",
            "19:\tlearn: 0.8668072\ttest: 0.7177463\tbest: 0.7216939 (15)\ttotal: 32.7s\tremaining: 32.7s\n",
            "20:\tlearn: 0.8683325\ttest: 0.7191818\tbest: 0.7216939 (15)\ttotal: 34.2s\tremaining: 30.9s\n",
            "21:\tlearn: 0.8751514\ttest: 0.7213350\tbest: 0.7216939 (15)\ttotal: 35.7s\tremaining: 29.2s\n",
            "22:\tlearn: 0.8770804\ttest: 0.7213350\tbest: 0.7216939 (15)\ttotal: 37.2s\tremaining: 27.5s\n",
            "23:\tlearn: 0.8791440\ttest: 0.7209761\tbest: 0.7216939 (15)\ttotal: 38.7s\tremaining: 25.8s\n",
            "24:\tlearn: 0.8814768\ttest: 0.7198995\tbest: 0.7216939 (15)\ttotal: 40.2s\tremaining: 24.1s\n",
            "25:\tlearn: 0.8826881\ttest: 0.7209761\tbest: 0.7216939 (15)\ttotal: 41.7s\tremaining: 22.5s\n",
            "26:\tlearn: 0.8844377\ttest: 0.7200790\tbest: 0.7216939 (15)\ttotal: 43.4s\tremaining: 20.9s\n",
            "27:\tlearn: 0.8852900\ttest: 0.7216939\tbest: 0.7216939 (15)\ttotal: 45.6s\tremaining: 19.5s\n",
            "28:\tlearn: 0.8861873\ttest: 0.7222322\tbest: 0.7222322 (28)\ttotal: 47.1s\tremaining: 17.9s\n",
            "29:\tlearn: 0.8882957\ttest: 0.7216939\tbest: 0.7222322 (28)\ttotal: 48.6s\tremaining: 16.2s\n",
            "30:\tlearn: 0.8900453\ttest: 0.7213350\tbest: 0.7222322 (28)\ttotal: 50.1s\tremaining: 14.5s\n",
            "31:\tlearn: 0.8916155\ttest: 0.7211556\tbest: 0.7222322 (28)\ttotal: 51.5s\tremaining: 12.9s\n",
            "32:\tlearn: 0.8911668\ttest: 0.7216939\tbest: 0.7222322 (28)\ttotal: 53s\tremaining: 11.2s\n",
            "33:\tlearn: 0.8932753\ttest: 0.7200790\tbest: 0.7222322 (28)\ttotal: 54.5s\tremaining: 9.62s\n",
            "34:\tlearn: 0.8959670\ttest: 0.7206173\tbest: 0.7222322 (28)\ttotal: 56.2s\tremaining: 8.03s\n",
            "35:\tlearn: 0.8965502\ttest: 0.7209761\tbest: 0.7222322 (28)\ttotal: 58.4s\tremaining: 6.49s\n",
            "36:\tlearn: 0.8986138\ttest: 0.7229499\tbest: 0.7229499 (36)\ttotal: 60s\tremaining: 4.86s\n",
            "37:\tlearn: 0.8994213\ttest: 0.7216939\tbest: 0.7229499 (36)\ttotal: 1m 1s\tremaining: 3.24s\n",
            "38:\tlearn: 0.9019335\ttest: 0.7209761\tbest: 0.7229499 (36)\ttotal: 1m 3s\tremaining: 1.61s\n",
            "39:\tlearn: 0.9033242\ttest: 0.7207967\tbest: 0.7229499 (36)\ttotal: 1m 4s\tremaining: 0us\n",
            "\n",
            "bestTest = 0.7229499372\n",
            "bestIteration = 36\n",
            "\n",
            "70:\tloss: 0.7229499\tbest: 0.7340750 (9)\ttotal: 10m 13s\tremaining: 2m 44s\n",
            "0:\tlearn: 0.7538020\ttest: 0.6841916\tbest: 0.6841916 (0)\ttotal: 1.45s\tremaining: 56.7s\n",
            "1:\tlearn: 0.7821094\ttest: 0.7003409\tbest: 0.7003409 (1)\ttotal: 2.97s\tremaining: 56.5s\n",
            "2:\tlearn: 0.7911713\ttest: 0.7064418\tbest: 0.7064418 (2)\ttotal: 4.7s\tremaining: 57.9s\n",
            "3:\tlearn: 0.7917994\ttest: 0.7094922\tbest: 0.7094922 (3)\ttotal: 6.91s\tremaining: 1m 2s\n",
            "4:\tlearn: 0.7931901\ttest: 0.7094922\tbest: 0.7094922 (3)\ttotal: 8.39s\tremaining: 58.7s\n",
            "5:\tlearn: 0.8004127\ttest: 0.7066212\tbest: 0.7094922 (3)\ttotal: 9.9s\tremaining: 56.1s\n",
            "6:\tlearn: 0.8040465\ttest: 0.7121837\tbest: 0.7121837 (6)\ttotal: 11.5s\tremaining: 54s\n",
            "7:\tlearn: 0.8108654\ttest: 0.7155930\tbest: 0.7155930 (7)\ttotal: 13.8s\tremaining: 55.1s\n",
            "8:\tlearn: 0.8137365\ttest: 0.7139781\tbest: 0.7155930 (7)\ttotal: 15.3s\tremaining: 52.8s\n",
            "9:\tlearn: 0.8172357\ttest: 0.7163108\tbest: 0.7163108 (9)\ttotal: 16.9s\tremaining: 50.8s\n",
            "10:\tlearn: 0.8218564\ttest: 0.7191818\tbest: 0.7191818 (10)\ttotal: 19.3s\tremaining: 50.9s\n",
            "11:\tlearn: 0.8156655\ttest: 0.7209761\tbest: 0.7209761 (11)\ttotal: 19.3s\tremaining: 45.1s\n",
            "12:\tlearn: 0.8102373\ttest: 0.7240266\tbest: 0.7240266 (12)\ttotal: 19.4s\tremaining: 40.2s\n",
            "13:\tlearn: 0.8117626\ttest: 0.7211556\tbest: 0.7240266 (12)\ttotal: 20.9s\tremaining: 38.7s\n",
            "14:\tlearn: 0.8138711\ttest: 0.7229499\tbest: 0.7240266 (12)\ttotal: 22.4s\tremaining: 37.3s\n",
            "15:\tlearn: 0.8129290\ttest: 0.7207967\tbest: 0.7240266 (12)\ttotal: 23.9s\tremaining: 35.8s\n",
            "16:\tlearn: 0.8158450\ttest: 0.7206173\tbest: 0.7240266 (12)\ttotal: 25.4s\tremaining: 34.3s\n",
            "17:\tlearn: 0.8179086\ttest: 0.7209761\tbest: 0.7240266 (12)\ttotal: 26.9s\tremaining: 32.8s\n",
            "18:\tlearn: 0.8192544\ttest: 0.7213350\tbest: 0.7240266 (12)\ttotal: 28.4s\tremaining: 31.4s\n",
            "19:\tlearn: 0.8207348\ttest: 0.7206173\tbest: 0.7240266 (12)\ttotal: 30s\tremaining: 30s\n",
            "20:\tlearn: 0.8228882\ttest: 0.7182846\tbest: 0.7240266 (12)\ttotal: 32.3s\tremaining: 29.2s\n",
            "21:\tlearn: 0.8242789\ttest: 0.7200790\tbest: 0.7240266 (12)\ttotal: 33.8s\tremaining: 27.7s\n",
            "22:\tlearn: 0.8277780\ttest: 0.7163108\tbest: 0.7240266 (12)\ttotal: 35.3s\tremaining: 26.1s\n",
            "23:\tlearn: 0.8300211\ttest: 0.7172080\tbest: 0.7240266 (12)\ttotal: 36.8s\tremaining: 24.6s\n",
            "24:\tlearn: 0.8304248\ttest: 0.7173874\tbest: 0.7240266 (12)\ttotal: 38.4s\tremaining: 23s\n",
            "25:\tlearn: 0.8303800\ttest: 0.7186435\tbest: 0.7240266 (12)\ttotal: 39.8s\tremaining: 21.5s\n",
            "26:\tlearn: 0.8315912\ttest: 0.7175668\tbest: 0.7240266 (12)\ttotal: 41.4s\tremaining: 19.9s\n",
            "27:\tlearn: 0.8335203\ttest: 0.7181051\tbest: 0.7240266 (12)\ttotal: 43.1s\tremaining: 18.5s\n",
            "28:\tlearn: 0.8378718\ttest: 0.7177463\tbest: 0.7240266 (12)\ttotal: 45.3s\tremaining: 17.2s\n",
            "29:\tlearn: 0.8385896\ttest: 0.7179257\tbest: 0.7240266 (12)\ttotal: 46.8s\tremaining: 15.6s\n",
            "30:\tlearn: 0.8385447\ttest: 0.7184640\tbest: 0.7240266 (12)\ttotal: 48.3s\tremaining: 14s\n",
            "31:\tlearn: 0.8387690\ttest: 0.7179257\tbest: 0.7240266 (12)\ttotal: 49.8s\tremaining: 12.4s\n",
            "32:\tlearn: 0.8382755\ttest: 0.7193612\tbest: 0.7240266 (12)\ttotal: 51.3s\tremaining: 10.9s\n",
            "33:\tlearn: 0.8378269\ttest: 0.7191818\tbest: 0.7240266 (12)\ttotal: 52.7s\tremaining: 9.31s\n",
            "34:\tlearn: 0.8393073\ttest: 0.7186435\tbest: 0.7240266 (12)\ttotal: 54.2s\tremaining: 7.75s\n",
            "35:\tlearn: 0.8402046\ttest: 0.7170285\tbest: 0.7240266 (12)\ttotal: 56s\tremaining: 6.22s\n",
            "36:\tlearn: 0.8410569\ttest: 0.7163108\tbest: 0.7240266 (12)\ttotal: 58.2s\tremaining: 4.72s\n",
            "37:\tlearn: 0.8408775\ttest: 0.7182846\tbest: 0.7240266 (12)\ttotal: 59.7s\tremaining: 3.14s\n",
            "38:\tlearn: 0.8412812\ttest: 0.7175668\tbest: 0.7240266 (12)\ttotal: 1m 1s\tremaining: 1.57s\n",
            "39:\tlearn: 0.8407429\ttest: 0.7186435\tbest: 0.7240266 (12)\ttotal: 1m 2s\tremaining: 0us\n",
            "\n",
            "bestTest = 0.7240265566\n",
            "bestIteration = 12\n",
            "\n",
            "71:\tloss: 0.7240266\tbest: 0.7340750 (9)\ttotal: 11m 15s\tremaining: 2m 48s\n",
            "Estimating final quality...\n",
            "Training on fold [0/3]\n",
            "0:\tlearn: 0.6892765\ttest: 0.6983204\tbest: 0.6983204 (0)\ttotal: 6.24ms\tremaining: 119ms\n",
            "1:\tlearn: 0.7020887\ttest: 0.7091947\tbest: 0.7091947 (1)\ttotal: 12.9ms\tremaining: 116ms\n",
            "2:\tlearn: 0.7171619\ttest: 0.7227606\tbest: 0.7227606 (2)\ttotal: 18.6ms\tremaining: 105ms\n",
            "3:\tlearn: 0.7225991\ttest: 0.7251292\tbest: 0.7251292 (3)\ttotal: 24.7ms\tremaining: 98.9ms\n",
            "4:\tlearn: 0.7257214\ttest: 0.7297588\tbest: 0.7297588 (4)\ttotal: 30.9ms\tremaining: 92.7ms\n",
            "5:\tlearn: 0.7291128\ttest: 0.7336348\tbest: 0.7336348 (5)\ttotal: 36.9ms\tremaining: 86.1ms\n",
            "6:\tlearn: 0.7320198\ttest: 0.7344961\tbest: 0.7344961 (6)\ttotal: 42.7ms\tremaining: 79.2ms\n",
            "7:\tlearn: 0.7334195\ttest: 0.7349268\tbest: 0.7349268 (7)\ttotal: 48.8ms\tremaining: 73.3ms\n",
            "8:\tlearn: 0.7339040\ttest: 0.7329888\tbest: 0.7349268 (7)\ttotal: 56.8ms\tremaining: 69.4ms\n",
            "9:\tlearn: 0.7342270\ttest: 0.7355728\tbest: 0.7355728 (9)\ttotal: 62.8ms\tremaining: 62.8ms\n",
            "10:\tlearn: 0.7362188\ttest: 0.7364341\tbest: 0.7364341 (10)\ttotal: 67.8ms\tremaining: 55.5ms\n",
            "11:\tlearn: 0.7381568\ttest: 0.7380491\tbest: 0.7380491 (11)\ttotal: 73.5ms\tremaining: 49ms\n",
            "12:\tlearn: 0.7389104\ttest: 0.7369724\tbest: 0.7380491 (11)\ttotal: 79.5ms\tremaining: 42.8ms\n",
            "13:\tlearn: 0.7408484\ttest: 0.7388028\tbest: 0.7388028 (13)\ttotal: 85.6ms\tremaining: 36.7ms\n",
            "14:\tlearn: 0.7417636\ttest: 0.7389104\tbest: 0.7389104 (14)\ttotal: 93.8ms\tremaining: 31.3ms\n",
            "15:\tlearn: 0.7407407\ttest: 0.7378338\tbest: 0.7389104 (14)\ttotal: 99.8ms\tremaining: 25ms\n",
            "16:\tlearn: 0.7418174\ttest: 0.7364341\tbest: 0.7389104 (14)\ttotal: 106ms\tremaining: 18.7ms\n",
            "17:\tlearn: 0.7424634\ttest: 0.7363264\tbest: 0.7389104 (14)\ttotal: 112ms\tremaining: 12.4ms\n",
            "18:\tlearn: 0.7425711\ttest: 0.7365418\tbest: 0.7389104 (14)\ttotal: 118ms\tremaining: 6.2ms\n",
            "19:\tlearn: 0.7433786\ttest: 0.7351421\tbest: 0.7389104 (14)\ttotal: 126ms\tremaining: 0us\n",
            "\n",
            "bestTest = 0.738910422\n",
            "bestIteration = 14\n",
            "\n",
            "Training on fold [1/3]\n",
            "0:\tlearn: 0.6932601\ttest: 0.6903531\tbest: 0.6903531 (0)\ttotal: 5.83ms\tremaining: 111ms\n",
            "1:\tlearn: 0.7086563\ttest: 0.7073643\tbest: 0.7073643 (1)\ttotal: 11.9ms\tremaining: 107ms\n",
            "2:\tlearn: 0.7155469\ttest: 0.7157623\tbest: 0.7157623 (2)\ttotal: 18.2ms\tremaining: 103ms\n",
            "3:\tlearn: 0.7278208\ttest: 0.7269595\tbest: 0.7269595 (3)\ttotal: 24.1ms\tremaining: 96.5ms\n",
            "4:\tlearn: 0.7290052\ttest: 0.7262059\tbest: 0.7269595 (3)\ttotal: 30.3ms\tremaining: 90.9ms\n",
            "5:\tlearn: 0.7316968\ttest: 0.7282515\tbest: 0.7282515 (5)\ttotal: 36ms\tremaining: 83.9ms\n",
            "6:\tlearn: 0.7338501\ttest: 0.7271748\tbest: 0.7282515 (5)\ttotal: 42.2ms\tremaining: 78.4ms\n",
            "7:\tlearn: 0.7375646\ttest: 0.7328811\tbest: 0.7328811 (7)\ttotal: 47.8ms\tremaining: 71.7ms\n",
            "8:\tlearn: 0.7373493\ttest: 0.7333118\tbest: 0.7333118 (8)\ttotal: 54ms\tremaining: 66ms\n",
            "9:\tlearn: 0.7392873\ttest: 0.7330965\tbest: 0.7333118 (8)\ttotal: 60ms\tremaining: 60ms\n",
            "10:\tlearn: 0.7392873\ttest: 0.7324505\tbest: 0.7333118 (8)\ttotal: 65.9ms\tremaining: 53.9ms\n",
            "11:\tlearn: 0.7396641\ttest: 0.7344961\tbest: 0.7344961 (11)\ttotal: 71.8ms\tremaining: 47.9ms\n",
            "12:\tlearn: 0.7413329\ttest: 0.7336348\tbest: 0.7344961 (11)\ttotal: 77.8ms\tremaining: 41.9ms\n",
            "13:\tlearn: 0.7412791\ttest: 0.7342808\tbest: 0.7344961 (11)\ttotal: 83.8ms\tremaining: 35.9ms\n",
            "14:\tlearn: 0.7416559\ttest: 0.7330965\tbest: 0.7344961 (11)\ttotal: 90.1ms\tremaining: 30ms\n",
            "15:\tlearn: 0.7428402\ttest: 0.7312661\tbest: 0.7344961 (11)\ttotal: 96.3ms\tremaining: 24.1ms\n",
            "16:\tlearn: 0.7456934\ttest: 0.7327735\tbest: 0.7344961 (11)\ttotal: 102ms\tremaining: 18.1ms\n",
            "17:\tlearn: 0.7459087\ttest: 0.7319121\tbest: 0.7344961 (11)\ttotal: 109ms\tremaining: 12.1ms\n",
            "18:\tlearn: 0.7459625\ttest: 0.7320198\tbest: 0.7344961 (11)\ttotal: 115ms\tremaining: 6.03ms\n",
            "19:\tlearn: 0.7469854\ttest: 0.7332041\tbest: 0.7344961 (11)\ttotal: 120ms\tremaining: 0us\n",
            "\n",
            "bestTest = 0.734496124\n",
            "bestIteration = 11\n",
            "\n",
            "Training on fold [2/3]\n",
            "0:\tlearn: 0.6943368\ttest: 0.6881998\tbest: 0.6881998 (0)\ttotal: 8.38ms\tremaining: 159ms\n",
            "1:\tlearn: 0.7125861\ttest: 0.7075797\tbest: 0.7075797 (1)\ttotal: 14.2ms\tremaining: 128ms\n",
            "2:\tlearn: 0.7210917\ttest: 0.7109173\tbest: 0.7109173 (2)\ttotal: 19.9ms\tremaining: 113ms\n",
            "3:\tlearn: 0.7271748\ttest: 0.7142550\tbest: 0.7142550 (3)\ttotal: 27ms\tremaining: 108ms\n",
            "4:\tlearn: 0.7321813\ttest: 0.7181309\tbest: 0.7181309 (4)\ttotal: 33.4ms\tremaining: 100ms\n",
            "5:\tlearn: 0.7346038\ttest: 0.7209302\tbest: 0.7209302 (5)\ttotal: 39.6ms\tremaining: 92.4ms\n",
            "6:\tlearn: 0.7362726\ttest: 0.7201766\tbest: 0.7209302 (5)\ttotal: 45.3ms\tremaining: 84ms\n",
            "7:\tlearn: 0.7394488\ttest: 0.7222222\tbest: 0.7222222 (7)\ttotal: 52.1ms\tremaining: 78.1ms\n",
            "8:\tlearn: 0.7386951\ttest: 0.7251292\tbest: 0.7251292 (8)\ttotal: 57.9ms\tremaining: 70.8ms\n",
            "9:\tlearn: 0.7403639\ttest: 0.7252369\tbest: 0.7252369 (9)\ttotal: 64.1ms\tremaining: 64.1ms\n",
            "10:\tlearn: 0.7399332\ttest: 0.7266365\tbest: 0.7266365 (10)\ttotal: 69.4ms\tremaining: 56.8ms\n",
            "11:\tlearn: 0.7423019\ttest: 0.7286822\tbest: 0.7286822 (11)\ttotal: 74.9ms\tremaining: 50ms\n",
            "12:\tlearn: 0.7433247\ttest: 0.7291128\tbest: 0.7291128 (12)\ttotal: 81ms\tremaining: 43.6ms\n",
            "13:\tlearn: 0.7436477\ttest: 0.7321275\tbest: 0.7321275 (13)\ttotal: 86.4ms\tremaining: 37ms\n",
            "14:\tlearn: 0.7462317\ttest: 0.7306202\tbest: 0.7321275 (13)\ttotal: 92.4ms\tremaining: 30.8ms\n",
            "15:\tlearn: 0.7472545\ttest: 0.7299742\tbest: 0.7321275 (13)\ttotal: 98.5ms\tremaining: 24.6ms\n",
            "16:\tlearn: 0.7473622\ttest: 0.7280362\tbest: 0.7321275 (13)\ttotal: 105ms\tremaining: 18.5ms\n",
            "17:\tlearn: 0.7486542\ttest: 0.7299742\tbest: 0.7321275 (13)\ttotal: 111ms\tremaining: 12.3ms\n",
            "18:\tlearn: 0.7497308\ttest: 0.7295435\tbest: 0.7321275 (13)\ttotal: 117ms\tremaining: 6.15ms\n",
            "19:\tlearn: 0.7502692\ttest: 0.7283592\tbest: 0.7321275 (13)\ttotal: 133ms\tremaining: 0us\n",
            "\n",
            "bestTest = 0.7321274763\n",
            "bestIteration = 13\n",
            "\n"
          ]
        },
        {
          "output_type": "execute_result",
          "data": {
            "text/plain": [
              "{'params': {'depth': 4,\n",
              "  'learning_rate': 1,\n",
              "  'l2_leaf_reg': 5,\n",
              "  'iterations': 20},\n",
              " 'cv_results': defaultdict(list,\n",
              "             {'iterations': [0,\n",
              "               1,\n",
              "               2,\n",
              "               3,\n",
              "               4,\n",
              "               5,\n",
              "               6,\n",
              "               7,\n",
              "               8,\n",
              "               9,\n",
              "               10,\n",
              "               11,\n",
              "               12,\n",
              "               13,\n",
              "               14,\n",
              "               15,\n",
              "               16,\n",
              "               17,\n",
              "               18,\n",
              "               19],\n",
              "              'test-Accuracy-mean': [0.69229112833764,\n",
              "               0.7080462245190927,\n",
              "               0.7164800459374102,\n",
              "               0.7221145564168819,\n",
              "               0.7246985357450474,\n",
              "               0.7276055124892334,\n",
              "               0.7272825150732128,\n",
              "               0.7300100488084985,\n",
              "               0.7304766006316393,\n",
              "               0.7313020384725811,\n",
              "               0.7318403674992823,\n",
              "               0.7337424633936261,\n",
              "               0.7332400229687052,\n",
              "               0.7350703416594889,\n",
              "               0.7342090152167672,\n",
              "               0.7330246913580246,\n",
              "               0.7324145851277635,\n",
              "               0.7327375825437841,\n",
              "               0.732701693942004,\n",
              "               0.7322351421188631],\n",
              "              'test-Accuracy-std': [0.0053313602080706035,\n",
              "               0.0010003847161043657,\n",
              "               0.005954155908353815,\n",
              "               0.006867863235924649,\n",
              "               0.005958696857029176,\n",
              "               0.0063768703251339065,\n",
              "               0.007160383167384893,\n",
              "               0.006821572655363487,\n",
              "               0.0046338008437648995,\n",
              "               0.00539655271277741,\n",
              "               0.00492720572580946,\n",
              "               0.0047287233540047255,\n",
              "               0.003944645507964076,\n",
              "               0.003406960748293353,\n",
              "               0.004255637651892427,\n",
              "               0.004214581124503035,\n",
              "               0.004210453452788521,\n",
              "               0.0032555927278715676,\n",
              "               0.0035486187763373845,\n",
              "               0.003493751235914724],\n",
              "              'train-Accuracy-mean': [0.69229112833764,\n",
              "               0.7077770600057421,\n",
              "               0.7179335343095032,\n",
              "               0.7258649153028999,\n",
              "               0.7289692793568762,\n",
              "               0.7318044788975021,\n",
              "               0.7340475165087569,\n",
              "               0.7368109388458226,\n",
              "               0.7366494401378122,\n",
              "               0.7379593741027849,\n",
              "               0.738479758828596,\n",
              "               0.7400409130060294,\n",
              "               0.7411893482629917,\n",
              "               0.7419250645994833,\n",
              "               0.743217054263566,\n",
              "               0.7436118288831466,\n",
              "               0.7449576514498996,\n",
              "               0.7456754234855011,\n",
              "               0.7460881424059718,\n",
              "               0.7468776916451335],\n",
              "              'train-Accuracy-std': [0.002665680104035292,\n",
              "               0.005303656621444572,\n",
              "               0.0028517892330875276,\n",
              "               0.002846703710584393,\n",
              "               0.0032301236925861383,\n",
              "               0.002747060900554051,\n",
              "               0.0021332596671127775,\n",
              "               0.0030844890936211878,\n",
              "               0.002471041648907928,\n",
              "               0.003276886802659641,\n",
              "               0.0019845293487475075,\n",
              "               0.002098102419240434,\n",
              "               0.002210647563696548,\n",
              "               0.001507321274763115,\n",
              "               0.0026113119801108894,\n",
              "               0.003324735642291389,\n",
              "               0.0028446669559397415,\n",
              "               0.0031019774780996533,\n",
              "               0.0035815404107695323,\n",
              "               0.0034465672486023377],\n",
              "              'test-Logloss-mean': [0.5616506468399277,\n",
              "               0.5445070710615234,\n",
              "               0.5373153368125353,\n",
              "               0.5318845491653889,\n",
              "               0.5300051446938016,\n",
              "               0.5275755260814589,\n",
              "               0.526878342808607,\n",
              "               0.5263783873827407,\n",
              "               0.5258463554745831,\n",
              "               0.5255145258253645,\n",
              "               0.5242899661503259,\n",
              "               0.5234647970762258,\n",
              "               0.5231648021097591,\n",
              "               0.5224583783747567,\n",
              "               0.5222791823644619,\n",
              "               0.5234831313637232,\n",
              "               0.5235088658464102,\n",
              "               0.5238006578612603,\n",
              "               0.5242079837488274,\n",
              "               0.5241778420826819],\n",
              "              'test-Logloss-std': [0.005034863860888761,\n",
              "               0.0058856929410565015,\n",
              "               0.0052751076464173175,\n",
              "               0.004875341629022601,\n",
              "               0.00488969426072181,\n",
              "               0.005363914111662234,\n",
              "               0.0052902876068517575,\n",
              "               0.004691923601279876,\n",
              "               0.004377234355471052,\n",
              "               0.004199880304274502,\n",
              "               0.0035894075617642143,\n",
              "               0.003508160835769415,\n",
              "               0.0033823082210485606,\n",
              "               0.00326800462273911,\n",
              "               0.0031442591607243244,\n",
              "               0.0034354112652841464,\n",
              "               0.0036803638604683796,\n",
              "               0.0039049232279424933,\n",
              "               0.003168571455329192,\n",
              "               0.0038982865876846496],\n",
              "              'train-Logloss-mean': [0.5607188685317966,\n",
              "               0.5425743994052528,\n",
              "               0.5339042987809967,\n",
              "               0.5280717287146627,\n",
              "               0.5248378052778659,\n",
              "               0.5219404074318018,\n",
              "               0.5196731074759464,\n",
              "               0.518082276085298,\n",
              "               0.5164854974986756,\n",
              "               0.515192173689572,\n",
              "               0.5133628257546196,\n",
              "               0.5119050344615493,\n",
              "               0.5105371054519523,\n",
              "               0.5091161831620106,\n",
              "               0.5082849408216917,\n",
              "               0.5071795957202286,\n",
              "               0.5058524408429008,\n",
              "               0.5049027860555168,\n",
              "               0.5039158650199377,\n",
              "               0.5031386980576733],\n",
              "              'train-Logloss-std': [0.00271858002778501,\n",
              "               0.0034014303852583686,\n",
              "               0.00306543774007209,\n",
              "               0.0030097692035181067,\n",
              "               0.0036095395016678467,\n",
              "               0.003215449719486536,\n",
              "               0.0023574662761303754,\n",
              "               0.0024161143426068552,\n",
              "               0.002817870440168868,\n",
              "               0.002791584169264183,\n",
              "               0.0027303729823778705,\n",
              "               0.0023769121250842794,\n",
              "               0.002229581511296263,\n",
              "               0.0021740046842186494,\n",
              "               0.0021322530252729536,\n",
              "               0.0023063263017210813,\n",
              "               0.002134003786196937,\n",
              "               0.002357209871099704,\n",
              "               0.0025183302283432914,\n",
              "               0.00242724581421191]})}"
            ]
          },
          "metadata": {},
          "execution_count": 33
        }
      ]
    },
    {
      "cell_type": "code",
      "source": [
        "clf3.get_params()"
      ],
      "metadata": {
        "colab": {
          "base_uri": "https://localhost:8080/"
        },
        "id": "W7ybSaF9pOxj",
        "outputId": "a984793b-c2a1-4265-ee40-2c9855326040"
      },
      "execution_count": 34,
      "outputs": [
        {
          "output_type": "execute_result",
          "data": {
            "text/plain": [
              "{'iterations': 20,\n",
              " 'learning_rate': 1,\n",
              " 'depth': 4,\n",
              " 'loss_function': 'Logloss',\n",
              " 'custom_loss': ['Accuracy'],\n",
              " 'eval_metric': 'Accuracy',\n",
              " 'random_state': 42,\n",
              " 'l2_leaf_reg': 5}"
            ]
          },
          "metadata": {},
          "execution_count": 34
        }
      ]
    },
    {
      "cell_type": "code",
      "source": [
        "# Fit model\n",
        "clf3.fit(X_train, y_train, cat_features=cat_features)\n",
        "y_pred3 = clf3.predict(X_test)"
      ],
      "metadata": {
        "id": "olI1OVrNigt1",
        "colab": {
          "base_uri": "https://localhost:8080/"
        },
        "outputId": "008ec391-3d5e-4c73-8f63-bbd379aa0c72"
      },
      "execution_count": 35,
      "outputs": [
        {
          "output_type": "stream",
          "name": "stdout",
          "text": [
            "0:\tlearn: 0.6952699\ttotal: 7.04ms\tremaining: 134ms\n",
            "1:\tlearn: 0.7156905\ttotal: 14.4ms\tremaining: 129ms\n",
            "2:\tlearn: 0.7233707\ttotal: 21.4ms\tremaining: 121ms\n",
            "3:\tlearn: 0.7228682\ttotal: 28ms\tremaining: 112ms\n",
            "4:\tlearn: 0.7250215\ttotal: 34.9ms\tremaining: 105ms\n",
            "5:\tlearn: 0.7289334\ttotal: 41.7ms\tremaining: 97.3ms\n",
            "6:\tlearn: 0.7316968\ttotal: 48.7ms\tremaining: 90.4ms\n",
            "7:\tlearn: 0.7337425\ttotal: 55ms\tremaining: 82.5ms\n",
            "8:\tlearn: 0.7341731\ttotal: 61.4ms\tremaining: 75.1ms\n",
            "9:\tlearn: 0.7347473\ttotal: 67.6ms\tremaining: 67.6ms\n",
            "10:\tlearn: 0.7356446\ttotal: 74ms\tremaining: 60.5ms\n",
            "11:\tlearn: 0.7378697\ttotal: 80.8ms\tremaining: 53.9ms\n",
            "12:\tlearn: 0.7383721\ttotal: 87.3ms\tremaining: 47ms\n",
            "13:\tlearn: 0.7394846\ttotal: 94.2ms\tremaining: 40.4ms\n",
            "14:\tlearn: 0.7403101\ttotal: 101ms\tremaining: 33.7ms\n",
            "15:\tlearn: 0.7400947\ttotal: 108ms\tremaining: 26.9ms\n",
            "16:\tlearn: 0.7407766\ttotal: 116ms\tremaining: 20.4ms\n",
            "17:\tlearn: 0.7413150\ttotal: 122ms\tremaining: 13.6ms\n",
            "18:\tlearn: 0.7416021\ttotal: 129ms\tremaining: 6.8ms\n",
            "19:\tlearn: 0.7425352\ttotal: 136ms\tremaining: 0us\n"
          ]
        }
      ]
    },
    {
      "cell_type": "code",
      "source": [
        "print(classification_report(y_test, y_pred3))"
      ],
      "metadata": {
        "colab": {
          "base_uri": "https://localhost:8080/"
        },
        "id": "RsLu-H_QjkDF",
        "outputId": "2a1133ea-973c-4cdf-b000-8d79384286a7"
      },
      "execution_count": 36,
      "outputs": [
        {
          "output_type": "stream",
          "name": "stdout",
          "text": [
            "              precision    recall  f1-score   support\n",
            "\n",
            "           0       0.73      0.76      0.74      5971\n",
            "           1       0.75      0.72      0.73      5971\n",
            "\n",
            "    accuracy                           0.74     11942\n",
            "   macro avg       0.74      0.74      0.74     11942\n",
            "weighted avg       0.74      0.74      0.74     11942\n",
            "\n"
          ]
        }
      ]
    },
    {
      "cell_type": "code",
      "source": [
        "matriz_confusao(y_test, y_pred3)"
      ],
      "metadata": {
        "colab": {
          "base_uri": "https://localhost:8080/",
          "height": 352
        },
        "id": "pCK_czwZigoB",
        "outputId": "04b1fe9f-27c7-4dc1-af62-d2096e523e04"
      },
      "execution_count": 37,
      "outputs": [
        {
          "output_type": "display_data",
          "data": {
            "text/plain": [
              "<Figure size 800x300 with 4 Axes>"
            ],
            "image/png": "[encoded data removed]"
          },
          "metadata": {}
        }
      ]
    },
    {
      "cell_type": "code",
      "source": [
        "curva_ROC(y_test, y_pred3, clf3)"
      ],
      "metadata": {
        "colab": {
          "base_uri": "https://localhost:8080/",
          "height": 256
        },
        "id": "YcMkKry1igma",
        "outputId": "7e1cc797-1810-4ad9-c1a5-94bbbd957c9a"
      },
      "execution_count": 38,
      "outputs": [
        {
          "output_type": "display_data",
          "data": {
            "text/plain": [
              "<Figure size 400x200 with 1 Axes>"
            ],
            "image/png": "[encoded data removed]"
          },
          "metadata": {}
        }
      ]
    },
    {
      "cell_type": "code",
      "source": [
        "print(f'Acurácia = {round(accuracy_score(y_test, y_pred3), 2)}')\n",
        "print(f'Recall = {round(recall_score(y_test, y_pred3), 2)}')\n",
        "print(f'Precision = {round(precision_score(y_test, y_pred3), 2)}')\n",
        "print(f'f1_score = {round(f1_score(y_test, y_pred3), 2)}')"
      ],
      "metadata": {
        "colab": {
          "base_uri": "https://localhost:8080/"
        },
        "id": "qI6Efw7l2QJ4",
        "outputId": "f6252f55-27e8-411d-cc52-5a8457ff7565"
      },
      "execution_count": 39,
      "outputs": [
        {
          "output_type": "stream",
          "name": "stdout",
          "text": [
            "Acurácia = 0.74\n",
            "Recall = 0.72\n",
            "Precision = 0.75\n",
            "f1_score = 0.73\n"
          ]
        }
      ]
    },
    {
      "cell_type": "code",
      "source": [
        "print(clf3.get_best_score())"
      ],
      "metadata": {
        "colab": {
          "base_uri": "https://localhost:8080/"
        },
        "id": "pb78dm1kj1Kl",
        "outputId": "89ae66a7-4ec2-4808-a101-47270012e75a"
      },
      "execution_count": 40,
      "outputs": [
        {
          "output_type": "stream",
          "name": "stdout",
          "text": [
            "{'learn': {'Accuracy': 0.7425351708297445, 'Logloss': 0.5072550545053073}}\n"
          ]
        }
      ]
    },
    {
      "cell_type": "code",
      "source": [
        "def plot_feature_importance(importance,names,model_type):\n",
        "\n",
        "    #Create arrays from feature importance and feature names\n",
        "    feature_importance = np.array(importance)\n",
        "    feature_names = np.array(names)\n",
        "\n",
        "    #Create a DataFrame using a Dictionary\n",
        "    data={'feature_names':feature_names,'feature_importance':feature_importance}\n",
        "    fi_df = pd.DataFrame(data)\n",
        "\n",
        "    #Sort the DataFrame in order decreasing feature importance\n",
        "    fi_df.sort_values(by=['feature_importance'], ascending=False,inplace=True)\n",
        "\n",
        "    #Define size of bar plot\n",
        "    plt.figure(figsize=(10,8))\n",
        "    #Plot Searborn bar chart\n",
        "    sns.barplot(x=fi_df['feature_importance'], y=fi_df['feature_names'])\n",
        "    #Add chart labels\n",
        "    plt.title(model_type + ' FEATURE IMPORTANCE')\n",
        "    plt.xlabel('FEATURE IMPORTANCE')\n",
        "    plt.ylabel('FEATURE NAMES')"
      ],
      "metadata": {
        "id": "Jlxb27-tnsl0"
      },
      "execution_count": 41,
      "outputs": []
    },
    {
      "cell_type": "code",
      "source": [
        "plot_feature_importance(clf3.get_feature_importance(), X_train.columns,'CATBOOST')"
      ],
      "metadata": {
        "colab": {
          "base_uri": "https://localhost:8080/",
          "height": 718
        },
        "id": "RV4qLe99peXp",
        "outputId": "f14d9b69-0b45-4015-fd92-c8ed15a38123"
      },
      "execution_count": 42,
      "outputs": [
        {
          "output_type": "display_data",
          "data": {
            "text/plain": [
              "<Figure size 1000x800 with 1 Axes>"
            ],
            "image/png": "[encoded data removed]"
          },
          "metadata": {}
        }
      ]
    },
    {
      "cell_type": "markdown",
      "source": [
        "# Rede Neural"
      ],
      "metadata": {
        "id": "iK9jzrMQsY2c"
      }
    },
    {
      "cell_type": "code",
      "source": [
        "# instalando bibliotecas\n",
        "!pip install optuna -q"
      ],
      "metadata": {
        "id": "CW-NiqTpyINt",
        "colab": {
          "base_uri": "https://localhost:8080/"
        },
        "outputId": "eed7e35c-d6ac-4d4a-ac67-15f764162ba1"
      },
      "execution_count": 43,
      "outputs": [
        {
          "output_type": "stream",
          "name": "stdout",
          "text": [
            "\u001b[2K     \u001b[90m━━━━━━━━━━━━━━━━━━━━━━━━━━━━━━━━━━━━━━━\u001b[0m \u001b[32m404.2/404.2 kB\u001b[0m \u001b[31m5.0 MB/s\u001b[0m eta \u001b[36m0:00:00\u001b[0m\n",
            "\u001b[2K     \u001b[90m━━━━━━━━━━━━━━━━━━━━━━━━━━━━━━━━━━━━━━━\u001b[0m \u001b[32m225.4/225.4 kB\u001b[0m \u001b[31m7.4 MB/s\u001b[0m eta \u001b[36m0:00:00\u001b[0m\n",
            "\u001b[2K     \u001b[90m━━━━━━━━━━━━━━━━━━━━━━━━━━━━━━━━━━━━━━━━\u001b[0m \u001b[32m78.7/78.7 kB\u001b[0m \u001b[31m8.2 MB/s\u001b[0m eta \u001b[36m0:00:00\u001b[0m\n",
            "\u001b[?25h"
          ]
        }
      ]
    },
    {
      "cell_type": "code",
      "source": [
        "# importando layers\n",
        "import keras\n",
        "from keras.models import Sequential\n",
        "from keras.layers import Dense, Dropout, BatchNormalization\n",
        "from keras.utils import to_categorical\n",
        "from keras.metrics import PrecisionAtRecall, Recall\n",
        "from keras.callbacks import EarlyStopping\n",
        "import optuna"
      ],
      "metadata": {
        "id": "0ZkH2rJCC1nu"
      },
      "execution_count": 44,
      "outputs": []
    },
    {
      "cell_type": "code",
      "source": [
        "# funcao para acompanhar a acuracia\n",
        "def plot_accuracy(history):\n",
        "    plt.figure(figsize=(8, 4))\n",
        "    plt.plot(history.history['accuracy'])\n",
        "    plt.plot(history.history['val_accuracy'])\n",
        "    plt.title('model accuracy')\n",
        "    plt.ylabel('accuracy')\n",
        "    plt.xlabel('epoch')\n",
        "    plt.legend(['train', 'test'], loc='upper left');"
      ],
      "metadata": {
        "id": "b4uvuoRMC1jO"
      },
      "execution_count": 45,
      "outputs": []
    },
    {
      "cell_type": "code",
      "source": [
        "# funcao para acompanhar a função de perda\n",
        "def plot_loss(history):\n",
        "    plt.figure(figsize=(8, 4))\n",
        "    plt.plot(history.history['loss'])\n",
        "    plt.plot(history.history['val_loss'])\n",
        "    plt.title('model loss')\n",
        "    plt.ylabel('loss')\n",
        "    plt.xlabel('epoch')\n",
        "    plt.legend(['train', 'test'], loc='upper left')"
      ],
      "metadata": {
        "id": "oMUcEZCMC1fO"
      },
      "execution_count": 46,
      "outputs": []
    },
    {
      "cell_type": "code",
      "source": [
        "# Definir a função objetivo para otimização\n",
        "def objective(trial):\n",
        "    # Definir os hiperparâmetros a serem otimizados\n",
        "    hidden_units = trial.suggest_int('hidden_units', 2, 50)\n",
        "    optimizer = trial.suggest_categorical('optimizer', ['adam', 'rmsprop'])\n",
        "    epochs = trial.suggest_int('epochs', 20, 50)\n",
        "    dropout_rate = trial.suggest_float('dropout_rate', 0.1, 0.9)\n",
        "\n",
        "    # Construir o modelo da rede neural\n",
        "    model = Sequential()\n",
        "    model.add(Dense(hidden_units, input_dim=40, activation='relu'))\n",
        "    model.add(Dense(hidden_units, activation='relu'))\n",
        "    model.add(Dropout(dropout_rate))\n",
        "    model.add(Dense(hidden_units, activation='relu'))\n",
        "    model.add(Dropout(dropout_rate))\n",
        "    model.add(Dense(1, activation='sigmoid'))\n",
        "    model.compile(loss='binary_crossentropy', optimizer=optimizer, metrics=['accuracy'])\n",
        "\n",
        "    # Treinar o modelo\n",
        "    model.fit(X_train, y_train, epochs=epochs, verbose=0)\n",
        "\n",
        "    # Fazer previsões nos dados de teste\n",
        "    y_pred = (model.predict(X_test) >= 0.5).astype(int)\n",
        "\n",
        "    # Calcular o f1-score\n",
        "    acc = accuracy_score(y_test, y_pred)\n",
        "\n",
        "    return acc"
      ],
      "metadata": {
        "id": "e8Sp2IoSC1b4"
      },
      "execution_count": 47,
      "outputs": []
    },
    {
      "cell_type": "code",
      "source": [
        "# Criar um estudo Optuna e otimizar os hiperparâmetros\n",
        "study = optuna.create_study(direction='maximize')\n",
        "study.optimize(objective, n_trials=15)\n",
        "\n",
        "# Imprimir os resultados\n",
        "print(f\"Melhores Hiperparâmetros: {study.best_trial.params}\")"
      ],
      "metadata": {
        "colab": {
          "base_uri": "https://localhost:8080/"
        },
        "id": "6T4asSnhC1Yq",
        "outputId": "46c1429c-b193-4b19-cd2f-04ef323f597c"
      },
      "execution_count": 48,
      "outputs": [
        {
          "output_type": "stream",
          "name": "stderr",
          "text": [
            "[I 2023-08-30 00:39:09,347] A new study created in memory with name: no-name-27158a72-e159-4fde-9766-1883245061b1\n"
          ]
        },
        {
          "output_type": "stream",
          "name": "stdout",
          "text": [
            "374/374 [==============================] - 1s 2ms/step\n"
          ]
        },
        {
          "output_type": "stream",
          "name": "stderr",
          "text": [
            "[I 2023-08-30 00:40:35,491] Trial 0 finished with value: 0.732373136828002 and parameters: {'hidden_units': 36, 'optimizer': 'adam', 'epochs': 30, 'dropout_rate': 0.1867135338026266}. Best is trial 0 with value: 0.732373136828002.\n"
          ]
        },
        {
          "output_type": "stream",
          "name": "stdout",
          "text": [
            "374/374 [==============================] - 1s 1ms/step\n"
          ]
        },
        {
          "output_type": "stream",
          "name": "stderr",
          "text": [
            "[I 2023-08-30 00:41:33,534] Trial 1 finished with value: 0.7245017584994138 and parameters: {'hidden_units': 6, 'optimizer': 'adam', 'epochs': 38, 'dropout_rate': 0.6182723374419536}. Best is trial 0 with value: 0.732373136828002.\n"
          ]
        },
        {
          "output_type": "stream",
          "name": "stdout",
          "text": [
            "374/374 [==============================] - 1s 2ms/step\n"
          ]
        },
        {
          "output_type": "stream",
          "name": "stderr",
          "text": [
            "[I 2023-08-30 00:42:22,511] Trial 2 finished with value: 0.7295260425389382 and parameters: {'hidden_units': 31, 'optimizer': 'rmsprop', 'epochs': 34, 'dropout_rate': 0.1420933604184235}. Best is trial 0 with value: 0.732373136828002.\n"
          ]
        },
        {
          "output_type": "stream",
          "name": "stdout",
          "text": [
            "374/374 [==============================] - 1s 1ms/step\n"
          ]
        },
        {
          "output_type": "stream",
          "name": "stderr",
          "text": [
            "[I 2023-08-30 00:43:21,661] Trial 3 finished with value: 0.734634064645788 and parameters: {'hidden_units': 32, 'optimizer': 'rmsprop', 'epochs': 42, 'dropout_rate': 0.6554780582462623}. Best is trial 3 with value: 0.734634064645788.\n"
          ]
        },
        {
          "output_type": "stream",
          "name": "stdout",
          "text": [
            "374/374 [==============================] - 1s 1ms/step\n"
          ]
        },
        {
          "output_type": "stream",
          "name": "stderr",
          "text": [
            "[I 2023-08-30 00:44:04,255] Trial 4 finished with value: 0.71545804722827 and parameters: {'hidden_units': 7, 'optimizer': 'rmsprop', 'epochs': 23, 'dropout_rate': 0.6684915383443479}. Best is trial 3 with value: 0.734634064645788.\n"
          ]
        },
        {
          "output_type": "stream",
          "name": "stdout",
          "text": [
            "374/374 [==============================] - 1s 1ms/step\n"
          ]
        },
        {
          "output_type": "stream",
          "name": "stderr",
          "text": [
            "[I 2023-08-30 00:45:28,088] Trial 5 finished with value: 0.7351364930497404 and parameters: {'hidden_units': 20, 'optimizer': 'rmsprop', 'epochs': 43, 'dropout_rate': 0.20795536268270087}. Best is trial 5 with value: 0.7351364930497404.\n"
          ]
        },
        {
          "output_type": "stream",
          "name": "stdout",
          "text": [
            "374/374 [==============================] - 1s 1ms/step\n"
          ]
        },
        {
          "output_type": "stream",
          "name": "stderr",
          "text": [
            "[I 2023-08-30 00:46:10,931] Trial 6 finished with value: 0.7388209680120583 and parameters: {'hidden_units': 36, 'optimizer': 'adam', 'epochs': 26, 'dropout_rate': 0.8553089218344463}. Best is trial 6 with value: 0.7388209680120583.\n"
          ]
        },
        {
          "output_type": "stream",
          "name": "stdout",
          "text": [
            "374/374 [==============================] - 1s 1ms/step\n"
          ]
        },
        {
          "output_type": "stream",
          "name": "stderr",
          "text": [
            "[I 2023-08-30 00:47:34,496] Trial 7 finished with value: 0.7340478981745101 and parameters: {'hidden_units': 49, 'optimizer': 'rmsprop', 'epochs': 33, 'dropout_rate': 0.5365654344389171}. Best is trial 6 with value: 0.7388209680120583.\n"
          ]
        },
        {
          "output_type": "stream",
          "name": "stdout",
          "text": [
            "374/374 [==============================] - 1s 1ms/step\n"
          ]
        },
        {
          "output_type": "stream",
          "name": "stderr",
          "text": [
            "[I 2023-08-30 00:48:58,791] Trial 8 finished with value: 0.7360576117903199 and parameters: {'hidden_units': 19, 'optimizer': 'adam', 'epochs': 42, 'dropout_rate': 0.5964055502702225}. Best is trial 6 with value: 0.7388209680120583.\n"
          ]
        },
        {
          "output_type": "stream",
          "name": "stdout",
          "text": [
            "374/374 [==============================] - 1s 1ms/step\n"
          ]
        },
        {
          "output_type": "stream",
          "name": "stderr",
          "text": [
            "[I 2023-08-30 00:49:35,880] Trial 9 finished with value: 0.7387372299447329 and parameters: {'hidden_units': 27, 'optimizer': 'rmsprop', 'epochs': 24, 'dropout_rate': 0.485835925242741}. Best is trial 6 with value: 0.7388209680120583.\n"
          ]
        },
        {
          "output_type": "stream",
          "name": "stdout",
          "text": [
            "374/374 [==============================] - 1s 1ms/step\n"
          ]
        },
        {
          "output_type": "stream",
          "name": "stderr",
          "text": [
            "[I 2023-08-30 00:50:53,278] Trial 10 finished with value: 0.7297772567409144 and parameters: {'hidden_units': 44, 'optimizer': 'adam', 'epochs': 50, 'dropout_rate': 0.8815479852988803}. Best is trial 6 with value: 0.7388209680120583.\n"
          ]
        },
        {
          "output_type": "stream",
          "name": "stdout",
          "text": [
            "374/374 [==============================] - 1s 1ms/step\n"
          ]
        },
        {
          "output_type": "stream",
          "name": "stderr",
          "text": [
            "[I 2023-08-30 00:51:36,787] Trial 11 finished with value: 0.7375648970021772 and parameters: {'hidden_units': 24, 'optimizer': 'adam', 'epochs': 20, 'dropout_rate': 0.40968949434089375}. Best is trial 6 with value: 0.7388209680120583.\n"
          ]
        },
        {
          "output_type": "stream",
          "name": "stdout",
          "text": [
            "374/374 [==============================] - 1s 1ms/step\n"
          ]
        },
        {
          "output_type": "stream",
          "name": "stderr",
          "text": [
            "[I 2023-08-30 00:52:15,436] Trial 12 finished with value: 0.7291910902696366 and parameters: {'hidden_units': 39, 'optimizer': 'rmsprop', 'epochs': 26, 'dropout_rate': 0.8874405958433627}. Best is trial 6 with value: 0.7388209680120583.\n"
          ]
        },
        {
          "output_type": "stream",
          "name": "stdout",
          "text": [
            "374/374 [==============================] - 1s 2ms/step\n"
          ]
        },
        {
          "output_type": "stream",
          "name": "stderr",
          "text": [
            "[I 2023-08-30 00:52:56,843] Trial 13 finished with value: 0.7356389214536928 and parameters: {'hidden_units': 27, 'optimizer': 'adam', 'epochs': 27, 'dropout_rate': 0.41895678814812076}. Best is trial 6 with value: 0.7388209680120583.\n"
          ]
        },
        {
          "output_type": "stream",
          "name": "stdout",
          "text": [
            "374/374 [==============================] - 1s 1ms/step\n"
          ]
        },
        {
          "output_type": "stream",
          "name": "stderr",
          "text": [
            "[I 2023-08-30 00:53:39,486] Trial 14 finished with value: 0.7201473789984927 and parameters: {'hidden_units': 13, 'optimizer': 'rmsprop', 'epochs': 21, 'dropout_rate': 0.7685470960694377}. Best is trial 6 with value: 0.7388209680120583.\n"
          ]
        },
        {
          "output_type": "stream",
          "name": "stdout",
          "text": [
            "Melhores Hiperparâmetros: {'hidden_units': 36, 'optimizer': 'adam', 'epochs': 26, 'dropout_rate': 0.8553089218344463}\n"
          ]
        }
      ]
    },
    {
      "cell_type": "code",
      "source": [
        "# treinando a rede neural com os melhores hiperparâmetros\n",
        "best_params = study.best_trial.params\n",
        "\n",
        "clf4 = Sequential()\n",
        "clf4.add(Dense(best_params['hidden_units'], input_dim=40, activation='relu'))\n",
        "clf4.add(Dense(best_params['hidden_units'], activation='relu'))\n",
        "clf4.add(Dropout(best_params['dropout_rate']))\n",
        "clf4.add(Dense(best_params['hidden_units'], activation='relu'))\n",
        "clf4.add(Dropout(best_params['dropout_rate']))\n",
        "clf4.add(Dense(1, activation='sigmoid'))\n",
        "clf4.compile(loss='binary_crossentropy', optimizer=best_params['optimizer'], metrics=['accuracy'])\n",
        "\n",
        "# callbacks\n",
        "callback = EarlyStopping(monitor='loss', patience=5, verbose=False)\n",
        "\n",
        "# Treinar o modelo com todos os dados de treinamento\n",
        "history = clf4.fit(X_train, y_train,\n",
        "                   epochs=best_params['epochs'],\n",
        "                   callbacks=[callback],\n",
        "                   validation_split = 0.20,\n",
        "                   verbose=False)\n",
        "\n",
        "# Fazer previsões com o modelo treinado\n",
        "y_pred4 = (clf4.predict(X_test) >= 0.5).astype(int)"
      ],
      "metadata": {
        "colab": {
          "base_uri": "https://localhost:8080/"
        },
        "id": "0EtnHYQuC1Vs",
        "outputId": "d7f9134b-5815-446d-c822-43061a0695ca"
      },
      "execution_count": 49,
      "outputs": [
        {
          "metadata": {
            "tags": null
          },
          "name": "stdout",
          "output_type": "stream",
          "text": [
            "374/374 [==============================] - 1s 1ms/step\n"
          ]
        }
      ]
    },
    {
      "cell_type": "code",
      "source": [
        "plot_accuracy(history)"
      ],
      "metadata": {
        "colab": {
          "base_uri": "https://localhost:8080/",
          "height": 410
        },
        "id": "ARnba0y2C1Si",
        "outputId": "527c489d-8261-4330-c106-c46a8fafd591"
      },
      "execution_count": 50,
      "outputs": [
        {
          "data": {
            "image/png": "[encoded data removed]",
            "text/plain": [
              "<Figure size 800x400 with 1 Axes>"
            ]
          },
          "metadata": {},
          "output_type": "display_data"
        }
      ]
    },
    {
      "cell_type": "code",
      "source": [
        "plot_loss(history)"
      ],
      "metadata": {
        "colab": {
          "base_uri": "https://localhost:8080/",
          "height": 410
        },
        "id": "YUVJcBjOC1Pc",
        "outputId": "2bec72c2-a0d7-400b-b0b9-fdf98e440894"
      },
      "execution_count": 51,
      "outputs": [
        {
          "data": {
            "image/png": "[encoded data removed]",
            "text/plain": [
              "<Figure size 800x400 with 1 Axes>"
            ]
          },
          "metadata": {},
          "output_type": "display_data"
        }
      ]
    },
    {
      "cell_type": "code",
      "source": [
        "matriz_confusao(y_test, y_pred4)"
      ],
      "metadata": {
        "colab": {
          "base_uri": "https://localhost:8080/",
          "height": 352
        },
        "id": "ynQ9qcAIDg73",
        "outputId": "6359a4ba-85b6-4f51-be98-81ceaa383ed6"
      },
      "execution_count": 52,
      "outputs": [
        {
          "data": {
            "image/png": "[encoded data removed]",
            "text/plain": [
              "<Figure size 800x300 with 4 Axes>"
            ]
          },
          "metadata": {},
          "output_type": "display_data"
        }
      ]
    },
    {
      "cell_type": "code",
      "source": [
        "# observando métricas por classe\n",
        "print(classification_report(y_test, y_pred4))"
      ],
      "metadata": {
        "colab": {
          "base_uri": "https://localhost:8080/"
        },
        "id": "74f8-jvTDgqU",
        "outputId": "9a2c53a7-efda-44c8-86d0-12e9f9b29df5"
      },
      "execution_count": 53,
      "outputs": [
        {
          "metadata": {
            "tags": null
          },
          "name": "stdout",
          "output_type": "stream",
          "text": [
            "              precision    recall  f1-score   support\n",
            "\n",
            "           0       0.71      0.81      0.75      5971\n",
            "           1       0.78      0.67      0.72      5971\n",
            "\n",
            "    accuracy                           0.74     11942\n",
            "   macro avg       0.74      0.74      0.74     11942\n",
            "weighted avg       0.74      0.74      0.74     11942\n",
            "\n"
          ]
        }
      ]
    },
    {
      "cell_type": "code",
      "source": [
        "# curva ROC\n",
        "logit_roc_auc = roc_auc_score(y_test, y_pred4)\n",
        "fpr, tpr, thresholds = roc_curve(y_test, clf4.predict(X_test))\n",
        "plt.figure(figsize=(4,2))\n",
        "plt.plot(fpr, tpr, label=f'área = {round(logit_roc_auc, 2)}')\n",
        "plt.plot([0, 1], [0, 1],'r--')\n",
        "plt.xlabel('Taxa de Falso Positivo')\n",
        "plt.ylabel('Taxa de Verdadeiro Positivo')\n",
        "plt.title('Curva ROC')\n",
        "plt.legend(loc=\"lower right\");"
      ],
      "metadata": {
        "colab": {
          "base_uri": "https://localhost:8080/",
          "height": 274
        },
        "id": "IcyBjxjzDgB6",
        "outputId": "509aad92-062a-4547-8417-8d6263c612ae"
      },
      "execution_count": 54,
      "outputs": [
        {
          "metadata": {
            "tags": null
          },
          "name": "stdout",
          "output_type": "stream",
          "text": [
            "374/374 [==============================] - 0s 1ms/step\n"
          ]
        },
        {
          "data": {
            "image/png": "[encoded data removed]",
            "text/plain": [
              "<Figure size 400x200 with 1 Axes>"
            ]
          },
          "metadata": {},
          "output_type": "display_data"
        }
      ]
    },
    {
      "cell_type": "code",
      "source": [
        "print(f'Acurácia = {round(accuracy_score(y_test, y_pred4), 2)}')\n",
        "print(f'Recall = {round(recall_score(y_test, y_pred4), 2)}')\n",
        "print(f'Precision = {round(precision_score(y_test, y_pred4), 2)}')\n",
        "print(f'f1_score = {round(f1_score(y_test, y_pred4), 2)}')"
      ],
      "metadata": {
        "id": "zQ7J3MdQKwSH",
        "colab": {
          "base_uri": "https://localhost:8080/"
        },
        "outputId": "2dd901e0-ad30-4ce6-87f0-60aee5950529"
      },
      "execution_count": 55,
      "outputs": [
        {
          "metadata": {
            "tags": null
          },
          "name": "stdout",
          "output_type": "stream",
          "text": [
            "Acurácia = 0.74\n",
            "Recall = 0.67\n",
            "Precision = 0.78\n",
            "f1_score = 0.72\n"
          ]
        }
      ]
    },
    {
      "cell_type": "code",
      "source": [],
      "metadata": {
        "id": "wPdQefrZmR8o"
      },
      "execution_count": 55,
      "outputs": []
    }
  ],
  "metadata": {
    "colab": {
      "provenance": []
    },
    "kernelspec": {
      "display_name": "Python 3 (ipykernel)",
      "language": "python",
      "name": "python3"
    },
    "language_info": {
      "codemirror_mode": {
        "name": "ipython",
        "version": 3
      },
      "file_extension": ".py",
      "mimetype": "text/x-python",
      "name": "python",
      "nbconvert_exporter": "python",
      "pygments_lexer": "ipython3",
      "version": "3.10.9"
    },
    "latex_envs": {
      "LaTeX_envs_menu_present": true,
      "autoclose": true,
      "autocomplete": true,
      "bibliofile": "biblio.bib",
      "cite_by": "apalike",
      "current_citInitial": 1,
      "eqLabelWithNumbers": true,
      "eqNumInitial": 1,
      "hotkeys": {
        "equation": "Ctrl-E",
        "itemize": "Ctrl-I"
      },
      "labels_anchors": false,
      "latex_user_defs": false,
      "report_style_numbering": false,
      "user_envs_cfg": false
    },
    "toc": {
      "base_numbering": 1,
      "nav_menu": {},
      "number_sections": true,
      "sideBar": true,
      "skip_h1_title": false,
      "title_cell": "Table of Contents",
      "title_sidebar": "Contents",
      "toc_cell": false,
      "toc_position": {},
      "toc_section_display": true,
      "toc_window_display": false
    },
    "varInspector": {
      "cols": {
        "lenName": 16,
        "lenType": 16,
        "lenVar": 40
      },
      "kernels_config": {
        "python": {
          "delete_cmd_postfix": "",
          "delete_cmd_prefix": "del ",
          "library": "var_list.py",
          "varRefreshCmd": "print(var_dic_list())"
        },
        "r": {
          "delete_cmd_postfix": ") ",
          "delete_cmd_prefix": "rm(",
          "library": "var_list.r",
          "varRefreshCmd": "cat(var_dic_list()) "
        }
      },
      "types_to_exclude": [
        "module",
        "function",
        "builtin_function_or_method",
        "instance",
        "_Feature"
      ],
      "window_display": false
    }
  },
  "nbformat": 4,
  "nbformat_minor": 0
}